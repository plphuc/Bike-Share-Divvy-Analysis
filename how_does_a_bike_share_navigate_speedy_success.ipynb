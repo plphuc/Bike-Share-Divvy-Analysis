{
  "metadata": {
    "kernelspec": {
      "language": "python",
      "display_name": "Python 3",
      "name": "python3"
    },
    "language_info": {
      "name": "python",
      "version": "3.7.12",
      "mimetype": "text/x-python",
      "codemirror_mode": {
        "name": "ipython",
        "version": 3
      },
      "pygments_lexer": "ipython3",
      "nbconvert_exporter": "python",
      "file_extension": ".py"
    },
    "colab": {
      "provenance": []
    }
  },
  "nbformat_minor": 0,
  "nbformat": 4,
  "cells": [
    {
      "cell_type": "markdown",
      "source": [
        "### The solution of Case Study 1 in Course 8 - Google DA Coursera"
      ],
      "metadata": {
        "id": "qX_P8b6BUQga"
      }
    },
    {
      "cell_type": "markdown",
      "source": [
        "## Import dependencies"
      ],
      "metadata": {
        "id": "oofEKakjUQge"
      }
    },
    {
      "cell_type": "code",
      "source": [
        "import pandas as pd\n",
        "import numpy as np\n",
        "import matplotlib.pyplot as plt\n",
        "import seaborn as sns\n",
        "import datetime as dt"
      ],
      "metadata": {
        "execution": {
          "iopub.status.busy": "2022-12-18T03:06:52.055266Z",
          "iopub.execute_input": "2022-12-18T03:06:52.055801Z",
          "iopub.status.idle": "2022-12-18T03:06:53.814649Z",
          "shell.execute_reply.started": "2022-12-18T03:06:52.055713Z",
          "shell.execute_reply": "2022-12-18T03:06:53.813591Z"
        },
        "trusted": true,
        "id": "-uaO794NUQge"
      },
      "execution_count": 112,
      "outputs": []
    },
    {
      "cell_type": "markdown",
      "source": [
        "## Import data"
      ],
      "metadata": {
        "id": "0XC-1nw_UQgf"
      }
    },
    {
      "cell_type": "code",
      "source": [
        "!pip install opendatasets"
      ],
      "metadata": {
        "colab": {
          "base_uri": "https://localhost:8080/"
        },
        "id": "ZzbkXBQRayrN",
        "outputId": "b2f4822f-a141-4846-d3ed-48992dfbc08b"
      },
      "execution_count": 113,
      "outputs": [
        {
          "output_type": "stream",
          "name": "stdout",
          "text": [
            "Looking in indexes: https://pypi.org/simple, https://us-python.pkg.dev/colab-wheels/public/simple/\n",
            "Requirement already satisfied: opendatasets in /usr/local/lib/python3.8/dist-packages (0.1.22)\n",
            "Requirement already satisfied: tqdm in /usr/local/lib/python3.8/dist-packages (from opendatasets) (4.64.1)\n",
            "Requirement already satisfied: kaggle in /usr/local/lib/python3.8/dist-packages (from opendatasets) (1.5.12)\n",
            "Requirement already satisfied: click in /usr/local/lib/python3.8/dist-packages (from opendatasets) (7.1.2)\n",
            "Requirement already satisfied: certifi in /usr/local/lib/python3.8/dist-packages (from kaggle->opendatasets) (2022.12.7)\n",
            "Requirement already satisfied: requests in /usr/local/lib/python3.8/dist-packages (from kaggle->opendatasets) (2.23.0)\n",
            "Requirement already satisfied: urllib3 in /usr/local/lib/python3.8/dist-packages (from kaggle->opendatasets) (1.24.3)\n",
            "Requirement already satisfied: python-dateutil in /usr/local/lib/python3.8/dist-packages (from kaggle->opendatasets) (2.8.2)\n",
            "Requirement already satisfied: python-slugify in /usr/local/lib/python3.8/dist-packages (from kaggle->opendatasets) (7.0.0)\n",
            "Requirement already satisfied: six>=1.10 in /usr/local/lib/python3.8/dist-packages (from kaggle->opendatasets) (1.15.0)\n",
            "Requirement already satisfied: text-unidecode>=1.3 in /usr/local/lib/python3.8/dist-packages (from python-slugify->kaggle->opendatasets) (1.3)\n",
            "Requirement already satisfied: chardet<4,>=3.0.2 in /usr/local/lib/python3.8/dist-packages (from requests->kaggle->opendatasets) (3.0.4)\n",
            "Requirement already satisfied: idna<3,>=2.5 in /usr/local/lib/python3.8/dist-packages (from requests->kaggle->opendatasets) (2.10)\n"
          ]
        }
      ]
    },
    {
      "cell_type": "code",
      "source": [
        "import json\n",
        "f = open(\"kaggle.json\")\n",
        "key = json.load(f)"
      ],
      "metadata": {
        "id": "M4cMZ2zMa9by"
      },
      "execution_count": 114,
      "outputs": []
    },
    {
      "cell_type": "code",
      "source": [
        "import opendatasets as od\n",
        "od.download(\"https://www.kaggle.com/datasets/andysantiago/cyclistics-data-april-2020-march-2021\")"
      ],
      "metadata": {
        "colab": {
          "base_uri": "https://localhost:8080/"
        },
        "id": "TTpz7EgyafKE",
        "outputId": "7d85dae2-8357-4e3d-dd59-23f5f363ef21"
      },
      "execution_count": 115,
      "outputs": [
        {
          "output_type": "stream",
          "name": "stdout",
          "text": [
            "Skipping, found downloaded files in \"./cyclistics-data-april-2020-march-2021\" (use force=True to force download)\n"
          ]
        }
      ]
    },
    {
      "cell_type": "code",
      "source": [
        "import os\n",
        "files = []\n",
        "for dirname, _, filenames in os.walk('/content/cyclistics-data-april-2020-march-2021'):\n",
        "    for filename in filenames:\n",
        "        files.append(os.path.join(dirname, filename))\n",
        "        \n",
        "files"
      ],
      "metadata": {
        "execution": {
          "iopub.status.busy": "2022-12-18T03:06:53.816818Z",
          "iopub.execute_input": "2022-12-18T03:06:53.817632Z",
          "iopub.status.idle": "2022-12-18T03:06:53.853860Z",
          "shell.execute_reply.started": "2022-12-18T03:06:53.817586Z",
          "shell.execute_reply": "2022-12-18T03:06:53.852937Z"
        },
        "trusted": true,
        "id": "f2Xzm-JuUQgg",
        "outputId": "599b24fe-c110-4615-cc6c-fe3b4db0f422",
        "colab": {
          "base_uri": "https://localhost:8080/"
        }
      },
      "execution_count": 116,
      "outputs": [
        {
          "output_type": "execute_result",
          "data": {
            "text/plain": [
              "['/content/cyclistics-data-april-2020-march-2021/202102-divvy-tripdata.csv',\n",
              " '/content/cyclistics-data-april-2020-march-2021/202007-divvy-tripdata.csv',\n",
              " '/content/cyclistics-data-april-2020-march-2021/202005-divvy-tripdata.csv',\n",
              " '/content/cyclistics-data-april-2020-march-2021/202011-divvy-tripdata.csv',\n",
              " '/content/cyclistics-data-april-2020-march-2021/202101-divvy-tripdata.csv',\n",
              " '/content/cyclistics-data-april-2020-march-2021/202103-divvy-tripdata.csv',\n",
              " '/content/cyclistics-data-april-2020-march-2021/202008-divvy-tripdata.csv',\n",
              " '/content/cyclistics-data-april-2020-march-2021/202004-divvy-tripdata.csv',\n",
              " '/content/cyclistics-data-april-2020-march-2021/202104-divvy-tripdata.csv',\n",
              " '/content/cyclistics-data-april-2020-march-2021/202006-divvy-tripdata.csv',\n",
              " '/content/cyclistics-data-april-2020-march-2021/202010-divvy-tripdata.csv',\n",
              " '/content/cyclistics-data-april-2020-march-2021/202009-divvy-tripdata.csv',\n",
              " '/content/cyclistics-data-april-2020-march-2021/202012-divvy-tripdata.csv']"
            ]
          },
          "metadata": {},
          "execution_count": 116
        }
      ]
    },
    {
      "cell_type": "code",
      "source": [
        "df = pd.concat((pd.read_csv(f) for f in files), ignore_index=True)\n",
        "df.head(5)"
      ],
      "metadata": {
        "execution": {
          "iopub.status.busy": "2022-12-18T03:06:53.861486Z",
          "iopub.execute_input": "2022-12-18T03:06:53.862220Z",
          "iopub.status.idle": "2022-12-18T03:07:18.470693Z",
          "shell.execute_reply.started": "2022-12-18T03:06:53.862184Z",
          "shell.execute_reply": "2022-12-18T03:07:18.469517Z"
        },
        "trusted": true,
        "id": "tZK5F4g_UQgh",
        "outputId": "5e91ff76-7687-4ead-c488-780c5cedbd83",
        "colab": {
          "base_uri": "https://localhost:8080/",
          "height": 444
        }
      },
      "execution_count": 117,
      "outputs": [
        {
          "output_type": "execute_result",
          "data": {
            "text/plain": [
              "            ride_id  rideable_type           started_at             ended_at  \\\n",
              "0  89E7AA6C29227EFF   classic_bike  2021-02-12 16:14:56  2021-02-12 16:21:43   \n",
              "1  0FEFDE2603568365   classic_bike  2021-02-14 17:52:38  2021-02-14 18:12:09   \n",
              "2  E6159D746B2DBB91  electric_bike  2021-02-09 19:10:18  2021-02-09 19:19:10   \n",
              "3  B32D3199F1C2E75B   classic_bike  2021-02-02 17:49:41  2021-02-02 17:54:06   \n",
              "4  83E463F23575F4BF  electric_bike  2021-02-23 15:07:23  2021-02-23 15:22:37   \n",
              "\n",
              "         start_station_name start_station_id            end_station_name  \\\n",
              "0  Glenwood Ave & Touhy Ave              525  Sheridan Rd & Columbia Ave   \n",
              "1  Glenwood Ave & Touhy Ave              525    Bosworth Ave & Howard St   \n",
              "2        Clark St & Lake St     KA1503000012      State St & Randolph St   \n",
              "3     Wood St & Chicago Ave              637     Honore St & Division St   \n",
              "4        State St & 33rd St            13216       Emerald Ave & 31st St   \n",
              "\n",
              "  end_station_id  start_lat  start_lng    end_lat    end_lng member_casual  \n",
              "0            660  42.012701 -87.666058  42.004583 -87.661406        member  \n",
              "1          16806  42.012701 -87.666058  42.019537 -87.669563        casual  \n",
              "2   TA1305000029  41.885795 -87.631101  41.884866 -87.627498        member  \n",
              "3   TA1305000034  41.895634 -87.672069  41.903119 -87.673935        member  \n",
              "4   TA1309000055  41.834733 -87.625827  41.838163 -87.645123        member  "
            ],
            "text/html": [
              "\n",
              "  <div id=\"df-aec43480-8488-4dc9-a01f-a3e36f292678\">\n",
              "    <div class=\"colab-df-container\">\n",
              "      <div>\n",
              "<style scoped>\n",
              "    .dataframe tbody tr th:only-of-type {\n",
              "        vertical-align: middle;\n",
              "    }\n",
              "\n",
              "    .dataframe tbody tr th {\n",
              "        vertical-align: top;\n",
              "    }\n",
              "\n",
              "    .dataframe thead th {\n",
              "        text-align: right;\n",
              "    }\n",
              "</style>\n",
              "<table border=\"1\" class=\"dataframe\">\n",
              "  <thead>\n",
              "    <tr style=\"text-align: right;\">\n",
              "      <th></th>\n",
              "      <th>ride_id</th>\n",
              "      <th>rideable_type</th>\n",
              "      <th>started_at</th>\n",
              "      <th>ended_at</th>\n",
              "      <th>start_station_name</th>\n",
              "      <th>start_station_id</th>\n",
              "      <th>end_station_name</th>\n",
              "      <th>end_station_id</th>\n",
              "      <th>start_lat</th>\n",
              "      <th>start_lng</th>\n",
              "      <th>end_lat</th>\n",
              "      <th>end_lng</th>\n",
              "      <th>member_casual</th>\n",
              "    </tr>\n",
              "  </thead>\n",
              "  <tbody>\n",
              "    <tr>\n",
              "      <th>0</th>\n",
              "      <td>89E7AA6C29227EFF</td>\n",
              "      <td>classic_bike</td>\n",
              "      <td>2021-02-12 16:14:56</td>\n",
              "      <td>2021-02-12 16:21:43</td>\n",
              "      <td>Glenwood Ave &amp; Touhy Ave</td>\n",
              "      <td>525</td>\n",
              "      <td>Sheridan Rd &amp; Columbia Ave</td>\n",
              "      <td>660</td>\n",
              "      <td>42.012701</td>\n",
              "      <td>-87.666058</td>\n",
              "      <td>42.004583</td>\n",
              "      <td>-87.661406</td>\n",
              "      <td>member</td>\n",
              "    </tr>\n",
              "    <tr>\n",
              "      <th>1</th>\n",
              "      <td>0FEFDE2603568365</td>\n",
              "      <td>classic_bike</td>\n",
              "      <td>2021-02-14 17:52:38</td>\n",
              "      <td>2021-02-14 18:12:09</td>\n",
              "      <td>Glenwood Ave &amp; Touhy Ave</td>\n",
              "      <td>525</td>\n",
              "      <td>Bosworth Ave &amp; Howard St</td>\n",
              "      <td>16806</td>\n",
              "      <td>42.012701</td>\n",
              "      <td>-87.666058</td>\n",
              "      <td>42.019537</td>\n",
              "      <td>-87.669563</td>\n",
              "      <td>casual</td>\n",
              "    </tr>\n",
              "    <tr>\n",
              "      <th>2</th>\n",
              "      <td>E6159D746B2DBB91</td>\n",
              "      <td>electric_bike</td>\n",
              "      <td>2021-02-09 19:10:18</td>\n",
              "      <td>2021-02-09 19:19:10</td>\n",
              "      <td>Clark St &amp; Lake St</td>\n",
              "      <td>KA1503000012</td>\n",
              "      <td>State St &amp; Randolph St</td>\n",
              "      <td>TA1305000029</td>\n",
              "      <td>41.885795</td>\n",
              "      <td>-87.631101</td>\n",
              "      <td>41.884866</td>\n",
              "      <td>-87.627498</td>\n",
              "      <td>member</td>\n",
              "    </tr>\n",
              "    <tr>\n",
              "      <th>3</th>\n",
              "      <td>B32D3199F1C2E75B</td>\n",
              "      <td>classic_bike</td>\n",
              "      <td>2021-02-02 17:49:41</td>\n",
              "      <td>2021-02-02 17:54:06</td>\n",
              "      <td>Wood St &amp; Chicago Ave</td>\n",
              "      <td>637</td>\n",
              "      <td>Honore St &amp; Division St</td>\n",
              "      <td>TA1305000034</td>\n",
              "      <td>41.895634</td>\n",
              "      <td>-87.672069</td>\n",
              "      <td>41.903119</td>\n",
              "      <td>-87.673935</td>\n",
              "      <td>member</td>\n",
              "    </tr>\n",
              "    <tr>\n",
              "      <th>4</th>\n",
              "      <td>83E463F23575F4BF</td>\n",
              "      <td>electric_bike</td>\n",
              "      <td>2021-02-23 15:07:23</td>\n",
              "      <td>2021-02-23 15:22:37</td>\n",
              "      <td>State St &amp; 33rd St</td>\n",
              "      <td>13216</td>\n",
              "      <td>Emerald Ave &amp; 31st St</td>\n",
              "      <td>TA1309000055</td>\n",
              "      <td>41.834733</td>\n",
              "      <td>-87.625827</td>\n",
              "      <td>41.838163</td>\n",
              "      <td>-87.645123</td>\n",
              "      <td>member</td>\n",
              "    </tr>\n",
              "  </tbody>\n",
              "</table>\n",
              "</div>\n",
              "      <button class=\"colab-df-convert\" onclick=\"convertToInteractive('df-aec43480-8488-4dc9-a01f-a3e36f292678')\"\n",
              "              title=\"Convert this dataframe to an interactive table.\"\n",
              "              style=\"display:none;\">\n",
              "        \n",
              "  <svg xmlns=\"http://www.w3.org/2000/svg\" height=\"24px\"viewBox=\"0 0 24 24\"\n",
              "       width=\"24px\">\n",
              "    <path d=\"M0 0h24v24H0V0z\" fill=\"none\"/>\n",
              "    <path d=\"M18.56 5.44l.94 2.06.94-2.06 2.06-.94-2.06-.94-.94-2.06-.94 2.06-2.06.94zm-11 1L8.5 8.5l.94-2.06 2.06-.94-2.06-.94L8.5 2.5l-.94 2.06-2.06.94zm10 10l.94 2.06.94-2.06 2.06-.94-2.06-.94-.94-2.06-.94 2.06-2.06.94z\"/><path d=\"M17.41 7.96l-1.37-1.37c-.4-.4-.92-.59-1.43-.59-.52 0-1.04.2-1.43.59L10.3 9.45l-7.72 7.72c-.78.78-.78 2.05 0 2.83L4 21.41c.39.39.9.59 1.41.59.51 0 1.02-.2 1.41-.59l7.78-7.78 2.81-2.81c.8-.78.8-2.07 0-2.86zM5.41 20L4 18.59l7.72-7.72 1.47 1.35L5.41 20z\"/>\n",
              "  </svg>\n",
              "      </button>\n",
              "      \n",
              "  <style>\n",
              "    .colab-df-container {\n",
              "      display:flex;\n",
              "      flex-wrap:wrap;\n",
              "      gap: 12px;\n",
              "    }\n",
              "\n",
              "    .colab-df-convert {\n",
              "      background-color: #E8F0FE;\n",
              "      border: none;\n",
              "      border-radius: 50%;\n",
              "      cursor: pointer;\n",
              "      display: none;\n",
              "      fill: #1967D2;\n",
              "      height: 32px;\n",
              "      padding: 0 0 0 0;\n",
              "      width: 32px;\n",
              "    }\n",
              "\n",
              "    .colab-df-convert:hover {\n",
              "      background-color: #E2EBFA;\n",
              "      box-shadow: 0px 1px 2px rgba(60, 64, 67, 0.3), 0px 1px 3px 1px rgba(60, 64, 67, 0.15);\n",
              "      fill: #174EA6;\n",
              "    }\n",
              "\n",
              "    [theme=dark] .colab-df-convert {\n",
              "      background-color: #3B4455;\n",
              "      fill: #D2E3FC;\n",
              "    }\n",
              "\n",
              "    [theme=dark] .colab-df-convert:hover {\n",
              "      background-color: #434B5C;\n",
              "      box-shadow: 0px 1px 3px 1px rgba(0, 0, 0, 0.15);\n",
              "      filter: drop-shadow(0px 1px 2px rgba(0, 0, 0, 0.3));\n",
              "      fill: #FFFFFF;\n",
              "    }\n",
              "  </style>\n",
              "\n",
              "      <script>\n",
              "        const buttonEl =\n",
              "          document.querySelector('#df-aec43480-8488-4dc9-a01f-a3e36f292678 button.colab-df-convert');\n",
              "        buttonEl.style.display =\n",
              "          google.colab.kernel.accessAllowed ? 'block' : 'none';\n",
              "\n",
              "        async function convertToInteractive(key) {\n",
              "          const element = document.querySelector('#df-aec43480-8488-4dc9-a01f-a3e36f292678');\n",
              "          const dataTable =\n",
              "            await google.colab.kernel.invokeFunction('convertToInteractive',\n",
              "                                                     [key], {});\n",
              "          if (!dataTable) return;\n",
              "\n",
              "          const docLinkHtml = 'Like what you see? Visit the ' +\n",
              "            '<a target=\"_blank\" href=https://colab.research.google.com/notebooks/data_table.ipynb>data table notebook</a>'\n",
              "            + ' to learn more about interactive tables.';\n",
              "          element.innerHTML = '';\n",
              "          dataTable['output_type'] = 'display_data';\n",
              "          await google.colab.output.renderOutput(dataTable, element);\n",
              "          const docLink = document.createElement('div');\n",
              "          docLink.innerHTML = docLinkHtml;\n",
              "          element.appendChild(docLink);\n",
              "        }\n",
              "      </script>\n",
              "    </div>\n",
              "  </div>\n",
              "  "
            ]
          },
          "metadata": {},
          "execution_count": 117
        }
      ]
    },
    {
      "cell_type": "code",
      "source": [
        "# Number of rows, columns\n",
        "print(f\"Number of rows: {df.shape[0]}\")\n",
        "print(f\"Number of columns: {df.shape[1]}\")"
      ],
      "metadata": {
        "colab": {
          "base_uri": "https://localhost:8080/"
        },
        "id": "TSBy_AGwfJYG",
        "outputId": "9dcb5732-b571-4135-8fb9-cde395804f6c"
      },
      "execution_count": 118,
      "outputs": [
        {
          "output_type": "stream",
          "name": "stdout",
          "text": [
            "Number of rows: 3826978\n",
            "Number of columns: 13\n"
          ]
        }
      ]
    },
    {
      "cell_type": "code",
      "source": [
        "# Number of duplicated rows\n",
        "print(f'Number of duplicated rows: {sum(df.duplicated())}')"
      ],
      "metadata": {
        "colab": {
          "base_uri": "https://localhost:8080/"
        },
        "id": "EIGjS8tagQoL",
        "outputId": "80078f02-2cd8-4188-96a7-1947993664a2"
      },
      "execution_count": 119,
      "outputs": [
        {
          "output_type": "stream",
          "name": "stdout",
          "text": [
            "Number of duplicated rows: 0\n"
          ]
        }
      ]
    },
    {
      "cell_type": "code",
      "source": [
        "df.info()"
      ],
      "metadata": {
        "colab": {
          "base_uri": "https://localhost:8080/"
        },
        "id": "MGouna5LgTX7",
        "outputId": "b157ee16-0a68-4f86-82a0-6416f54d2475"
      },
      "execution_count": 120,
      "outputs": [
        {
          "output_type": "stream",
          "name": "stdout",
          "text": [
            "<class 'pandas.core.frame.DataFrame'>\n",
            "RangeIndex: 3826978 entries, 0 to 3826977\n",
            "Data columns (total 13 columns):\n",
            " #   Column              Dtype  \n",
            "---  ------              -----  \n",
            " 0   ride_id             object \n",
            " 1   rideable_type       object \n",
            " 2   started_at          object \n",
            " 3   ended_at            object \n",
            " 4   start_station_name  object \n",
            " 5   start_station_id    object \n",
            " 6   end_station_name    object \n",
            " 7   end_station_id      object \n",
            " 8   start_lat           float64\n",
            " 9   start_lng           float64\n",
            " 10  end_lat             float64\n",
            " 11  end_lng             float64\n",
            " 12  member_casual       object \n",
            "dtypes: float64(4), object(9)\n",
            "memory usage: 379.6+ MB\n"
          ]
        }
      ]
    },
    {
      "cell_type": "code",
      "source": [
        "# Number of null rows in each columns\n",
        "df.isnull().sum()"
      ],
      "metadata": {
        "colab": {
          "base_uri": "https://localhost:8080/"
        },
        "id": "CumQMr2XhNar",
        "outputId": "72fe0f30-d639-4664-b427-ce526d1ae0f5"
      },
      "execution_count": 121,
      "outputs": [
        {
          "output_type": "execute_result",
          "data": {
            "text/plain": [
              "ride_id                    0\n",
              "rideable_type              0\n",
              "started_at                 0\n",
              "ended_at                   0\n",
              "start_station_name    148231\n",
              "start_station_id      148857\n",
              "end_station_name      171416\n",
              "end_station_id        171877\n",
              "start_lat                  0\n",
              "start_lng                  0\n",
              "end_lat                 5005\n",
              "end_lng                 5005\n",
              "member_casual              0\n",
              "dtype: int64"
            ]
          },
          "metadata": {},
          "execution_count": 121
        }
      ]
    },
    {
      "cell_type": "markdown",
      "source": [
        "## Preprocessing"
      ],
      "metadata": {
        "id": "fFu_NNNJfb2N"
      }
    },
    {
      "cell_type": "code",
      "source": [
        "# Remove null rows\n",
        "df.dropna(inplace = True)\n",
        "df.isnull().sum()"
      ],
      "metadata": {
        "colab": {
          "base_uri": "https://localhost:8080/"
        },
        "id": "4xpNj3mpFMN7",
        "outputId": "33a8f798-fe68-44a5-c278-87b77f7f93ca"
      },
      "execution_count": 122,
      "outputs": [
        {
          "output_type": "execute_result",
          "data": {
            "text/plain": [
              "ride_id               0\n",
              "rideable_type         0\n",
              "started_at            0\n",
              "ended_at              0\n",
              "start_station_name    0\n",
              "start_station_id      0\n",
              "end_station_name      0\n",
              "end_station_id        0\n",
              "start_lat             0\n",
              "start_lng             0\n",
              "end_lat               0\n",
              "end_lng               0\n",
              "member_casual         0\n",
              "dtype: int64"
            ]
          },
          "metadata": {},
          "execution_count": 122
        }
      ]
    },
    {
      "cell_type": "code",
      "source": [
        "# Remove start_lat, end_lat, start_lng, end_lng as this data was dropped beginning in 2020 (as explaining in script)\n",
        "df.drop(columns = ['start_lat','start_lng','end_lat','end_lng'], inplace = True)"
      ],
      "metadata": {
        "id": "mWAm27tvicFf"
      },
      "execution_count": 123,
      "outputs": []
    },
    {
      "cell_type": "code",
      "source": [
        "# Convert ended_at and started_at to datetime\n",
        "df['ended_at'] = pd.to_datetime(df['ended_at'])\n",
        "df['started_at'] = pd.to_datetime(df['started_at'])"
      ],
      "metadata": {
        "execution": {
          "iopub.status.busy": "2022-12-18T03:07:18.475214Z",
          "iopub.execute_input": "2022-12-18T03:07:18.475569Z",
          "iopub.status.idle": "2022-12-18T03:07:20.310110Z",
          "shell.execute_reply.started": "2022-12-18T03:07:18.475499Z",
          "shell.execute_reply": "2022-12-18T03:07:20.308871Z"
        },
        "trusted": true,
        "id": "G27Ir5jFUQgh"
      },
      "execution_count": 124,
      "outputs": []
    },
    {
      "cell_type": "code",
      "source": [
        "# Calculate the range of each ride\n",
        "df['ride_length'] = df['ended_at'] - df['started_at']\n",
        "df['ride_length']"
      ],
      "metadata": {
        "execution": {
          "iopub.status.busy": "2022-12-18T03:07:20.311753Z",
          "iopub.execute_input": "2022-12-18T03:07:20.312134Z",
          "iopub.status.idle": "2022-12-18T03:07:20.397599Z",
          "shell.execute_reply.started": "2022-12-18T03:07:20.312091Z",
          "shell.execute_reply": "2022-12-18T03:07:20.394443Z"
        },
        "trusted": true,
        "id": "btrWjgAnUQgh",
        "outputId": "eccda046-b942-4ba7-e977-f85d182309e3",
        "colab": {
          "base_uri": "https://localhost:8080/"
        }
      },
      "execution_count": 125,
      "outputs": [
        {
          "output_type": "execute_result",
          "data": {
            "text/plain": [
              "0         0 days 00:06:47\n",
              "1         0 days 00:19:31\n",
              "2         0 days 00:08:52\n",
              "3         0 days 00:04:25\n",
              "4         0 days 00:15:14\n",
              "                ...      \n",
              "3826973   0 days 00:03:48\n",
              "3826974   0 days 00:03:33\n",
              "3826975   0 days 00:08:30\n",
              "3826976   0 days 00:03:01\n",
              "3826977   0 days 00:03:32\n",
              "Name: ride_length, Length: 3592898, dtype: timedelta64[ns]"
            ]
          },
          "metadata": {},
          "execution_count": 125
        }
      ]
    },
    {
      "cell_type": "code",
      "source": [
        "# There are some rides where tripduration shows up as negative, including several hundred rides where \n",
        "# Divvy took bikes out of circulation for Quality Control reasons. We will want to delete these rides\n",
        "df['days'] = df['ride_length'].apply(lambda x: x.days)\n",
        "df = df[df['days']>=0]"
      ],
      "metadata": {
        "execution": {
          "iopub.status.busy": "2022-12-18T03:07:20.398906Z",
          "iopub.execute_input": "2022-12-18T03:07:20.399544Z",
          "iopub.status.idle": "2022-12-18T03:07:46.091048Z",
          "shell.execute_reply.started": "2022-12-18T03:07:20.399490Z",
          "shell.execute_reply": "2022-12-18T03:07:46.089922Z"
        },
        "trusted": true,
        "id": "IyOT_BT3UQgi"
      },
      "execution_count": 126,
      "outputs": []
    },
    {
      "cell_type": "code",
      "source": [
        "def time_to_minutes(td):\n",
        "#     hours = td.days*24 +  td.seconds // 3600\n",
        "#     minutes = (td.seconds%3600)//60\n",
        "#     seconds = (td.seconds%3600)%60\n",
        "    return round(td.days*60*24 + td.seconds/60,3)"
      ],
      "metadata": {
        "execution": {
          "iopub.status.busy": "2022-12-18T03:07:46.092772Z",
          "iopub.execute_input": "2022-12-18T03:07:46.093159Z",
          "iopub.status.idle": "2022-12-18T03:07:46.099217Z",
          "shell.execute_reply.started": "2022-12-18T03:07:46.093122Z",
          "shell.execute_reply": "2022-12-18T03:07:46.097972Z"
        },
        "trusted": true,
        "id": "3fYR4PpvUQgj"
      },
      "execution_count": 127,
      "outputs": []
    },
    {
      "cell_type": "code",
      "source": [
        "# Seconds does not take number of days\n",
        "# Convert ride_length to minutes\n",
        "df['ride_length'] = df['ride_length'].apply(lambda x: time_to_minutes(x))"
      ],
      "metadata": {
        "execution": {
          "iopub.status.busy": "2022-12-18T03:07:46.101107Z",
          "iopub.execute_input": "2022-12-18T03:07:46.101569Z",
          "iopub.status.idle": "2022-12-18T03:08:10.981928Z",
          "shell.execute_reply.started": "2022-12-18T03:07:46.101531Z",
          "shell.execute_reply": "2022-12-18T03:08:10.980960Z"
        },
        "trusted": true,
        "id": "NRjgROCfUQgj"
      },
      "execution_count": 128,
      "outputs": []
    },
    {
      "cell_type": "code",
      "source": [
        "# Drop rows which ride_length equals 0\n",
        "df = df[df['ride_length'] > 1]"
      ],
      "metadata": {
        "id": "5GppD6VDMn6I"
      },
      "execution_count": 129,
      "outputs": []
    },
    {
      "cell_type": "code",
      "source": [
        "# Monday: 0, Sunday: 6\n",
        "df['day_of_week'] = df['started_at'].apply(lambda x: x.weekday()) "
      ],
      "metadata": {
        "execution": {
          "iopub.status.busy": "2022-12-18T03:08:10.996024Z",
          "iopub.execute_input": "2022-12-18T03:08:10.997739Z",
          "iopub.status.idle": "2022-12-18T03:08:26.679349Z",
          "shell.execute_reply.started": "2022-12-18T03:08:10.997705Z",
          "shell.execute_reply": "2022-12-18T03:08:26.678343Z"
        },
        "trusted": true,
        "id": "0_kHgszOUQgk"
      },
      "execution_count": 130,
      "outputs": []
    },
    {
      "cell_type": "code",
      "source": [
        "# Add day, month, year columns of started_at\n",
        "df['day'] = df['started_at'].apply(lambda x: x.day)\n",
        "df['month'] = df['started_at'].apply(lambda x: x.month)\n",
        "df['year'] = df['started_at'].apply(lambda x: x.year)"
      ],
      "metadata": {
        "id": "Nxon538tcKmH"
      },
      "execution_count": 131,
      "outputs": []
    },
    {
      "cell_type": "code",
      "source": [
        "df['date'] = df['started_at'].apply(lambda x: x.date())\n",
        "df['date'] = pd.to_datetime(df['date'])"
      ],
      "metadata": {
        "id": "BzHotUODY2Q_"
      },
      "execution_count": 161,
      "outputs": []
    },
    {
      "cell_type": "code",
      "source": [
        "df.info()"
      ],
      "metadata": {
        "colab": {
          "base_uri": "https://localhost:8080/"
        },
        "id": "Mta4MiEBNOhz",
        "outputId": "528906fe-5e1f-4d36-f7c8-70e48a9488c0"
      },
      "execution_count": 165,
      "outputs": [
        {
          "output_type": "stream",
          "name": "stdout",
          "text": [
            "<class 'pandas.core.frame.DataFrame'>\n",
            "Int64Index: 3535506 entries, 0 to 3826977\n",
            "Data columns (total 16 columns):\n",
            " #   Column              Dtype         \n",
            "---  ------              -----         \n",
            " 0   ride_id             object        \n",
            " 1   rideable_type       object        \n",
            " 2   started_at          datetime64[ns]\n",
            " 3   ended_at            datetime64[ns]\n",
            " 4   start_station_name  object        \n",
            " 5   start_station_id    object        \n",
            " 6   end_station_name    object        \n",
            " 7   end_station_id      object        \n",
            " 8   member_casual       object        \n",
            " 9   ride_length         float64       \n",
            " 10  days                int64         \n",
            " 11  day_of_week         int64         \n",
            " 12  day                 int64         \n",
            " 13  month               int64         \n",
            " 14  year                int64         \n",
            " 15  date                datetime64[ns]\n",
            "dtypes: datetime64[ns](3), float64(1), int64(5), object(7)\n",
            "memory usage: 458.6+ MB\n"
          ]
        }
      ]
    },
    {
      "cell_type": "code",
      "source": [
        "df"
      ],
      "metadata": {
        "colab": {
          "base_uri": "https://localhost:8080/",
          "height": 835
        },
        "id": "6NuTeSG4VKd7",
        "outputId": "6b9c70c0-6338-468a-ffa9-8cf5f54e0cd2"
      },
      "execution_count": 164,
      "outputs": [
        {
          "output_type": "execute_result",
          "data": {
            "text/plain": [
              "                  ride_id  rideable_type          started_at  \\\n",
              "0        89E7AA6C29227EFF   classic_bike 2021-02-12 16:14:56   \n",
              "1        0FEFDE2603568365   classic_bike 2021-02-14 17:52:38   \n",
              "2        E6159D746B2DBB91  electric_bike 2021-02-09 19:10:18   \n",
              "3        B32D3199F1C2E75B   classic_bike 2021-02-02 17:49:41   \n",
              "4        83E463F23575F4BF  electric_bike 2021-02-23 15:07:23   \n",
              "...                   ...            ...                 ...   \n",
              "3826973  4631EE956BCEA738   classic_bike 2020-12-19 13:59:33   \n",
              "3826974  D17CBEDEA8DBDFF6  electric_bike 2020-12-20 15:48:41   \n",
              "3826975  447A6C67E9AF962E    docked_bike 2020-12-02 16:59:58   \n",
              "3826976  F558C17E95751C62  electric_bike 2020-12-20 18:06:52   \n",
              "3826977  E1888F4B274EEA12  electric_bike 2020-12-03 09:43:42   \n",
              "\n",
              "                   ended_at        start_station_name start_station_id  \\\n",
              "0       2021-02-12 16:21:43  Glenwood Ave & Touhy Ave              525   \n",
              "1       2021-02-14 18:12:09  Glenwood Ave & Touhy Ave              525   \n",
              "2       2021-02-09 19:19:10        Clark St & Lake St     KA1503000012   \n",
              "3       2021-02-02 17:54:06     Wood St & Chicago Ave              637   \n",
              "4       2021-02-23 15:22:37        State St & 33rd St            13216   \n",
              "...                     ...                       ...              ...   \n",
              "3826973 2020-12-19 14:03:21      Rhodes Ave & 32nd St            13215   \n",
              "3826974 2020-12-20 15:52:14      Rhodes Ave & 32nd St            13215   \n",
              "3826975 2020-12-02 17:08:28      Rhodes Ave & 32nd St            13215   \n",
              "3826976 2020-12-20 18:09:53      Rhodes Ave & 32nd St            13215   \n",
              "3826977 2020-12-03 09:47:14      Rhodes Ave & 32nd St            13215   \n",
              "\n",
              "                   end_station_name end_station_id member_casual  ride_length  \\\n",
              "0        Sheridan Rd & Columbia Ave            660        member        6.783   \n",
              "1          Bosworth Ave & Howard St          16806        casual       19.517   \n",
              "2            State St & Randolph St   TA1305000029        member        8.867   \n",
              "3           Honore St & Division St   TA1305000034        member        4.417   \n",
              "4             Emerald Ave & 31st St   TA1309000055        member       15.233   \n",
              "...                             ...            ...           ...          ...   \n",
              "3826973       Indiana Ave & 31st St   TA1308000036        casual        3.800   \n",
              "3826974       Indiana Ave & 31st St   TA1308000036        member        3.550   \n",
              "3826975       Indiana Ave & 31st St   TA1308000036        member        8.500   \n",
              "3826976       Indiana Ave & 31st St   TA1308000036        member        3.017   \n",
              "3826977       Indiana Ave & 31st St   TA1308000036        member        3.533   \n",
              "\n",
              "         days  day_of_week  day  month  year       date  \n",
              "0           0            4   12      2  2021 2021-02-12  \n",
              "1           0            6   14      2  2021 2021-02-14  \n",
              "2           0            1    9      2  2021 2021-02-09  \n",
              "3           0            1    2      2  2021 2021-02-02  \n",
              "4           0            1   23      2  2021 2021-02-23  \n",
              "...       ...          ...  ...    ...   ...        ...  \n",
              "3826973     0            5   19     12  2020 2020-12-19  \n",
              "3826974     0            6   20     12  2020 2020-12-20  \n",
              "3826975     0            2    2     12  2020 2020-12-02  \n",
              "3826976     0            6   20     12  2020 2020-12-20  \n",
              "3826977     0            3    3     12  2020 2020-12-03  \n",
              "\n",
              "[3535506 rows x 16 columns]"
            ],
            "text/html": [
              "\n",
              "  <div id=\"df-20d0e313-75f9-4586-9a09-7df14b0d1364\">\n",
              "    <div class=\"colab-df-container\">\n",
              "      <div>\n",
              "<style scoped>\n",
              "    .dataframe tbody tr th:only-of-type {\n",
              "        vertical-align: middle;\n",
              "    }\n",
              "\n",
              "    .dataframe tbody tr th {\n",
              "        vertical-align: top;\n",
              "    }\n",
              "\n",
              "    .dataframe thead th {\n",
              "        text-align: right;\n",
              "    }\n",
              "</style>\n",
              "<table border=\"1\" class=\"dataframe\">\n",
              "  <thead>\n",
              "    <tr style=\"text-align: right;\">\n",
              "      <th></th>\n",
              "      <th>ride_id</th>\n",
              "      <th>rideable_type</th>\n",
              "      <th>started_at</th>\n",
              "      <th>ended_at</th>\n",
              "      <th>start_station_name</th>\n",
              "      <th>start_station_id</th>\n",
              "      <th>end_station_name</th>\n",
              "      <th>end_station_id</th>\n",
              "      <th>member_casual</th>\n",
              "      <th>ride_length</th>\n",
              "      <th>days</th>\n",
              "      <th>day_of_week</th>\n",
              "      <th>day</th>\n",
              "      <th>month</th>\n",
              "      <th>year</th>\n",
              "      <th>date</th>\n",
              "    </tr>\n",
              "  </thead>\n",
              "  <tbody>\n",
              "    <tr>\n",
              "      <th>0</th>\n",
              "      <td>89E7AA6C29227EFF</td>\n",
              "      <td>classic_bike</td>\n",
              "      <td>2021-02-12 16:14:56</td>\n",
              "      <td>2021-02-12 16:21:43</td>\n",
              "      <td>Glenwood Ave &amp; Touhy Ave</td>\n",
              "      <td>525</td>\n",
              "      <td>Sheridan Rd &amp; Columbia Ave</td>\n",
              "      <td>660</td>\n",
              "      <td>member</td>\n",
              "      <td>6.783</td>\n",
              "      <td>0</td>\n",
              "      <td>4</td>\n",
              "      <td>12</td>\n",
              "      <td>2</td>\n",
              "      <td>2021</td>\n",
              "      <td>2021-02-12</td>\n",
              "    </tr>\n",
              "    <tr>\n",
              "      <th>1</th>\n",
              "      <td>0FEFDE2603568365</td>\n",
              "      <td>classic_bike</td>\n",
              "      <td>2021-02-14 17:52:38</td>\n",
              "      <td>2021-02-14 18:12:09</td>\n",
              "      <td>Glenwood Ave &amp; Touhy Ave</td>\n",
              "      <td>525</td>\n",
              "      <td>Bosworth Ave &amp; Howard St</td>\n",
              "      <td>16806</td>\n",
              "      <td>casual</td>\n",
              "      <td>19.517</td>\n",
              "      <td>0</td>\n",
              "      <td>6</td>\n",
              "      <td>14</td>\n",
              "      <td>2</td>\n",
              "      <td>2021</td>\n",
              "      <td>2021-02-14</td>\n",
              "    </tr>\n",
              "    <tr>\n",
              "      <th>2</th>\n",
              "      <td>E6159D746B2DBB91</td>\n",
              "      <td>electric_bike</td>\n",
              "      <td>2021-02-09 19:10:18</td>\n",
              "      <td>2021-02-09 19:19:10</td>\n",
              "      <td>Clark St &amp; Lake St</td>\n",
              "      <td>KA1503000012</td>\n",
              "      <td>State St &amp; Randolph St</td>\n",
              "      <td>TA1305000029</td>\n",
              "      <td>member</td>\n",
              "      <td>8.867</td>\n",
              "      <td>0</td>\n",
              "      <td>1</td>\n",
              "      <td>9</td>\n",
              "      <td>2</td>\n",
              "      <td>2021</td>\n",
              "      <td>2021-02-09</td>\n",
              "    </tr>\n",
              "    <tr>\n",
              "      <th>3</th>\n",
              "      <td>B32D3199F1C2E75B</td>\n",
              "      <td>classic_bike</td>\n",
              "      <td>2021-02-02 17:49:41</td>\n",
              "      <td>2021-02-02 17:54:06</td>\n",
              "      <td>Wood St &amp; Chicago Ave</td>\n",
              "      <td>637</td>\n",
              "      <td>Honore St &amp; Division St</td>\n",
              "      <td>TA1305000034</td>\n",
              "      <td>member</td>\n",
              "      <td>4.417</td>\n",
              "      <td>0</td>\n",
              "      <td>1</td>\n",
              "      <td>2</td>\n",
              "      <td>2</td>\n",
              "      <td>2021</td>\n",
              "      <td>2021-02-02</td>\n",
              "    </tr>\n",
              "    <tr>\n",
              "      <th>4</th>\n",
              "      <td>83E463F23575F4BF</td>\n",
              "      <td>electric_bike</td>\n",
              "      <td>2021-02-23 15:07:23</td>\n",
              "      <td>2021-02-23 15:22:37</td>\n",
              "      <td>State St &amp; 33rd St</td>\n",
              "      <td>13216</td>\n",
              "      <td>Emerald Ave &amp; 31st St</td>\n",
              "      <td>TA1309000055</td>\n",
              "      <td>member</td>\n",
              "      <td>15.233</td>\n",
              "      <td>0</td>\n",
              "      <td>1</td>\n",
              "      <td>23</td>\n",
              "      <td>2</td>\n",
              "      <td>2021</td>\n",
              "      <td>2021-02-23</td>\n",
              "    </tr>\n",
              "    <tr>\n",
              "      <th>...</th>\n",
              "      <td>...</td>\n",
              "      <td>...</td>\n",
              "      <td>...</td>\n",
              "      <td>...</td>\n",
              "      <td>...</td>\n",
              "      <td>...</td>\n",
              "      <td>...</td>\n",
              "      <td>...</td>\n",
              "      <td>...</td>\n",
              "      <td>...</td>\n",
              "      <td>...</td>\n",
              "      <td>...</td>\n",
              "      <td>...</td>\n",
              "      <td>...</td>\n",
              "      <td>...</td>\n",
              "      <td>...</td>\n",
              "    </tr>\n",
              "    <tr>\n",
              "      <th>3826973</th>\n",
              "      <td>4631EE956BCEA738</td>\n",
              "      <td>classic_bike</td>\n",
              "      <td>2020-12-19 13:59:33</td>\n",
              "      <td>2020-12-19 14:03:21</td>\n",
              "      <td>Rhodes Ave &amp; 32nd St</td>\n",
              "      <td>13215</td>\n",
              "      <td>Indiana Ave &amp; 31st St</td>\n",
              "      <td>TA1308000036</td>\n",
              "      <td>casual</td>\n",
              "      <td>3.800</td>\n",
              "      <td>0</td>\n",
              "      <td>5</td>\n",
              "      <td>19</td>\n",
              "      <td>12</td>\n",
              "      <td>2020</td>\n",
              "      <td>2020-12-19</td>\n",
              "    </tr>\n",
              "    <tr>\n",
              "      <th>3826974</th>\n",
              "      <td>D17CBEDEA8DBDFF6</td>\n",
              "      <td>electric_bike</td>\n",
              "      <td>2020-12-20 15:48:41</td>\n",
              "      <td>2020-12-20 15:52:14</td>\n",
              "      <td>Rhodes Ave &amp; 32nd St</td>\n",
              "      <td>13215</td>\n",
              "      <td>Indiana Ave &amp; 31st St</td>\n",
              "      <td>TA1308000036</td>\n",
              "      <td>member</td>\n",
              "      <td>3.550</td>\n",
              "      <td>0</td>\n",
              "      <td>6</td>\n",
              "      <td>20</td>\n",
              "      <td>12</td>\n",
              "      <td>2020</td>\n",
              "      <td>2020-12-20</td>\n",
              "    </tr>\n",
              "    <tr>\n",
              "      <th>3826975</th>\n",
              "      <td>447A6C67E9AF962E</td>\n",
              "      <td>docked_bike</td>\n",
              "      <td>2020-12-02 16:59:58</td>\n",
              "      <td>2020-12-02 17:08:28</td>\n",
              "      <td>Rhodes Ave &amp; 32nd St</td>\n",
              "      <td>13215</td>\n",
              "      <td>Indiana Ave &amp; 31st St</td>\n",
              "      <td>TA1308000036</td>\n",
              "      <td>member</td>\n",
              "      <td>8.500</td>\n",
              "      <td>0</td>\n",
              "      <td>2</td>\n",
              "      <td>2</td>\n",
              "      <td>12</td>\n",
              "      <td>2020</td>\n",
              "      <td>2020-12-02</td>\n",
              "    </tr>\n",
              "    <tr>\n",
              "      <th>3826976</th>\n",
              "      <td>F558C17E95751C62</td>\n",
              "      <td>electric_bike</td>\n",
              "      <td>2020-12-20 18:06:52</td>\n",
              "      <td>2020-12-20 18:09:53</td>\n",
              "      <td>Rhodes Ave &amp; 32nd St</td>\n",
              "      <td>13215</td>\n",
              "      <td>Indiana Ave &amp; 31st St</td>\n",
              "      <td>TA1308000036</td>\n",
              "      <td>member</td>\n",
              "      <td>3.017</td>\n",
              "      <td>0</td>\n",
              "      <td>6</td>\n",
              "      <td>20</td>\n",
              "      <td>12</td>\n",
              "      <td>2020</td>\n",
              "      <td>2020-12-20</td>\n",
              "    </tr>\n",
              "    <tr>\n",
              "      <th>3826977</th>\n",
              "      <td>E1888F4B274EEA12</td>\n",
              "      <td>electric_bike</td>\n",
              "      <td>2020-12-03 09:43:42</td>\n",
              "      <td>2020-12-03 09:47:14</td>\n",
              "      <td>Rhodes Ave &amp; 32nd St</td>\n",
              "      <td>13215</td>\n",
              "      <td>Indiana Ave &amp; 31st St</td>\n",
              "      <td>TA1308000036</td>\n",
              "      <td>member</td>\n",
              "      <td>3.533</td>\n",
              "      <td>0</td>\n",
              "      <td>3</td>\n",
              "      <td>3</td>\n",
              "      <td>12</td>\n",
              "      <td>2020</td>\n",
              "      <td>2020-12-03</td>\n",
              "    </tr>\n",
              "  </tbody>\n",
              "</table>\n",
              "<p>3535506 rows × 16 columns</p>\n",
              "</div>\n",
              "      <button class=\"colab-df-convert\" onclick=\"convertToInteractive('df-20d0e313-75f9-4586-9a09-7df14b0d1364')\"\n",
              "              title=\"Convert this dataframe to an interactive table.\"\n",
              "              style=\"display:none;\">\n",
              "        \n",
              "  <svg xmlns=\"http://www.w3.org/2000/svg\" height=\"24px\"viewBox=\"0 0 24 24\"\n",
              "       width=\"24px\">\n",
              "    <path d=\"M0 0h24v24H0V0z\" fill=\"none\"/>\n",
              "    <path d=\"M18.56 5.44l.94 2.06.94-2.06 2.06-.94-2.06-.94-.94-2.06-.94 2.06-2.06.94zm-11 1L8.5 8.5l.94-2.06 2.06-.94-2.06-.94L8.5 2.5l-.94 2.06-2.06.94zm10 10l.94 2.06.94-2.06 2.06-.94-2.06-.94-.94-2.06-.94 2.06-2.06.94z\"/><path d=\"M17.41 7.96l-1.37-1.37c-.4-.4-.92-.59-1.43-.59-.52 0-1.04.2-1.43.59L10.3 9.45l-7.72 7.72c-.78.78-.78 2.05 0 2.83L4 21.41c.39.39.9.59 1.41.59.51 0 1.02-.2 1.41-.59l7.78-7.78 2.81-2.81c.8-.78.8-2.07 0-2.86zM5.41 20L4 18.59l7.72-7.72 1.47 1.35L5.41 20z\"/>\n",
              "  </svg>\n",
              "      </button>\n",
              "      \n",
              "  <style>\n",
              "    .colab-df-container {\n",
              "      display:flex;\n",
              "      flex-wrap:wrap;\n",
              "      gap: 12px;\n",
              "    }\n",
              "\n",
              "    .colab-df-convert {\n",
              "      background-color: #E8F0FE;\n",
              "      border: none;\n",
              "      border-radius: 50%;\n",
              "      cursor: pointer;\n",
              "      display: none;\n",
              "      fill: #1967D2;\n",
              "      height: 32px;\n",
              "      padding: 0 0 0 0;\n",
              "      width: 32px;\n",
              "    }\n",
              "\n",
              "    .colab-df-convert:hover {\n",
              "      background-color: #E2EBFA;\n",
              "      box-shadow: 0px 1px 2px rgba(60, 64, 67, 0.3), 0px 1px 3px 1px rgba(60, 64, 67, 0.15);\n",
              "      fill: #174EA6;\n",
              "    }\n",
              "\n",
              "    [theme=dark] .colab-df-convert {\n",
              "      background-color: #3B4455;\n",
              "      fill: #D2E3FC;\n",
              "    }\n",
              "\n",
              "    [theme=dark] .colab-df-convert:hover {\n",
              "      background-color: #434B5C;\n",
              "      box-shadow: 0px 1px 3px 1px rgba(0, 0, 0, 0.15);\n",
              "      filter: drop-shadow(0px 1px 2px rgba(0, 0, 0, 0.3));\n",
              "      fill: #FFFFFF;\n",
              "    }\n",
              "  </style>\n",
              "\n",
              "      <script>\n",
              "        const buttonEl =\n",
              "          document.querySelector('#df-20d0e313-75f9-4586-9a09-7df14b0d1364 button.colab-df-convert');\n",
              "        buttonEl.style.display =\n",
              "          google.colab.kernel.accessAllowed ? 'block' : 'none';\n",
              "\n",
              "        async function convertToInteractive(key) {\n",
              "          const element = document.querySelector('#df-20d0e313-75f9-4586-9a09-7df14b0d1364');\n",
              "          const dataTable =\n",
              "            await google.colab.kernel.invokeFunction('convertToInteractive',\n",
              "                                                     [key], {});\n",
              "          if (!dataTable) return;\n",
              "\n",
              "          const docLinkHtml = 'Like what you see? Visit the ' +\n",
              "            '<a target=\"_blank\" href=https://colab.research.google.com/notebooks/data_table.ipynb>data table notebook</a>'\n",
              "            + ' to learn more about interactive tables.';\n",
              "          element.innerHTML = '';\n",
              "          dataTable['output_type'] = 'display_data';\n",
              "          await google.colab.output.renderOutput(dataTable, element);\n",
              "          const docLink = document.createElement('div');\n",
              "          docLink.innerHTML = docLinkHtml;\n",
              "          element.appendChild(docLink);\n",
              "        }\n",
              "      </script>\n",
              "    </div>\n",
              "  </div>\n",
              "  "
            ]
          },
          "metadata": {},
          "execution_count": 164
        }
      ]
    },
    {
      "cell_type": "markdown",
      "source": [
        "## EDA\n"
      ],
      "metadata": {
        "id": "y9b25HF_TQv8"
      }
    },
    {
      "cell_type": "code",
      "source": [
        "casual_df = df[df['member_casual'] == \"casual\"]\n",
        "casual_df"
      ],
      "metadata": {
        "colab": {
          "base_uri": "https://localhost:8080/",
          "height": 835
        },
        "id": "Gjenp1DLkrbW",
        "outputId": "cb854476-ec21-4cd7-9ff4-373c89c9aedf"
      },
      "execution_count": 166,
      "outputs": [
        {
          "output_type": "execute_result",
          "data": {
            "text/plain": [
              "                  ride_id  rideable_type          started_at  \\\n",
              "1        0FEFDE2603568365   classic_bike 2021-02-14 17:52:38   \n",
              "5        BDAA7E3494E8D545  electric_bike 2021-02-24 15:43:33   \n",
              "21       2C4AF52044E874FC  electric_bike 2021-02-26 18:16:25   \n",
              "25       42B25557198348CC   classic_bike 2021-02-23 16:05:02   \n",
              "28       78849DFCC4D4B7A0   classic_bike 2021-02-28 13:31:50   \n",
              "...                   ...            ...                 ...   \n",
              "3826966  99741BBCF3E82A6B   classic_bike 2020-12-27 12:14:30   \n",
              "3826967  2AE24B8F461EE351  electric_bike 2020-12-16 17:42:08   \n",
              "3826968  C354FD80C4EE7E05   classic_bike 2020-12-19 18:53:27   \n",
              "3826969  BF6E2B5E79BB83BD  electric_bike 2020-12-18 19:13:12   \n",
              "3826973  4631EE956BCEA738   classic_bike 2020-12-19 13:59:33   \n",
              "\n",
              "                   ended_at            start_station_name start_station_id  \\\n",
              "1       2021-02-14 18:12:09      Glenwood Ave & Touhy Ave              525   \n",
              "5       2021-02-24 15:49:05    Fairbanks St & Superior St            18003   \n",
              "21      2021-02-26 18:27:55           Wells St & Huron St     TA1306000012   \n",
              "25      2021-02-23 16:20:35       Damen Ave & Cortland St            13133   \n",
              "28      2021-02-28 14:47:14  Southport Ave & Waveland Ave            13235   \n",
              "...                     ...                           ...              ...   \n",
              "3826966 2020-12-27 12:18:16          Rhodes Ave & 32nd St            13215   \n",
              "3826967 2020-12-16 18:04:47     Bissell St & Armitage Ave            13059   \n",
              "3826968 2020-12-19 19:16:10   Sheffield Ave & Webster Ave     TA1309000033   \n",
              "3826969 2020-12-18 19:33:15   Sheffield Ave & Webster Ave     TA1309000033   \n",
              "3826973 2020-12-19 14:03:21          Rhodes Ave & 32nd St            13215   \n",
              "\n",
              "                     end_station_name end_station_id member_casual  \\\n",
              "1            Bosworth Ave & Howard St          16806        casual   \n",
              "5               LaSalle Dr & Huron St   KP1705001026        casual   \n",
              "21             State St & Harrison St         SL-007        casual   \n",
              "25            Damen Ave & Cortland St          13133        casual   \n",
              "28       Southport Ave & Waveland Ave          13235        casual   \n",
              "...                               ...            ...           ...   \n",
              "3826966         Indiana Ave & 31st St   TA1308000036        casual   \n",
              "3826967   California Ave & Altgeld St          15646        casual   \n",
              "3826968   California Ave & Altgeld St          15646        casual   \n",
              "3826969   California Ave & Altgeld St          15646        casual   \n",
              "3826973         Indiana Ave & 31st St   TA1308000036        casual   \n",
              "\n",
              "         ride_length  days  day_of_week  day  month  year       date  \n",
              "1             19.517     0            6   14      2  2021 2021-02-14  \n",
              "5              5.533     0            2   24      2  2021 2021-02-24  \n",
              "21            11.500     0            4   26      2  2021 2021-02-26  \n",
              "25            15.550     0            1   23      2  2021 2021-02-23  \n",
              "28            75.400     0            6   28      2  2021 2021-02-28  \n",
              "...              ...   ...          ...  ...    ...   ...        ...  \n",
              "3826966        3.767     0            6   27     12  2020 2020-12-27  \n",
              "3826967       22.650     0            2   16     12  2020 2020-12-16  \n",
              "3826968       22.717     0            5   19     12  2020 2020-12-19  \n",
              "3826969       20.050     0            4   18     12  2020 2020-12-18  \n",
              "3826973        3.800     0            5   19     12  2020 2020-12-19  \n",
              "\n",
              "[1453366 rows x 16 columns]"
            ],
            "text/html": [
              "\n",
              "  <div id=\"df-7944f62d-59cd-4826-9571-aa19824d9a39\">\n",
              "    <div class=\"colab-df-container\">\n",
              "      <div>\n",
              "<style scoped>\n",
              "    .dataframe tbody tr th:only-of-type {\n",
              "        vertical-align: middle;\n",
              "    }\n",
              "\n",
              "    .dataframe tbody tr th {\n",
              "        vertical-align: top;\n",
              "    }\n",
              "\n",
              "    .dataframe thead th {\n",
              "        text-align: right;\n",
              "    }\n",
              "</style>\n",
              "<table border=\"1\" class=\"dataframe\">\n",
              "  <thead>\n",
              "    <tr style=\"text-align: right;\">\n",
              "      <th></th>\n",
              "      <th>ride_id</th>\n",
              "      <th>rideable_type</th>\n",
              "      <th>started_at</th>\n",
              "      <th>ended_at</th>\n",
              "      <th>start_station_name</th>\n",
              "      <th>start_station_id</th>\n",
              "      <th>end_station_name</th>\n",
              "      <th>end_station_id</th>\n",
              "      <th>member_casual</th>\n",
              "      <th>ride_length</th>\n",
              "      <th>days</th>\n",
              "      <th>day_of_week</th>\n",
              "      <th>day</th>\n",
              "      <th>month</th>\n",
              "      <th>year</th>\n",
              "      <th>date</th>\n",
              "    </tr>\n",
              "  </thead>\n",
              "  <tbody>\n",
              "    <tr>\n",
              "      <th>1</th>\n",
              "      <td>0FEFDE2603568365</td>\n",
              "      <td>classic_bike</td>\n",
              "      <td>2021-02-14 17:52:38</td>\n",
              "      <td>2021-02-14 18:12:09</td>\n",
              "      <td>Glenwood Ave &amp; Touhy Ave</td>\n",
              "      <td>525</td>\n",
              "      <td>Bosworth Ave &amp; Howard St</td>\n",
              "      <td>16806</td>\n",
              "      <td>casual</td>\n",
              "      <td>19.517</td>\n",
              "      <td>0</td>\n",
              "      <td>6</td>\n",
              "      <td>14</td>\n",
              "      <td>2</td>\n",
              "      <td>2021</td>\n",
              "      <td>2021-02-14</td>\n",
              "    </tr>\n",
              "    <tr>\n",
              "      <th>5</th>\n",
              "      <td>BDAA7E3494E8D545</td>\n",
              "      <td>electric_bike</td>\n",
              "      <td>2021-02-24 15:43:33</td>\n",
              "      <td>2021-02-24 15:49:05</td>\n",
              "      <td>Fairbanks St &amp; Superior St</td>\n",
              "      <td>18003</td>\n",
              "      <td>LaSalle Dr &amp; Huron St</td>\n",
              "      <td>KP1705001026</td>\n",
              "      <td>casual</td>\n",
              "      <td>5.533</td>\n",
              "      <td>0</td>\n",
              "      <td>2</td>\n",
              "      <td>24</td>\n",
              "      <td>2</td>\n",
              "      <td>2021</td>\n",
              "      <td>2021-02-24</td>\n",
              "    </tr>\n",
              "    <tr>\n",
              "      <th>21</th>\n",
              "      <td>2C4AF52044E874FC</td>\n",
              "      <td>electric_bike</td>\n",
              "      <td>2021-02-26 18:16:25</td>\n",
              "      <td>2021-02-26 18:27:55</td>\n",
              "      <td>Wells St &amp; Huron St</td>\n",
              "      <td>TA1306000012</td>\n",
              "      <td>State St &amp; Harrison St</td>\n",
              "      <td>SL-007</td>\n",
              "      <td>casual</td>\n",
              "      <td>11.500</td>\n",
              "      <td>0</td>\n",
              "      <td>4</td>\n",
              "      <td>26</td>\n",
              "      <td>2</td>\n",
              "      <td>2021</td>\n",
              "      <td>2021-02-26</td>\n",
              "    </tr>\n",
              "    <tr>\n",
              "      <th>25</th>\n",
              "      <td>42B25557198348CC</td>\n",
              "      <td>classic_bike</td>\n",
              "      <td>2021-02-23 16:05:02</td>\n",
              "      <td>2021-02-23 16:20:35</td>\n",
              "      <td>Damen Ave &amp; Cortland St</td>\n",
              "      <td>13133</td>\n",
              "      <td>Damen Ave &amp; Cortland St</td>\n",
              "      <td>13133</td>\n",
              "      <td>casual</td>\n",
              "      <td>15.550</td>\n",
              "      <td>0</td>\n",
              "      <td>1</td>\n",
              "      <td>23</td>\n",
              "      <td>2</td>\n",
              "      <td>2021</td>\n",
              "      <td>2021-02-23</td>\n",
              "    </tr>\n",
              "    <tr>\n",
              "      <th>28</th>\n",
              "      <td>78849DFCC4D4B7A0</td>\n",
              "      <td>classic_bike</td>\n",
              "      <td>2021-02-28 13:31:50</td>\n",
              "      <td>2021-02-28 14:47:14</td>\n",
              "      <td>Southport Ave &amp; Waveland Ave</td>\n",
              "      <td>13235</td>\n",
              "      <td>Southport Ave &amp; Waveland Ave</td>\n",
              "      <td>13235</td>\n",
              "      <td>casual</td>\n",
              "      <td>75.400</td>\n",
              "      <td>0</td>\n",
              "      <td>6</td>\n",
              "      <td>28</td>\n",
              "      <td>2</td>\n",
              "      <td>2021</td>\n",
              "      <td>2021-02-28</td>\n",
              "    </tr>\n",
              "    <tr>\n",
              "      <th>...</th>\n",
              "      <td>...</td>\n",
              "      <td>...</td>\n",
              "      <td>...</td>\n",
              "      <td>...</td>\n",
              "      <td>...</td>\n",
              "      <td>...</td>\n",
              "      <td>...</td>\n",
              "      <td>...</td>\n",
              "      <td>...</td>\n",
              "      <td>...</td>\n",
              "      <td>...</td>\n",
              "      <td>...</td>\n",
              "      <td>...</td>\n",
              "      <td>...</td>\n",
              "      <td>...</td>\n",
              "      <td>...</td>\n",
              "    </tr>\n",
              "    <tr>\n",
              "      <th>3826966</th>\n",
              "      <td>99741BBCF3E82A6B</td>\n",
              "      <td>classic_bike</td>\n",
              "      <td>2020-12-27 12:14:30</td>\n",
              "      <td>2020-12-27 12:18:16</td>\n",
              "      <td>Rhodes Ave &amp; 32nd St</td>\n",
              "      <td>13215</td>\n",
              "      <td>Indiana Ave &amp; 31st St</td>\n",
              "      <td>TA1308000036</td>\n",
              "      <td>casual</td>\n",
              "      <td>3.767</td>\n",
              "      <td>0</td>\n",
              "      <td>6</td>\n",
              "      <td>27</td>\n",
              "      <td>12</td>\n",
              "      <td>2020</td>\n",
              "      <td>2020-12-27</td>\n",
              "    </tr>\n",
              "    <tr>\n",
              "      <th>3826967</th>\n",
              "      <td>2AE24B8F461EE351</td>\n",
              "      <td>electric_bike</td>\n",
              "      <td>2020-12-16 17:42:08</td>\n",
              "      <td>2020-12-16 18:04:47</td>\n",
              "      <td>Bissell St &amp; Armitage Ave</td>\n",
              "      <td>13059</td>\n",
              "      <td>California Ave &amp; Altgeld St</td>\n",
              "      <td>15646</td>\n",
              "      <td>casual</td>\n",
              "      <td>22.650</td>\n",
              "      <td>0</td>\n",
              "      <td>2</td>\n",
              "      <td>16</td>\n",
              "      <td>12</td>\n",
              "      <td>2020</td>\n",
              "      <td>2020-12-16</td>\n",
              "    </tr>\n",
              "    <tr>\n",
              "      <th>3826968</th>\n",
              "      <td>C354FD80C4EE7E05</td>\n",
              "      <td>classic_bike</td>\n",
              "      <td>2020-12-19 18:53:27</td>\n",
              "      <td>2020-12-19 19:16:10</td>\n",
              "      <td>Sheffield Ave &amp; Webster Ave</td>\n",
              "      <td>TA1309000033</td>\n",
              "      <td>California Ave &amp; Altgeld St</td>\n",
              "      <td>15646</td>\n",
              "      <td>casual</td>\n",
              "      <td>22.717</td>\n",
              "      <td>0</td>\n",
              "      <td>5</td>\n",
              "      <td>19</td>\n",
              "      <td>12</td>\n",
              "      <td>2020</td>\n",
              "      <td>2020-12-19</td>\n",
              "    </tr>\n",
              "    <tr>\n",
              "      <th>3826969</th>\n",
              "      <td>BF6E2B5E79BB83BD</td>\n",
              "      <td>electric_bike</td>\n",
              "      <td>2020-12-18 19:13:12</td>\n",
              "      <td>2020-12-18 19:33:15</td>\n",
              "      <td>Sheffield Ave &amp; Webster Ave</td>\n",
              "      <td>TA1309000033</td>\n",
              "      <td>California Ave &amp; Altgeld St</td>\n",
              "      <td>15646</td>\n",
              "      <td>casual</td>\n",
              "      <td>20.050</td>\n",
              "      <td>0</td>\n",
              "      <td>4</td>\n",
              "      <td>18</td>\n",
              "      <td>12</td>\n",
              "      <td>2020</td>\n",
              "      <td>2020-12-18</td>\n",
              "    </tr>\n",
              "    <tr>\n",
              "      <th>3826973</th>\n",
              "      <td>4631EE956BCEA738</td>\n",
              "      <td>classic_bike</td>\n",
              "      <td>2020-12-19 13:59:33</td>\n",
              "      <td>2020-12-19 14:03:21</td>\n",
              "      <td>Rhodes Ave &amp; 32nd St</td>\n",
              "      <td>13215</td>\n",
              "      <td>Indiana Ave &amp; 31st St</td>\n",
              "      <td>TA1308000036</td>\n",
              "      <td>casual</td>\n",
              "      <td>3.800</td>\n",
              "      <td>0</td>\n",
              "      <td>5</td>\n",
              "      <td>19</td>\n",
              "      <td>12</td>\n",
              "      <td>2020</td>\n",
              "      <td>2020-12-19</td>\n",
              "    </tr>\n",
              "  </tbody>\n",
              "</table>\n",
              "<p>1453366 rows × 16 columns</p>\n",
              "</div>\n",
              "      <button class=\"colab-df-convert\" onclick=\"convertToInteractive('df-7944f62d-59cd-4826-9571-aa19824d9a39')\"\n",
              "              title=\"Convert this dataframe to an interactive table.\"\n",
              "              style=\"display:none;\">\n",
              "        \n",
              "  <svg xmlns=\"http://www.w3.org/2000/svg\" height=\"24px\"viewBox=\"0 0 24 24\"\n",
              "       width=\"24px\">\n",
              "    <path d=\"M0 0h24v24H0V0z\" fill=\"none\"/>\n",
              "    <path d=\"M18.56 5.44l.94 2.06.94-2.06 2.06-.94-2.06-.94-.94-2.06-.94 2.06-2.06.94zm-11 1L8.5 8.5l.94-2.06 2.06-.94-2.06-.94L8.5 2.5l-.94 2.06-2.06.94zm10 10l.94 2.06.94-2.06 2.06-.94-2.06-.94-.94-2.06-.94 2.06-2.06.94z\"/><path d=\"M17.41 7.96l-1.37-1.37c-.4-.4-.92-.59-1.43-.59-.52 0-1.04.2-1.43.59L10.3 9.45l-7.72 7.72c-.78.78-.78 2.05 0 2.83L4 21.41c.39.39.9.59 1.41.59.51 0 1.02-.2 1.41-.59l7.78-7.78 2.81-2.81c.8-.78.8-2.07 0-2.86zM5.41 20L4 18.59l7.72-7.72 1.47 1.35L5.41 20z\"/>\n",
              "  </svg>\n",
              "      </button>\n",
              "      \n",
              "  <style>\n",
              "    .colab-df-container {\n",
              "      display:flex;\n",
              "      flex-wrap:wrap;\n",
              "      gap: 12px;\n",
              "    }\n",
              "\n",
              "    .colab-df-convert {\n",
              "      background-color: #E8F0FE;\n",
              "      border: none;\n",
              "      border-radius: 50%;\n",
              "      cursor: pointer;\n",
              "      display: none;\n",
              "      fill: #1967D2;\n",
              "      height: 32px;\n",
              "      padding: 0 0 0 0;\n",
              "      width: 32px;\n",
              "    }\n",
              "\n",
              "    .colab-df-convert:hover {\n",
              "      background-color: #E2EBFA;\n",
              "      box-shadow: 0px 1px 2px rgba(60, 64, 67, 0.3), 0px 1px 3px 1px rgba(60, 64, 67, 0.15);\n",
              "      fill: #174EA6;\n",
              "    }\n",
              "\n",
              "    [theme=dark] .colab-df-convert {\n",
              "      background-color: #3B4455;\n",
              "      fill: #D2E3FC;\n",
              "    }\n",
              "\n",
              "    [theme=dark] .colab-df-convert:hover {\n",
              "      background-color: #434B5C;\n",
              "      box-shadow: 0px 1px 3px 1px rgba(0, 0, 0, 0.15);\n",
              "      filter: drop-shadow(0px 1px 2px rgba(0, 0, 0, 0.3));\n",
              "      fill: #FFFFFF;\n",
              "    }\n",
              "  </style>\n",
              "\n",
              "      <script>\n",
              "        const buttonEl =\n",
              "          document.querySelector('#df-7944f62d-59cd-4826-9571-aa19824d9a39 button.colab-df-convert');\n",
              "        buttonEl.style.display =\n",
              "          google.colab.kernel.accessAllowed ? 'block' : 'none';\n",
              "\n",
              "        async function convertToInteractive(key) {\n",
              "          const element = document.querySelector('#df-7944f62d-59cd-4826-9571-aa19824d9a39');\n",
              "          const dataTable =\n",
              "            await google.colab.kernel.invokeFunction('convertToInteractive',\n",
              "                                                     [key], {});\n",
              "          if (!dataTable) return;\n",
              "\n",
              "          const docLinkHtml = 'Like what you see? Visit the ' +\n",
              "            '<a target=\"_blank\" href=https://colab.research.google.com/notebooks/data_table.ipynb>data table notebook</a>'\n",
              "            + ' to learn more about interactive tables.';\n",
              "          element.innerHTML = '';\n",
              "          dataTable['output_type'] = 'display_data';\n",
              "          await google.colab.output.renderOutput(dataTable, element);\n",
              "          const docLink = document.createElement('div');\n",
              "          docLink.innerHTML = docLinkHtml;\n",
              "          element.appendChild(docLink);\n",
              "        }\n",
              "      </script>\n",
              "    </div>\n",
              "  </div>\n",
              "  "
            ]
          },
          "metadata": {},
          "execution_count": 166
        }
      ]
    },
    {
      "cell_type": "code",
      "source": [
        "member_df = df[df['member_casual'] == \"member\"]\n",
        "member_df"
      ],
      "metadata": {
        "colab": {
          "base_uri": "https://localhost:8080/",
          "height": 835
        },
        "id": "PnRgLRQUk848",
        "outputId": "13646343-4549-40d2-b43d-a45b612989f5"
      },
      "execution_count": 167,
      "outputs": [
        {
          "output_type": "execute_result",
          "data": {
            "text/plain": [
              "                  ride_id  rideable_type          started_at  \\\n",
              "0        89E7AA6C29227EFF   classic_bike 2021-02-12 16:14:56   \n",
              "2        E6159D746B2DBB91  electric_bike 2021-02-09 19:10:18   \n",
              "3        B32D3199F1C2E75B   classic_bike 2021-02-02 17:49:41   \n",
              "4        83E463F23575F4BF  electric_bike 2021-02-23 15:07:23   \n",
              "7        295476889D9B79F8   classic_bike 2021-02-11 18:33:53   \n",
              "...                   ...            ...                 ...   \n",
              "3826972  6248FC5575ADD257   classic_bike 2020-12-28 22:30:39   \n",
              "3826974  D17CBEDEA8DBDFF6  electric_bike 2020-12-20 15:48:41   \n",
              "3826975  447A6C67E9AF962E    docked_bike 2020-12-02 16:59:58   \n",
              "3826976  F558C17E95751C62  electric_bike 2020-12-20 18:06:52   \n",
              "3826977  E1888F4B274EEA12  electric_bike 2020-12-03 09:43:42   \n",
              "\n",
              "                   ended_at          start_station_name start_station_id  \\\n",
              "0       2021-02-12 16:21:43    Glenwood Ave & Touhy Ave              525   \n",
              "2       2021-02-09 19:19:10          Clark St & Lake St     KA1503000012   \n",
              "3       2021-02-02 17:54:06       Wood St & Chicago Ave              637   \n",
              "4       2021-02-23 15:22:37          State St & 33rd St            13216   \n",
              "7       2021-02-11 18:35:09  Fairbanks St & Superior St            18003   \n",
              "...                     ...                         ...              ...   \n",
              "3826972 2020-12-28 22:36:34        Rhodes Ave & 32nd St            13215   \n",
              "3826974 2020-12-20 15:52:14        Rhodes Ave & 32nd St            13215   \n",
              "3826975 2020-12-02 17:08:28        Rhodes Ave & 32nd St            13215   \n",
              "3826976 2020-12-20 18:09:53        Rhodes Ave & 32nd St            13215   \n",
              "3826977 2020-12-03 09:47:14        Rhodes Ave & 32nd St            13215   \n",
              "\n",
              "                   end_station_name end_station_id member_casual  ride_length  \\\n",
              "0        Sheridan Rd & Columbia Ave            660        member        6.783   \n",
              "2            State St & Randolph St   TA1305000029        member        8.867   \n",
              "3           Honore St & Division St   TA1305000034        member        4.417   \n",
              "4             Emerald Ave & 31st St   TA1309000055        member       15.233   \n",
              "7        Fairbanks St & Superior St          18003        member        1.267   \n",
              "...                             ...            ...           ...          ...   \n",
              "3826972       Indiana Ave & 31st St   TA1308000036        member        5.917   \n",
              "3826974       Indiana Ave & 31st St   TA1308000036        member        3.550   \n",
              "3826975       Indiana Ave & 31st St   TA1308000036        member        8.500   \n",
              "3826976       Indiana Ave & 31st St   TA1308000036        member        3.017   \n",
              "3826977       Indiana Ave & 31st St   TA1308000036        member        3.533   \n",
              "\n",
              "         days  day_of_week  day  month  year       date  \n",
              "0           0            4   12      2  2021 2021-02-12  \n",
              "2           0            1    9      2  2021 2021-02-09  \n",
              "3           0            1    2      2  2021 2021-02-02  \n",
              "4           0            1   23      2  2021 2021-02-23  \n",
              "7           0            3   11      2  2021 2021-02-11  \n",
              "...       ...          ...  ...    ...   ...        ...  \n",
              "3826972     0            0   28     12  2020 2020-12-28  \n",
              "3826974     0            6   20     12  2020 2020-12-20  \n",
              "3826975     0            2    2     12  2020 2020-12-02  \n",
              "3826976     0            6   20     12  2020 2020-12-20  \n",
              "3826977     0            3    3     12  2020 2020-12-03  \n",
              "\n",
              "[2082140 rows x 16 columns]"
            ],
            "text/html": [
              "\n",
              "  <div id=\"df-cb76d20e-d2a4-45e3-b434-3faec5be2b44\">\n",
              "    <div class=\"colab-df-container\">\n",
              "      <div>\n",
              "<style scoped>\n",
              "    .dataframe tbody tr th:only-of-type {\n",
              "        vertical-align: middle;\n",
              "    }\n",
              "\n",
              "    .dataframe tbody tr th {\n",
              "        vertical-align: top;\n",
              "    }\n",
              "\n",
              "    .dataframe thead th {\n",
              "        text-align: right;\n",
              "    }\n",
              "</style>\n",
              "<table border=\"1\" class=\"dataframe\">\n",
              "  <thead>\n",
              "    <tr style=\"text-align: right;\">\n",
              "      <th></th>\n",
              "      <th>ride_id</th>\n",
              "      <th>rideable_type</th>\n",
              "      <th>started_at</th>\n",
              "      <th>ended_at</th>\n",
              "      <th>start_station_name</th>\n",
              "      <th>start_station_id</th>\n",
              "      <th>end_station_name</th>\n",
              "      <th>end_station_id</th>\n",
              "      <th>member_casual</th>\n",
              "      <th>ride_length</th>\n",
              "      <th>days</th>\n",
              "      <th>day_of_week</th>\n",
              "      <th>day</th>\n",
              "      <th>month</th>\n",
              "      <th>year</th>\n",
              "      <th>date</th>\n",
              "    </tr>\n",
              "  </thead>\n",
              "  <tbody>\n",
              "    <tr>\n",
              "      <th>0</th>\n",
              "      <td>89E7AA6C29227EFF</td>\n",
              "      <td>classic_bike</td>\n",
              "      <td>2021-02-12 16:14:56</td>\n",
              "      <td>2021-02-12 16:21:43</td>\n",
              "      <td>Glenwood Ave &amp; Touhy Ave</td>\n",
              "      <td>525</td>\n",
              "      <td>Sheridan Rd &amp; Columbia Ave</td>\n",
              "      <td>660</td>\n",
              "      <td>member</td>\n",
              "      <td>6.783</td>\n",
              "      <td>0</td>\n",
              "      <td>4</td>\n",
              "      <td>12</td>\n",
              "      <td>2</td>\n",
              "      <td>2021</td>\n",
              "      <td>2021-02-12</td>\n",
              "    </tr>\n",
              "    <tr>\n",
              "      <th>2</th>\n",
              "      <td>E6159D746B2DBB91</td>\n",
              "      <td>electric_bike</td>\n",
              "      <td>2021-02-09 19:10:18</td>\n",
              "      <td>2021-02-09 19:19:10</td>\n",
              "      <td>Clark St &amp; Lake St</td>\n",
              "      <td>KA1503000012</td>\n",
              "      <td>State St &amp; Randolph St</td>\n",
              "      <td>TA1305000029</td>\n",
              "      <td>member</td>\n",
              "      <td>8.867</td>\n",
              "      <td>0</td>\n",
              "      <td>1</td>\n",
              "      <td>9</td>\n",
              "      <td>2</td>\n",
              "      <td>2021</td>\n",
              "      <td>2021-02-09</td>\n",
              "    </tr>\n",
              "    <tr>\n",
              "      <th>3</th>\n",
              "      <td>B32D3199F1C2E75B</td>\n",
              "      <td>classic_bike</td>\n",
              "      <td>2021-02-02 17:49:41</td>\n",
              "      <td>2021-02-02 17:54:06</td>\n",
              "      <td>Wood St &amp; Chicago Ave</td>\n",
              "      <td>637</td>\n",
              "      <td>Honore St &amp; Division St</td>\n",
              "      <td>TA1305000034</td>\n",
              "      <td>member</td>\n",
              "      <td>4.417</td>\n",
              "      <td>0</td>\n",
              "      <td>1</td>\n",
              "      <td>2</td>\n",
              "      <td>2</td>\n",
              "      <td>2021</td>\n",
              "      <td>2021-02-02</td>\n",
              "    </tr>\n",
              "    <tr>\n",
              "      <th>4</th>\n",
              "      <td>83E463F23575F4BF</td>\n",
              "      <td>electric_bike</td>\n",
              "      <td>2021-02-23 15:07:23</td>\n",
              "      <td>2021-02-23 15:22:37</td>\n",
              "      <td>State St &amp; 33rd St</td>\n",
              "      <td>13216</td>\n",
              "      <td>Emerald Ave &amp; 31st St</td>\n",
              "      <td>TA1309000055</td>\n",
              "      <td>member</td>\n",
              "      <td>15.233</td>\n",
              "      <td>0</td>\n",
              "      <td>1</td>\n",
              "      <td>23</td>\n",
              "      <td>2</td>\n",
              "      <td>2021</td>\n",
              "      <td>2021-02-23</td>\n",
              "    </tr>\n",
              "    <tr>\n",
              "      <th>7</th>\n",
              "      <td>295476889D9B79F8</td>\n",
              "      <td>classic_bike</td>\n",
              "      <td>2021-02-11 18:33:53</td>\n",
              "      <td>2021-02-11 18:35:09</td>\n",
              "      <td>Fairbanks St &amp; Superior St</td>\n",
              "      <td>18003</td>\n",
              "      <td>Fairbanks St &amp; Superior St</td>\n",
              "      <td>18003</td>\n",
              "      <td>member</td>\n",
              "      <td>1.267</td>\n",
              "      <td>0</td>\n",
              "      <td>3</td>\n",
              "      <td>11</td>\n",
              "      <td>2</td>\n",
              "      <td>2021</td>\n",
              "      <td>2021-02-11</td>\n",
              "    </tr>\n",
              "    <tr>\n",
              "      <th>...</th>\n",
              "      <td>...</td>\n",
              "      <td>...</td>\n",
              "      <td>...</td>\n",
              "      <td>...</td>\n",
              "      <td>...</td>\n",
              "      <td>...</td>\n",
              "      <td>...</td>\n",
              "      <td>...</td>\n",
              "      <td>...</td>\n",
              "      <td>...</td>\n",
              "      <td>...</td>\n",
              "      <td>...</td>\n",
              "      <td>...</td>\n",
              "      <td>...</td>\n",
              "      <td>...</td>\n",
              "      <td>...</td>\n",
              "    </tr>\n",
              "    <tr>\n",
              "      <th>3826972</th>\n",
              "      <td>6248FC5575ADD257</td>\n",
              "      <td>classic_bike</td>\n",
              "      <td>2020-12-28 22:30:39</td>\n",
              "      <td>2020-12-28 22:36:34</td>\n",
              "      <td>Rhodes Ave &amp; 32nd St</td>\n",
              "      <td>13215</td>\n",
              "      <td>Indiana Ave &amp; 31st St</td>\n",
              "      <td>TA1308000036</td>\n",
              "      <td>member</td>\n",
              "      <td>5.917</td>\n",
              "      <td>0</td>\n",
              "      <td>0</td>\n",
              "      <td>28</td>\n",
              "      <td>12</td>\n",
              "      <td>2020</td>\n",
              "      <td>2020-12-28</td>\n",
              "    </tr>\n",
              "    <tr>\n",
              "      <th>3826974</th>\n",
              "      <td>D17CBEDEA8DBDFF6</td>\n",
              "      <td>electric_bike</td>\n",
              "      <td>2020-12-20 15:48:41</td>\n",
              "      <td>2020-12-20 15:52:14</td>\n",
              "      <td>Rhodes Ave &amp; 32nd St</td>\n",
              "      <td>13215</td>\n",
              "      <td>Indiana Ave &amp; 31st St</td>\n",
              "      <td>TA1308000036</td>\n",
              "      <td>member</td>\n",
              "      <td>3.550</td>\n",
              "      <td>0</td>\n",
              "      <td>6</td>\n",
              "      <td>20</td>\n",
              "      <td>12</td>\n",
              "      <td>2020</td>\n",
              "      <td>2020-12-20</td>\n",
              "    </tr>\n",
              "    <tr>\n",
              "      <th>3826975</th>\n",
              "      <td>447A6C67E9AF962E</td>\n",
              "      <td>docked_bike</td>\n",
              "      <td>2020-12-02 16:59:58</td>\n",
              "      <td>2020-12-02 17:08:28</td>\n",
              "      <td>Rhodes Ave &amp; 32nd St</td>\n",
              "      <td>13215</td>\n",
              "      <td>Indiana Ave &amp; 31st St</td>\n",
              "      <td>TA1308000036</td>\n",
              "      <td>member</td>\n",
              "      <td>8.500</td>\n",
              "      <td>0</td>\n",
              "      <td>2</td>\n",
              "      <td>2</td>\n",
              "      <td>12</td>\n",
              "      <td>2020</td>\n",
              "      <td>2020-12-02</td>\n",
              "    </tr>\n",
              "    <tr>\n",
              "      <th>3826976</th>\n",
              "      <td>F558C17E95751C62</td>\n",
              "      <td>electric_bike</td>\n",
              "      <td>2020-12-20 18:06:52</td>\n",
              "      <td>2020-12-20 18:09:53</td>\n",
              "      <td>Rhodes Ave &amp; 32nd St</td>\n",
              "      <td>13215</td>\n",
              "      <td>Indiana Ave &amp; 31st St</td>\n",
              "      <td>TA1308000036</td>\n",
              "      <td>member</td>\n",
              "      <td>3.017</td>\n",
              "      <td>0</td>\n",
              "      <td>6</td>\n",
              "      <td>20</td>\n",
              "      <td>12</td>\n",
              "      <td>2020</td>\n",
              "      <td>2020-12-20</td>\n",
              "    </tr>\n",
              "    <tr>\n",
              "      <th>3826977</th>\n",
              "      <td>E1888F4B274EEA12</td>\n",
              "      <td>electric_bike</td>\n",
              "      <td>2020-12-03 09:43:42</td>\n",
              "      <td>2020-12-03 09:47:14</td>\n",
              "      <td>Rhodes Ave &amp; 32nd St</td>\n",
              "      <td>13215</td>\n",
              "      <td>Indiana Ave &amp; 31st St</td>\n",
              "      <td>TA1308000036</td>\n",
              "      <td>member</td>\n",
              "      <td>3.533</td>\n",
              "      <td>0</td>\n",
              "      <td>3</td>\n",
              "      <td>3</td>\n",
              "      <td>12</td>\n",
              "      <td>2020</td>\n",
              "      <td>2020-12-03</td>\n",
              "    </tr>\n",
              "  </tbody>\n",
              "</table>\n",
              "<p>2082140 rows × 16 columns</p>\n",
              "</div>\n",
              "      <button class=\"colab-df-convert\" onclick=\"convertToInteractive('df-cb76d20e-d2a4-45e3-b434-3faec5be2b44')\"\n",
              "              title=\"Convert this dataframe to an interactive table.\"\n",
              "              style=\"display:none;\">\n",
              "        \n",
              "  <svg xmlns=\"http://www.w3.org/2000/svg\" height=\"24px\"viewBox=\"0 0 24 24\"\n",
              "       width=\"24px\">\n",
              "    <path d=\"M0 0h24v24H0V0z\" fill=\"none\"/>\n",
              "    <path d=\"M18.56 5.44l.94 2.06.94-2.06 2.06-.94-2.06-.94-.94-2.06-.94 2.06-2.06.94zm-11 1L8.5 8.5l.94-2.06 2.06-.94-2.06-.94L8.5 2.5l-.94 2.06-2.06.94zm10 10l.94 2.06.94-2.06 2.06-.94-2.06-.94-.94-2.06-.94 2.06-2.06.94z\"/><path d=\"M17.41 7.96l-1.37-1.37c-.4-.4-.92-.59-1.43-.59-.52 0-1.04.2-1.43.59L10.3 9.45l-7.72 7.72c-.78.78-.78 2.05 0 2.83L4 21.41c.39.39.9.59 1.41.59.51 0 1.02-.2 1.41-.59l7.78-7.78 2.81-2.81c.8-.78.8-2.07 0-2.86zM5.41 20L4 18.59l7.72-7.72 1.47 1.35L5.41 20z\"/>\n",
              "  </svg>\n",
              "      </button>\n",
              "      \n",
              "  <style>\n",
              "    .colab-df-container {\n",
              "      display:flex;\n",
              "      flex-wrap:wrap;\n",
              "      gap: 12px;\n",
              "    }\n",
              "\n",
              "    .colab-df-convert {\n",
              "      background-color: #E8F0FE;\n",
              "      border: none;\n",
              "      border-radius: 50%;\n",
              "      cursor: pointer;\n",
              "      display: none;\n",
              "      fill: #1967D2;\n",
              "      height: 32px;\n",
              "      padding: 0 0 0 0;\n",
              "      width: 32px;\n",
              "    }\n",
              "\n",
              "    .colab-df-convert:hover {\n",
              "      background-color: #E2EBFA;\n",
              "      box-shadow: 0px 1px 2px rgba(60, 64, 67, 0.3), 0px 1px 3px 1px rgba(60, 64, 67, 0.15);\n",
              "      fill: #174EA6;\n",
              "    }\n",
              "\n",
              "    [theme=dark] .colab-df-convert {\n",
              "      background-color: #3B4455;\n",
              "      fill: #D2E3FC;\n",
              "    }\n",
              "\n",
              "    [theme=dark] .colab-df-convert:hover {\n",
              "      background-color: #434B5C;\n",
              "      box-shadow: 0px 1px 3px 1px rgba(0, 0, 0, 0.15);\n",
              "      filter: drop-shadow(0px 1px 2px rgba(0, 0, 0, 0.3));\n",
              "      fill: #FFFFFF;\n",
              "    }\n",
              "  </style>\n",
              "\n",
              "      <script>\n",
              "        const buttonEl =\n",
              "          document.querySelector('#df-cb76d20e-d2a4-45e3-b434-3faec5be2b44 button.colab-df-convert');\n",
              "        buttonEl.style.display =\n",
              "          google.colab.kernel.accessAllowed ? 'block' : 'none';\n",
              "\n",
              "        async function convertToInteractive(key) {\n",
              "          const element = document.querySelector('#df-cb76d20e-d2a4-45e3-b434-3faec5be2b44');\n",
              "          const dataTable =\n",
              "            await google.colab.kernel.invokeFunction('convertToInteractive',\n",
              "                                                     [key], {});\n",
              "          if (!dataTable) return;\n",
              "\n",
              "          const docLinkHtml = 'Like what you see? Visit the ' +\n",
              "            '<a target=\"_blank\" href=https://colab.research.google.com/notebooks/data_table.ipynb>data table notebook</a>'\n",
              "            + ' to learn more about interactive tables.';\n",
              "          element.innerHTML = '';\n",
              "          dataTable['output_type'] = 'display_data';\n",
              "          await google.colab.output.renderOutput(dataTable, element);\n",
              "          const docLink = document.createElement('div');\n",
              "          docLink.innerHTML = docLinkHtml;\n",
              "          element.appendChild(docLink);\n",
              "        }\n",
              "      </script>\n",
              "    </div>\n",
              "  </div>\n",
              "  "
            ]
          },
          "metadata": {},
          "execution_count": 167
        }
      ]
    },
    {
      "cell_type": "markdown",
      "source": [
        "## EDA casual_df and member_df\n",
        "EDA casual_df and member_df parallel to show the differences between 2 types of customers"
      ],
      "metadata": {
        "id": "VcfDLxv6WLc7"
      }
    },
    {
      "cell_type": "code",
      "source": [
        "plt.hist(df['member_casual'])"
      ],
      "metadata": {
        "colab": {
          "base_uri": "https://localhost:8080/",
          "height": 345
        },
        "id": "ZRF0Wso3mFIt",
        "outputId": "0fa2bbe7-2e41-4ce7-aa68-f87dc95af31e"
      },
      "execution_count": 136,
      "outputs": [
        {
          "output_type": "execute_result",
          "data": {
            "text/plain": [
              "(array([2082140.,       0.,       0.,       0.,       0.,       0.,\n",
              "              0.,       0.,       0., 1453366.]),\n",
              " array([0. , 0.1, 0.2, 0.3, 0.4, 0.5, 0.6, 0.7, 0.8, 0.9, 1. ]),\n",
              " <a list of 10 Patch objects>)"
            ]
          },
          "metadata": {},
          "execution_count": 136
        },
        {
          "output_type": "display_data",
          "data": {
            "text/plain": [
              "<Figure size 432x288 with 1 Axes>"
            ],
            "image/png": "[encoded data removed]"
          },
          "metadata": {
            "needs_background": "light"
          }
        }
      ]
    },
    {
      "cell_type": "markdown",
      "source": [
        "## Day_of_week"
      ],
      "metadata": {
        "id": "naS5Z-VVjbQY"
      }
    },
    {
      "cell_type": "code",
      "source": [
        "figure, (ax1,ax2) = plt.subplots(1,2, figsize=(10,5))\n",
        "\n",
        "ax1.hist(casual_df['day_of_week'],bins=7)\n",
        "ax2.hist(member_df['day_of_week'],bins=7)\n",
        "\n",
        "ax1.set_title(\"Distribution of day_of_week in casual_df\")\n",
        "ax2.set_title(\"Distribution of day_of_week in member_df\")\n",
        "\n",
        "plt.show()"
      ],
      "metadata": {
        "colab": {
          "base_uri": "https://localhost:8080/",
          "height": 336
        },
        "id": "OMhhlG56ZMqm",
        "outputId": "e9165461-ec4d-4acd-d7c0-1da073c63f8e"
      },
      "execution_count": 137,
      "outputs": [
        {
          "output_type": "display_data",
          "data": {
            "text/plain": [
              "<Figure size 720x360 with 2 Axes>"
            ],
            "image/png": "[encoded data removed]"
          },
          "metadata": {
            "needs_background": "light"
          }
        }
      ]
    },
    {
      "cell_type": "markdown",
      "source": [
        "* Casual customers are pretty high, it may because these customers ride for play outside\n",
        "\n",
        "* But in work days, the amount of customers is stable (we can concentrate on these customers)\n",
        "\n",
        "* With annual member, they ride almost all week, it may because they purchase annual membership to ride for work"
      ],
      "metadata": {
        "id": "bjqyrm7vsiSp"
      }
    },
    {
      "cell_type": "markdown",
      "source": [
        "### Rideable_type"
      ],
      "metadata": {
        "id": "fzvov3qYjX1G"
      }
    },
    {
      "cell_type": "code",
      "source": [
        "casual_df['rideable_type'].value_counts()"
      ],
      "metadata": {
        "colab": {
          "base_uri": "https://localhost:8080/"
        },
        "id": "VCII0tKUjDDP",
        "outputId": "b162eb2e-78a3-44cc-cc7d-6a26240db8f7"
      },
      "execution_count": 138,
      "outputs": [
        {
          "output_type": "execute_result",
          "data": {
            "text/plain": [
              "docked_bike      1126741\n",
              "electric_bike     187016\n",
              "classic_bike      139609\n",
              "Name: rideable_type, dtype: int64"
            ]
          },
          "metadata": {},
          "execution_count": 138
        }
      ]
    },
    {
      "cell_type": "code",
      "source": [
        "member_df['rideable_type'].value_counts()"
      ],
      "metadata": {
        "colab": {
          "base_uri": "https://localhost:8080/"
        },
        "id": "yVFqIL6DjN56",
        "outputId": "678494aa-182b-4212-d70a-b8f9dc651dc1"
      },
      "execution_count": 139,
      "outputs": [
        {
          "output_type": "execute_result",
          "data": {
            "text/plain": [
              "docked_bike      1409657\n",
              "classic_bike      386580\n",
              "electric_bike     285903\n",
              "Name: rideable_type, dtype: int64"
            ]
          },
          "metadata": {},
          "execution_count": 139
        }
      ]
    },
    {
      "cell_type": "code",
      "source": [
        "figure, (ax1,ax2) = plt.subplots(1,2, figsize=(10,5))\n",
        "\n",
        "ax1.hist(casual_df['rideable_type'])\n",
        "ax2.hist(member_df['rideable_type'])\n",
        "\n",
        "ax1.set_title(\"Distribution of rideable_type in casual_df\", pad = 20.)\n",
        "ax2.set_title(\"Distribution of rideable_type in member_df\", pad = 20.)\n",
        "\n",
        "plt.show()"
      ],
      "metadata": {
        "colab": {
          "base_uri": "https://localhost:8080/",
          "height": 351
        },
        "id": "XEHXoObghljn",
        "outputId": "8aad59ba-fdc1-4ea5-ac90-7f35a5aa0023"
      },
      "execution_count": 140,
      "outputs": [
        {
          "output_type": "display_data",
          "data": {
            "text/plain": [
              "<Figure size 720x360 with 2 Axes>"
            ],
            "image/png": "[encoded data removed]"
          },
          "metadata": {
            "needs_background": "light"
          }
        }
      ]
    },
    {
      "cell_type": "markdown",
      "source": [
        "## Analysis on ride_length"
      ],
      "metadata": {
        "id": "Oiq11AvPj4dJ"
      }
    },
    {
      "cell_type": "code",
      "source": [
        "figure, (ax1,ax2) = plt.subplots(1,2, figsize=(10,5))\n",
        "\n",
        "sns.scatterplot(data=casual_df['ride_length'].value_counts(),ax=ax1).set(title = \"Distribution of ride_length in casual_df\")\n",
        "sns.scatterplot(data=member_df['ride_length'].value_counts(),ax=ax2).set(title = \"Distribution of ride_length in member_df\")"
      ],
      "metadata": {
        "colab": {
          "base_uri": "https://localhost:8080/",
          "height": 353
        },
        "id": "6hb-NTa3j7r7",
        "outputId": "7f35f7a0-d4c8-4716-d363-a78a9c3b9444"
      },
      "execution_count": 141,
      "outputs": [
        {
          "output_type": "execute_result",
          "data": {
            "text/plain": [
              "[Text(0.5, 1.0, 'Distribution of ride_length in member_df')]"
            ]
          },
          "metadata": {},
          "execution_count": 141
        },
        {
          "output_type": "display_data",
          "data": {
            "text/plain": [
              "<Figure size 720x360 with 2 Axes>"
            ],
            "image/png": "[encoded data removed]"
          },
          "metadata": {
            "needs_background": "light"
          }
        }
      ]
    },
    {
      "cell_type": "code",
      "source": [
        "casual_df['ride_length'].describe()"
      ],
      "metadata": {
        "colab": {
          "base_uri": "https://localhost:8080/"
        },
        "id": "jc6b16jXKtpA",
        "outputId": "6bff2330-f9dc-4daa-d7b4-29ae200f20fc"
      },
      "execution_count": 142,
      "outputs": [
        {
          "output_type": "execute_result",
          "data": {
            "text/plain": [
              "count    1.453366e+06\n",
              "mean     4.533895e+01\n",
              "std      3.864232e+02\n",
              "min      1.017000e+00\n",
              "25%      1.195000e+01\n",
              "50%      2.166700e+01\n",
              "75%      4.093300e+01\n",
              "max      5.568388e+04\n",
              "Name: ride_length, dtype: float64"
            ]
          },
          "metadata": {},
          "execution_count": 142
        }
      ]
    },
    {
      "cell_type": "code",
      "source": [
        "member_df['ride_length'].describe()"
      ],
      "metadata": {
        "colab": {
          "base_uri": "https://localhost:8080/"
        },
        "id": "69i0RZczlwTM",
        "outputId": "c13923a1-9c13-49e7-b3b1-15578557da2c"
      },
      "execution_count": 203,
      "outputs": [
        {
          "output_type": "execute_result",
          "data": {
            "text/plain": [
              "count    2.082140e+06\n",
              "mean     1.602863e+01\n",
              "std      9.036375e+01\n",
              "min      1.017000e+00\n",
              "25%      6.750000e+00\n",
              "50%      1.166700e+01\n",
              "75%      2.018300e+01\n",
              "max      5.872003e+04\n",
              "Name: ride_length, dtype: float64"
            ]
          },
          "metadata": {},
          "execution_count": 203
        }
      ]
    },
    {
      "cell_type": "markdown",
      "source": [
        "## Time series of casual and member (from April 2020 to March 2021)"
      ],
      "metadata": {
        "id": "G6sVGsm2rwJq"
      }
    },
    {
      "cell_type": "code",
      "source": [
        "timeseries_casual = casual_df['date'].value_counts().sort_index()"
      ],
      "metadata": {
        "colab": {
          "base_uri": "https://localhost:8080/"
        },
        "id": "KRag6TTsZYFq",
        "outputId": "fef696f5-07ad-44f9-f4e4-12204d4a004b"
      },
      "execution_count": 188,
      "outputs": [
        {
          "output_type": "execute_result",
          "data": {
            "text/plain": [
              "2020-04-01     395\n",
              "2020-04-02     546\n",
              "2020-04-03     953\n",
              "2020-04-04     528\n",
              "2020-04-05     900\n",
              "              ... \n",
              "2021-04-26    5019\n",
              "2021-04-27    6939\n",
              "2021-04-28    1373\n",
              "2021-04-29    2577\n",
              "2021-04-30    3953\n",
              "Name: date, Length: 393, dtype: int64"
            ]
          },
          "metadata": {},
          "execution_count": 188
        }
      ]
    },
    {
      "cell_type": "code",
      "source": [
        "timeseries_member = member_df['date'].value_counts().sort_index()"
      ],
      "metadata": {
        "colab": {
          "base_uri": "https://localhost:8080/"
        },
        "id": "2MskfecXdhxP",
        "outputId": "16b2371a-77ea-4823-8e55-1983b2d566cf"
      },
      "execution_count": 189,
      "outputs": [
        {
          "output_type": "execute_result",
          "data": {
            "text/plain": [
              "2020-04-01    1863\n",
              "2020-04-02    2022\n",
              "2020-04-03    2535\n",
              "2020-04-04    1722\n",
              "2020-04-05    1949\n",
              "              ... \n",
              "2021-04-26    7549\n",
              "2021-04-27    9055\n",
              "2021-04-28    4342\n",
              "2021-04-29    5774\n",
              "2021-04-30    6499\n",
              "Name: date, Length: 393, dtype: int64"
            ]
          },
          "metadata": {},
          "execution_count": 189
        }
      ]
    },
    {
      "cell_type": "code",
      "source": [
        "# Draw Plot\n",
        "figure, (ax1,ax2) = plt.subplots(2,1, figsize=(15,7))\n",
        "plt.figure(figsize=(16,5), dpi=100)\n",
        "\n",
        "xlabel = \"Date\"\n",
        "ylabel = \"Counts\"\n",
        "\n",
        "ax1.plot(timeseries_casual.index, timeseries_casual[:])\n",
        "ax2.plot(timeseries_member.index, timeseries_member[:])\n",
        "\n",
        "plt.show()\n",
        "\n",
        "ax1.set_title(\"Time series of casual customers\")\n",
        "ax2.set_title(\"Time series of member customers\")\n",
        "\n",
        "ax1.xlabel = xlabel\n",
        "ax1.xlabel = xlabel\n",
        "\n",
        "ax1.ylabel = ylabel\n",
        "ax1.ylabel = ylabel"
      ],
      "metadata": {
        "colab": {
          "base_uri": "https://localhost:8080/",
          "height": 445
        },
        "id": "Tjd9fkwuZmgQ",
        "outputId": "1f86b46d-077d-4b05-b845-fa2184e26218"
      },
      "execution_count": 202,
      "outputs": [
        {
          "output_type": "display_data",
          "data": {
            "text/plain": [
              "<Figure size 1080x504 with 2 Axes>"
            ],
            "image/png": "[encoded data removed]"
          },
          "metadata": {
            "needs_background": "light"
          }
        },
        {
          "output_type": "display_data",
          "data": {
            "text/plain": [
              "<Figure size 1600x500 with 0 Axes>"
            ]
          },
          "metadata": {}
        }
      ]
    }
  ]
}