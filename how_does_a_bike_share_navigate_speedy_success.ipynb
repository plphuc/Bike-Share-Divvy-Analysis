{
  "metadata": {
    "kernelspec": {
      "language": "python",
      "display_name": "Python 3",
      "name": "python3"
    },
    "language_info": {
      "name": "python",
      "version": "3.7.12",
      "mimetype": "text/x-python",
      "codemirror_mode": {
        "name": "ipython",
        "version": 3
      },
      "pygments_lexer": "ipython3",
      "nbconvert_exporter": "python",
      "file_extension": ".py"
    },
    "colab": {
      "provenance": []
    }
  },
  "nbformat_minor": 0,
  "nbformat": 4,
  "cells": [
    {
      "cell_type": "markdown",
      "source": [
        "# Introduction\n",
        "\n",
        "This analysis for my Google Data Analytics Capstone - Case Study 1\n",
        "\n",
        "Scenario: \"*You are a junior DA working in the marketing analyst team at Cyclistic, a bike-share company in Chicago. The director of marketing believes the company’s future success depends on maximizing the number of annual memberships. Therefore,\n",
        "your team wants to **understand how casual riders and annual members use Cyclistic bikes differently**. From these insights,\n",
        "your team will design a new marketing strategy to convert casual riders into annual members*\"\n",
        "\n"
      ],
      "metadata": {
        "id": "V6pV3N2dr-EN"
      }
    },
    {
      "cell_type": "markdown",
      "source": [
        "# Ask\n",
        "\n",
        "The business task of the project is to anwser the question: **\"How do annual members and casual riders use Cyclistic bikes differently?\"**"
      ],
      "metadata": {
        "id": "bwfl0oNg1jkS"
      }
    },
    {
      "cell_type": "markdown",
      "source": [
        "# Prepare\n",
        "\n",
        "The data has been made available by Motivate International Inc. under this [license](https://ride.divvybikes.com/data-license-agreement). This is public data you can use to explore how different customer types are using Cyclistic bikes. But note that data-privacy issues prohibit you from using riders' personally identifiable information. Accordingly, I wouldn’t be able to connect pass purchases to credit card numbers to determine if casual riders live in the Cyclistic service area or if they have purchased multiple single passes."
      ],
      "metadata": {
        "id": "w3KkeuRA2GBz"
      }
    },
    {
      "cell_type": "markdown",
      "source": [
        "# Process\n",
        "\n",
        "I get data available in Kaggle and choose to use Python as the major tool for this project."
      ],
      "metadata": {
        "id": "Ah3U1SXOo_wa"
      }
    },
    {
      "cell_type": "markdown",
      "source": [
        "## Import dependencies"
      ],
      "metadata": {
        "id": "oofEKakjUQge"
      }
    },
    {
      "cell_type": "code",
      "source": [
        "import pandas as pd\n",
        "import numpy as np\n",
        "import matplotlib.pyplot as plt\n",
        "import seaborn as sns\n",
        "import datetime as dt"
      ],
      "metadata": {
        "execution": {
          "iopub.status.busy": "2022-12-18T03:06:52.055266Z",
          "iopub.execute_input": "2022-12-18T03:06:52.055801Z",
          "iopub.status.idle": "2022-12-18T03:06:53.814649Z",
          "shell.execute_reply.started": "2022-12-18T03:06:52.055713Z",
          "shell.execute_reply": "2022-12-18T03:06:53.813591Z"
        },
        "trusted": true,
        "id": "-uaO794NUQge"
      },
      "execution_count": 1,
      "outputs": []
    },
    {
      "cell_type": "markdown",
      "source": [
        "## Import data"
      ],
      "metadata": {
        "id": "0XC-1nw_UQgf"
      }
    },
    {
      "cell_type": "markdown",
      "source": [
        "Import from 13 individual csv files for each month (from April 2020 to April 2021) and check data structure as well as null values and data types of each columns."
      ],
      "metadata": {
        "id": "MIymC2yJpfGi"
      }
    },
    {
      "cell_type": "code",
      "source": [
        "!pip install opendatasets"
      ],
      "metadata": {
        "colab": {
          "base_uri": "https://localhost:8080/"
        },
        "id": "ZzbkXBQRayrN",
        "outputId": "ba2c3838-f95e-4912-e71a-ae6eac09f5d8"
      },
      "execution_count": 2,
      "outputs": [
        {
          "output_type": "stream",
          "name": "stdout",
          "text": [
            "Looking in indexes: https://pypi.org/simple, https://us-python.pkg.dev/colab-wheels/public/simple/\n",
            "Collecting opendatasets\n",
            "  Downloading opendatasets-0.1.22-py3-none-any.whl (15 kB)\n",
            "Requirement already satisfied: click in /usr/local/lib/python3.8/dist-packages (from opendatasets) (7.1.2)\n",
            "Requirement already satisfied: tqdm in /usr/local/lib/python3.8/dist-packages (from opendatasets) (4.64.1)\n",
            "Requirement already satisfied: kaggle in /usr/local/lib/python3.8/dist-packages (from opendatasets) (1.5.12)\n",
            "Requirement already satisfied: requests in /usr/local/lib/python3.8/dist-packages (from kaggle->opendatasets) (2.25.1)\n",
            "Requirement already satisfied: python-slugify in /usr/local/lib/python3.8/dist-packages (from kaggle->opendatasets) (7.0.0)\n",
            "Requirement already satisfied: urllib3 in /usr/local/lib/python3.8/dist-packages (from kaggle->opendatasets) (1.24.3)\n",
            "Requirement already satisfied: six>=1.10 in /usr/local/lib/python3.8/dist-packages (from kaggle->opendatasets) (1.15.0)\n",
            "Requirement already satisfied: certifi in /usr/local/lib/python3.8/dist-packages (from kaggle->opendatasets) (2022.12.7)\n",
            "Requirement already satisfied: python-dateutil in /usr/local/lib/python3.8/dist-packages (from kaggle->opendatasets) (2.8.2)\n",
            "Requirement already satisfied: text-unidecode>=1.3 in /usr/local/lib/python3.8/dist-packages (from python-slugify->kaggle->opendatasets) (1.3)\n",
            "Requirement already satisfied: chardet<5,>=3.0.2 in /usr/local/lib/python3.8/dist-packages (from requests->kaggle->opendatasets) (4.0.0)\n",
            "Requirement already satisfied: idna<3,>=2.5 in /usr/local/lib/python3.8/dist-packages (from requests->kaggle->opendatasets) (2.10)\n",
            "Installing collected packages: opendatasets\n",
            "Successfully installed opendatasets-0.1.22\n"
          ]
        }
      ]
    },
    {
      "cell_type": "code",
      "source": [
        "import json\n",
        "f = open(\"kaggle.json\")\n",
        "key = json.load(f)"
      ],
      "metadata": {
        "id": "M4cMZ2zMa9by"
      },
      "execution_count": 3,
      "outputs": []
    },
    {
      "cell_type": "code",
      "source": [
        "import opendatasets as od\n",
        "od.download(\"https://www.kaggle.com/datasets/andysantiago/cyclistics-data-april-2020-march-2021\")"
      ],
      "metadata": {
        "colab": {
          "base_uri": "https://localhost:8080/"
        },
        "id": "TTpz7EgyafKE",
        "outputId": "7d39a77e-0272-41ad-8330-8777363dab54"
      },
      "execution_count": 4,
      "outputs": [
        {
          "output_type": "stream",
          "name": "stdout",
          "text": [
            "Downloading cyclistics-data-april-2020-march-2021.zip to ./cyclistics-data-april-2020-march-2021\n"
          ]
        },
        {
          "output_type": "stream",
          "name": "stderr",
          "text": [
            "100%|██████████| 156M/156M [00:02<00:00, 80.0MB/s]\n"
          ]
        },
        {
          "output_type": "stream",
          "name": "stdout",
          "text": [
            "\n"
          ]
        }
      ]
    },
    {
      "cell_type": "code",
      "source": [
        "import os\n",
        "files = []\n",
        "for dirname, _, filenames in os.walk('/content/cyclistics-data-april-2020-march-2021'):\n",
        "    for filename in filenames:\n",
        "        files.append(os.path.join(dirname, filename))\n",
        "        \n",
        "files"
      ],
      "metadata": {
        "execution": {
          "iopub.status.busy": "2022-12-18T03:06:53.816818Z",
          "iopub.execute_input": "2022-12-18T03:06:53.817632Z",
          "iopub.status.idle": "2022-12-18T03:06:53.853860Z",
          "shell.execute_reply.started": "2022-12-18T03:06:53.817586Z",
          "shell.execute_reply": "2022-12-18T03:06:53.852937Z"
        },
        "trusted": true,
        "id": "f2Xzm-JuUQgg",
        "outputId": "a1609c85-cec7-4656-a369-51a54b7ee232",
        "colab": {
          "base_uri": "https://localhost:8080/"
        }
      },
      "execution_count": 5,
      "outputs": [
        {
          "output_type": "execute_result",
          "data": {
            "text/plain": [
              "['/content/cyclistics-data-april-2020-march-2021/202007-divvy-tripdata.csv',\n",
              " '/content/cyclistics-data-april-2020-march-2021/202104-divvy-tripdata.csv',\n",
              " '/content/cyclistics-data-april-2020-march-2021/202102-divvy-tripdata.csv',\n",
              " '/content/cyclistics-data-april-2020-march-2021/202010-divvy-tripdata.csv',\n",
              " '/content/cyclistics-data-april-2020-march-2021/202011-divvy-tripdata.csv',\n",
              " '/content/cyclistics-data-april-2020-march-2021/202103-divvy-tripdata.csv',\n",
              " '/content/cyclistics-data-april-2020-march-2021/202006-divvy-tripdata.csv',\n",
              " '/content/cyclistics-data-april-2020-march-2021/202009-divvy-tripdata.csv',\n",
              " '/content/cyclistics-data-april-2020-march-2021/202008-divvy-tripdata.csv',\n",
              " '/content/cyclistics-data-april-2020-march-2021/202012-divvy-tripdata.csv',\n",
              " '/content/cyclistics-data-april-2020-march-2021/202004-divvy-tripdata.csv',\n",
              " '/content/cyclistics-data-april-2020-march-2021/202101-divvy-tripdata.csv',\n",
              " '/content/cyclistics-data-april-2020-march-2021/202005-divvy-tripdata.csv']"
            ]
          },
          "metadata": {},
          "execution_count": 5
        }
      ]
    },
    {
      "cell_type": "code",
      "source": [
        "df = pd.concat((pd.read_csv(f) for f in files), ignore_index=True)\n",
        "df.head(5)"
      ],
      "metadata": {
        "execution": {
          "iopub.status.busy": "2022-12-18T03:06:53.861486Z",
          "iopub.execute_input": "2022-12-18T03:06:53.862220Z",
          "iopub.status.idle": "2022-12-18T03:07:18.470693Z",
          "shell.execute_reply.started": "2022-12-18T03:06:53.862184Z",
          "shell.execute_reply": "2022-12-18T03:07:18.469517Z"
        },
        "trusted": true,
        "id": "tZK5F4g_UQgh",
        "outputId": "8b7820b9-5fa0-4e63-f846-665c39888826",
        "colab": {
          "base_uri": "https://localhost:8080/",
          "height": 444
        }
      },
      "execution_count": 6,
      "outputs": [
        {
          "output_type": "execute_result",
          "data": {
            "text/plain": [
              "            ride_id rideable_type           started_at             ended_at  \\\n",
              "0  762198876D69004D   docked_bike  2020-07-09 15:22:02  2020-07-09 15:25:52   \n",
              "1  BEC9C9FBA0D4CF1B   docked_bike  2020-07-24 23:56:30  2020-07-25 00:20:17   \n",
              "2  D2FD8EA432C77EC1   docked_bike  2020-07-08 19:49:07  2020-07-08 19:56:22   \n",
              "3  54AE594E20B35881   docked_bike  2020-07-17 19:06:42  2020-07-17 19:27:38   \n",
              "4  54025FDC7440B56F   docked_bike  2020-07-04 10:39:57  2020-07-04 10:45:05   \n",
              "\n",
              "              start_station_name start_station_id           end_station_name  \\\n",
              "0          Ritchie Ct & Banks St            180.0   Wells St & Evergreen Ave   \n",
              "1         Halsted St & Roscoe St            299.0       Broadway & Ridge Ave   \n",
              "2  Lake Shore Dr & Diversey Pkwy            329.0  Clark St & Wellington Ave   \n",
              "3       LaSalle St & Illinois St            181.0    Clark St & Armitage Ave   \n",
              "4     Lake Shore Dr & North Blvd            268.0     Clark St & Schiller St   \n",
              "\n",
              "  end_station_id  start_lat  start_lng    end_lat    end_lng member_casual  \n",
              "0          291.0  41.906866 -87.626217  41.906724 -87.634830        member  \n",
              "1          461.0  41.943670 -87.648950  41.984045 -87.660274        member  \n",
              "2          156.0  41.932588 -87.636427  41.936497 -87.647539        casual  \n",
              "3           94.0  41.890762 -87.631697  41.918306 -87.636282        casual  \n",
              "4          301.0  41.911722 -87.626804  41.907993 -87.631501        member  "
            ],
            "text/html": [
              "\n",
              "  <div id=\"df-302cdd05-4bfc-4deb-a622-f0953b64dd76\">\n",
              "    <div class=\"colab-df-container\">\n",
              "      <div>\n",
              "<style scoped>\n",
              "    .dataframe tbody tr th:only-of-type {\n",
              "        vertical-align: middle;\n",
              "    }\n",
              "\n",
              "    .dataframe tbody tr th {\n",
              "        vertical-align: top;\n",
              "    }\n",
              "\n",
              "    .dataframe thead th {\n",
              "        text-align: right;\n",
              "    }\n",
              "</style>\n",
              "<table border=\"1\" class=\"dataframe\">\n",
              "  <thead>\n",
              "    <tr style=\"text-align: right;\">\n",
              "      <th></th>\n",
              "      <th>ride_id</th>\n",
              "      <th>rideable_type</th>\n",
              "      <th>started_at</th>\n",
              "      <th>ended_at</th>\n",
              "      <th>start_station_name</th>\n",
              "      <th>start_station_id</th>\n",
              "      <th>end_station_name</th>\n",
              "      <th>end_station_id</th>\n",
              "      <th>start_lat</th>\n",
              "      <th>start_lng</th>\n",
              "      <th>end_lat</th>\n",
              "      <th>end_lng</th>\n",
              "      <th>member_casual</th>\n",
              "    </tr>\n",
              "  </thead>\n",
              "  <tbody>\n",
              "    <tr>\n",
              "      <th>0</th>\n",
              "      <td>762198876D69004D</td>\n",
              "      <td>docked_bike</td>\n",
              "      <td>2020-07-09 15:22:02</td>\n",
              "      <td>2020-07-09 15:25:52</td>\n",
              "      <td>Ritchie Ct &amp; Banks St</td>\n",
              "      <td>180.0</td>\n",
              "      <td>Wells St &amp; Evergreen Ave</td>\n",
              "      <td>291.0</td>\n",
              "      <td>41.906866</td>\n",
              "      <td>-87.626217</td>\n",
              "      <td>41.906724</td>\n",
              "      <td>-87.634830</td>\n",
              "      <td>member</td>\n",
              "    </tr>\n",
              "    <tr>\n",
              "      <th>1</th>\n",
              "      <td>BEC9C9FBA0D4CF1B</td>\n",
              "      <td>docked_bike</td>\n",
              "      <td>2020-07-24 23:56:30</td>\n",
              "      <td>2020-07-25 00:20:17</td>\n",
              "      <td>Halsted St &amp; Roscoe St</td>\n",
              "      <td>299.0</td>\n",
              "      <td>Broadway &amp; Ridge Ave</td>\n",
              "      <td>461.0</td>\n",
              "      <td>41.943670</td>\n",
              "      <td>-87.648950</td>\n",
              "      <td>41.984045</td>\n",
              "      <td>-87.660274</td>\n",
              "      <td>member</td>\n",
              "    </tr>\n",
              "    <tr>\n",
              "      <th>2</th>\n",
              "      <td>D2FD8EA432C77EC1</td>\n",
              "      <td>docked_bike</td>\n",
              "      <td>2020-07-08 19:49:07</td>\n",
              "      <td>2020-07-08 19:56:22</td>\n",
              "      <td>Lake Shore Dr &amp; Diversey Pkwy</td>\n",
              "      <td>329.0</td>\n",
              "      <td>Clark St &amp; Wellington Ave</td>\n",
              "      <td>156.0</td>\n",
              "      <td>41.932588</td>\n",
              "      <td>-87.636427</td>\n",
              "      <td>41.936497</td>\n",
              "      <td>-87.647539</td>\n",
              "      <td>casual</td>\n",
              "    </tr>\n",
              "    <tr>\n",
              "      <th>3</th>\n",
              "      <td>54AE594E20B35881</td>\n",
              "      <td>docked_bike</td>\n",
              "      <td>2020-07-17 19:06:42</td>\n",
              "      <td>2020-07-17 19:27:38</td>\n",
              "      <td>LaSalle St &amp; Illinois St</td>\n",
              "      <td>181.0</td>\n",
              "      <td>Clark St &amp; Armitage Ave</td>\n",
              "      <td>94.0</td>\n",
              "      <td>41.890762</td>\n",
              "      <td>-87.631697</td>\n",
              "      <td>41.918306</td>\n",
              "      <td>-87.636282</td>\n",
              "      <td>casual</td>\n",
              "    </tr>\n",
              "    <tr>\n",
              "      <th>4</th>\n",
              "      <td>54025FDC7440B56F</td>\n",
              "      <td>docked_bike</td>\n",
              "      <td>2020-07-04 10:39:57</td>\n",
              "      <td>2020-07-04 10:45:05</td>\n",
              "      <td>Lake Shore Dr &amp; North Blvd</td>\n",
              "      <td>268.0</td>\n",
              "      <td>Clark St &amp; Schiller St</td>\n",
              "      <td>301.0</td>\n",
              "      <td>41.911722</td>\n",
              "      <td>-87.626804</td>\n",
              "      <td>41.907993</td>\n",
              "      <td>-87.631501</td>\n",
              "      <td>member</td>\n",
              "    </tr>\n",
              "  </tbody>\n",
              "</table>\n",
              "</div>\n",
              "      <button class=\"colab-df-convert\" onclick=\"convertToInteractive('df-302cdd05-4bfc-4deb-a622-f0953b64dd76')\"\n",
              "              title=\"Convert this dataframe to an interactive table.\"\n",
              "              style=\"display:none;\">\n",
              "        \n",
              "  <svg xmlns=\"http://www.w3.org/2000/svg\" height=\"24px\"viewBox=\"0 0 24 24\"\n",
              "       width=\"24px\">\n",
              "    <path d=\"M0 0h24v24H0V0z\" fill=\"none\"/>\n",
              "    <path d=\"M18.56 5.44l.94 2.06.94-2.06 2.06-.94-2.06-.94-.94-2.06-.94 2.06-2.06.94zm-11 1L8.5 8.5l.94-2.06 2.06-.94-2.06-.94L8.5 2.5l-.94 2.06-2.06.94zm10 10l.94 2.06.94-2.06 2.06-.94-2.06-.94-.94-2.06-.94 2.06-2.06.94z\"/><path d=\"M17.41 7.96l-1.37-1.37c-.4-.4-.92-.59-1.43-.59-.52 0-1.04.2-1.43.59L10.3 9.45l-7.72 7.72c-.78.78-.78 2.05 0 2.83L4 21.41c.39.39.9.59 1.41.59.51 0 1.02-.2 1.41-.59l7.78-7.78 2.81-2.81c.8-.78.8-2.07 0-2.86zM5.41 20L4 18.59l7.72-7.72 1.47 1.35L5.41 20z\"/>\n",
              "  </svg>\n",
              "      </button>\n",
              "      \n",
              "  <style>\n",
              "    .colab-df-container {\n",
              "      display:flex;\n",
              "      flex-wrap:wrap;\n",
              "      gap: 12px;\n",
              "    }\n",
              "\n",
              "    .colab-df-convert {\n",
              "      background-color: #E8F0FE;\n",
              "      border: none;\n",
              "      border-radius: 50%;\n",
              "      cursor: pointer;\n",
              "      display: none;\n",
              "      fill: #1967D2;\n",
              "      height: 32px;\n",
              "      padding: 0 0 0 0;\n",
              "      width: 32px;\n",
              "    }\n",
              "\n",
              "    .colab-df-convert:hover {\n",
              "      background-color: #E2EBFA;\n",
              "      box-shadow: 0px 1px 2px rgba(60, 64, 67, 0.3), 0px 1px 3px 1px rgba(60, 64, 67, 0.15);\n",
              "      fill: #174EA6;\n",
              "    }\n",
              "\n",
              "    [theme=dark] .colab-df-convert {\n",
              "      background-color: #3B4455;\n",
              "      fill: #D2E3FC;\n",
              "    }\n",
              "\n",
              "    [theme=dark] .colab-df-convert:hover {\n",
              "      background-color: #434B5C;\n",
              "      box-shadow: 0px 1px 3px 1px rgba(0, 0, 0, 0.15);\n",
              "      filter: drop-shadow(0px 1px 2px rgba(0, 0, 0, 0.3));\n",
              "      fill: #FFFFFF;\n",
              "    }\n",
              "  </style>\n",
              "\n",
              "      <script>\n",
              "        const buttonEl =\n",
              "          document.querySelector('#df-302cdd05-4bfc-4deb-a622-f0953b64dd76 button.colab-df-convert');\n",
              "        buttonEl.style.display =\n",
              "          google.colab.kernel.accessAllowed ? 'block' : 'none';\n",
              "\n",
              "        async function convertToInteractive(key) {\n",
              "          const element = document.querySelector('#df-302cdd05-4bfc-4deb-a622-f0953b64dd76');\n",
              "          const dataTable =\n",
              "            await google.colab.kernel.invokeFunction('convertToInteractive',\n",
              "                                                     [key], {});\n",
              "          if (!dataTable) return;\n",
              "\n",
              "          const docLinkHtml = 'Like what you see? Visit the ' +\n",
              "            '<a target=\"_blank\" href=https://colab.research.google.com/notebooks/data_table.ipynb>data table notebook</a>'\n",
              "            + ' to learn more about interactive tables.';\n",
              "          element.innerHTML = '';\n",
              "          dataTable['output_type'] = 'display_data';\n",
              "          await google.colab.output.renderOutput(dataTable, element);\n",
              "          const docLink = document.createElement('div');\n",
              "          docLink.innerHTML = docLinkHtml;\n",
              "          element.appendChild(docLink);\n",
              "        }\n",
              "      </script>\n",
              "    </div>\n",
              "  </div>\n",
              "  "
            ]
          },
          "metadata": {},
          "execution_count": 6
        }
      ]
    },
    {
      "cell_type": "code",
      "source": [
        "# Number of rows, columns\n",
        "print(f\"Number of rows: {df.shape[0]}\")\n",
        "print(f\"Number of columns: {df.shape[1]}\")"
      ],
      "metadata": {
        "colab": {
          "base_uri": "https://localhost:8080/"
        },
        "id": "TSBy_AGwfJYG",
        "outputId": "9271b175-beec-4929-a174-416d03d283a2"
      },
      "execution_count": 7,
      "outputs": [
        {
          "output_type": "stream",
          "name": "stdout",
          "text": [
            "Number of rows: 3826978\n",
            "Number of columns: 13\n"
          ]
        }
      ]
    },
    {
      "cell_type": "code",
      "source": [
        "# Number of duplicated rows\n",
        "print(f'Number of duplicated rows: {sum(df.duplicated())}')"
      ],
      "metadata": {
        "colab": {
          "base_uri": "https://localhost:8080/"
        },
        "id": "EIGjS8tagQoL",
        "outputId": "56d8e602-2510-4b7e-827b-ff242c951b22"
      },
      "execution_count": 8,
      "outputs": [
        {
          "output_type": "stream",
          "name": "stdout",
          "text": [
            "Number of duplicated rows: 0\n"
          ]
        }
      ]
    },
    {
      "cell_type": "code",
      "source": [
        "df.info()"
      ],
      "metadata": {
        "colab": {
          "base_uri": "https://localhost:8080/"
        },
        "id": "MGouna5LgTX7",
        "outputId": "610a9ee7-ba2c-4f00-8643-a1c48aa96342"
      },
      "execution_count": 9,
      "outputs": [
        {
          "output_type": "stream",
          "name": "stdout",
          "text": [
            "<class 'pandas.core.frame.DataFrame'>\n",
            "RangeIndex: 3826978 entries, 0 to 3826977\n",
            "Data columns (total 13 columns):\n",
            " #   Column              Dtype  \n",
            "---  ------              -----  \n",
            " 0   ride_id             object \n",
            " 1   rideable_type       object \n",
            " 2   started_at          object \n",
            " 3   ended_at            object \n",
            " 4   start_station_name  object \n",
            " 5   start_station_id    object \n",
            " 6   end_station_name    object \n",
            " 7   end_station_id      object \n",
            " 8   start_lat           float64\n",
            " 9   start_lng           float64\n",
            " 10  end_lat             float64\n",
            " 11  end_lng             float64\n",
            " 12  member_casual       object \n",
            "dtypes: float64(4), object(9)\n",
            "memory usage: 379.6+ MB\n"
          ]
        }
      ]
    },
    {
      "cell_type": "code",
      "source": [
        "# Number of null rows in each columns\n",
        "df.isnull().sum()"
      ],
      "metadata": {
        "colab": {
          "base_uri": "https://localhost:8080/"
        },
        "id": "CumQMr2XhNar",
        "outputId": "b365153a-7210-487e-f241-99aa6f546726"
      },
      "execution_count": 10,
      "outputs": [
        {
          "output_type": "execute_result",
          "data": {
            "text/plain": [
              "ride_id                    0\n",
              "rideable_type              0\n",
              "started_at                 0\n",
              "ended_at                   0\n",
              "start_station_name    148231\n",
              "start_station_id      148857\n",
              "end_station_name      171416\n",
              "end_station_id        171877\n",
              "start_lat                  0\n",
              "start_lng                  0\n",
              "end_lat                 5005\n",
              "end_lng                 5005\n",
              "member_casual              0\n",
              "dtype: int64"
            ]
          },
          "metadata": {},
          "execution_count": 10
        }
      ]
    },
    {
      "cell_type": "markdown",
      "source": [
        "## Preprocessing"
      ],
      "metadata": {
        "id": "fFu_NNNJfb2N"
      }
    },
    {
      "cell_type": "code",
      "source": [
        "# Remove null rows\n",
        "df.dropna(inplace = True)\n",
        "df.isnull().sum()"
      ],
      "metadata": {
        "colab": {
          "base_uri": "https://localhost:8080/"
        },
        "id": "4xpNj3mpFMN7",
        "outputId": "5d793d0e-7020-4377-b4f5-66bc053fb8c8"
      },
      "execution_count": 11,
      "outputs": [
        {
          "output_type": "execute_result",
          "data": {
            "text/plain": [
              "ride_id               0\n",
              "rideable_type         0\n",
              "started_at            0\n",
              "ended_at              0\n",
              "start_station_name    0\n",
              "start_station_id      0\n",
              "end_station_name      0\n",
              "end_station_id        0\n",
              "start_lat             0\n",
              "start_lng             0\n",
              "end_lat               0\n",
              "end_lng               0\n",
              "member_casual         0\n",
              "dtype: int64"
            ]
          },
          "metadata": {},
          "execution_count": 11
        }
      ]
    },
    {
      "cell_type": "code",
      "source": [
        "# Remove start_lat, end_lat, start_lng, end_lng as this data was dropped beginning in 2020 (as explaining in script)\n",
        "df.drop(columns = ['start_lat','start_lng','end_lat','end_lng'], inplace = True)"
      ],
      "metadata": {
        "id": "mWAm27tvicFf"
      },
      "execution_count": 12,
      "outputs": []
    },
    {
      "cell_type": "code",
      "source": [
        "# Convert ended_at and started_at to datetime\n",
        "df['ended_at'] = pd.to_datetime(df['ended_at'])\n",
        "df['started_at'] = pd.to_datetime(df['started_at'])"
      ],
      "metadata": {
        "execution": {
          "iopub.status.busy": "2022-12-18T03:07:18.475214Z",
          "iopub.execute_input": "2022-12-18T03:07:18.475569Z",
          "iopub.status.idle": "2022-12-18T03:07:20.310110Z",
          "shell.execute_reply.started": "2022-12-18T03:07:18.475499Z",
          "shell.execute_reply": "2022-12-18T03:07:20.308871Z"
        },
        "trusted": true,
        "id": "G27Ir5jFUQgh"
      },
      "execution_count": 13,
      "outputs": []
    },
    {
      "cell_type": "code",
      "source": [
        "# Calculate the range of each ride\n",
        "df['ride_length'] = df['ended_at'] - df['started_at']\n",
        "df['ride_length']"
      ],
      "metadata": {
        "execution": {
          "iopub.status.busy": "2022-12-18T03:07:20.311753Z",
          "iopub.execute_input": "2022-12-18T03:07:20.312134Z",
          "iopub.status.idle": "2022-12-18T03:07:20.397599Z",
          "shell.execute_reply.started": "2022-12-18T03:07:20.312091Z",
          "shell.execute_reply": "2022-12-18T03:07:20.394443Z"
        },
        "trusted": true,
        "id": "btrWjgAnUQgh",
        "outputId": "c9e1dadb-f163-4155-995b-5816a81d443a",
        "colab": {
          "base_uri": "https://localhost:8080/"
        }
      },
      "execution_count": 14,
      "outputs": [
        {
          "output_type": "execute_result",
          "data": {
            "text/plain": [
              "0         0 days 00:03:50\n",
              "1         0 days 00:23:47\n",
              "2         0 days 00:07:15\n",
              "3         0 days 00:20:56\n",
              "4         0 days 00:05:08\n",
              "                ...      \n",
              "3826973   0 days 00:40:52\n",
              "3826974   0 days 00:35:49\n",
              "3826975   0 days 00:07:38\n",
              "3826976   0 days 00:36:48\n",
              "3826977   0 days 00:39:25\n",
              "Name: ride_length, Length: 3592898, dtype: timedelta64[ns]"
            ]
          },
          "metadata": {},
          "execution_count": 14
        }
      ]
    },
    {
      "cell_type": "code",
      "source": [
        "# There are some rides where tripduration shows up as negative, including several hundred rides where \n",
        "# Divvy took bikes out of circulation for Quality Control reasons. We will want to delete these rides\n",
        "df['days'] = df['ride_length'].apply(lambda x: x.days)\n",
        "df = df[df['days']>=0]"
      ],
      "metadata": {
        "execution": {
          "iopub.status.busy": "2022-12-18T03:07:20.398906Z",
          "iopub.execute_input": "2022-12-18T03:07:20.399544Z",
          "iopub.status.idle": "2022-12-18T03:07:46.091048Z",
          "shell.execute_reply.started": "2022-12-18T03:07:20.399490Z",
          "shell.execute_reply": "2022-12-18T03:07:46.089922Z"
        },
        "trusted": true,
        "id": "IyOT_BT3UQgi"
      },
      "execution_count": 15,
      "outputs": []
    },
    {
      "cell_type": "code",
      "source": [
        "def time_to_minutes(td):\n",
        "#     hours = td.days*24 +  td.seconds // 3600\n",
        "#     minutes = (td.seconds%3600)//60\n",
        "#     seconds = (td.seconds%3600)%60\n",
        "    return round(td.days*60*24 + td.seconds/60,3)"
      ],
      "metadata": {
        "execution": {
          "iopub.status.busy": "2022-12-18T03:07:46.092772Z",
          "iopub.execute_input": "2022-12-18T03:07:46.093159Z",
          "iopub.status.idle": "2022-12-18T03:07:46.099217Z",
          "shell.execute_reply.started": "2022-12-18T03:07:46.093122Z",
          "shell.execute_reply": "2022-12-18T03:07:46.097972Z"
        },
        "trusted": true,
        "id": "3fYR4PpvUQgj"
      },
      "execution_count": 16,
      "outputs": []
    },
    {
      "cell_type": "code",
      "source": [
        "# Convert ride_length to minutes\n",
        "df['ride_length'] = df['ride_length'].apply(lambda x: time_to_minutes(x))"
      ],
      "metadata": {
        "execution": {
          "iopub.status.busy": "2022-12-18T03:07:46.101107Z",
          "iopub.execute_input": "2022-12-18T03:07:46.101569Z",
          "iopub.status.idle": "2022-12-18T03:08:10.981928Z",
          "shell.execute_reply.started": "2022-12-18T03:07:46.101531Z",
          "shell.execute_reply": "2022-12-18T03:08:10.980960Z"
        },
        "trusted": true,
        "id": "NRjgROCfUQgj"
      },
      "execution_count": 17,
      "outputs": []
    },
    {
      "cell_type": "code",
      "source": [
        "# Drop rows which ride_length equals 0\n",
        "df = df[df['ride_length'] > 1]"
      ],
      "metadata": {
        "id": "5GppD6VDMn6I"
      },
      "execution_count": 18,
      "outputs": []
    },
    {
      "cell_type": "code",
      "source": [
        "# Monday: 0, Sunday: 6\n",
        "df['day_of_week'] = df['started_at'].apply(lambda x: x.weekday()) "
      ],
      "metadata": {
        "execution": {
          "iopub.status.busy": "2022-12-18T03:08:10.996024Z",
          "iopub.execute_input": "2022-12-18T03:08:10.997739Z",
          "iopub.status.idle": "2022-12-18T03:08:26.679349Z",
          "shell.execute_reply.started": "2022-12-18T03:08:10.997705Z",
          "shell.execute_reply": "2022-12-18T03:08:26.678343Z"
        },
        "trusted": true,
        "id": "0_kHgszOUQgk"
      },
      "execution_count": 19,
      "outputs": []
    },
    {
      "cell_type": "code",
      "source": [
        "# Add day, month, year columns from started_at column\n",
        "df['day'] = df['started_at'].apply(lambda x: x.day)\n",
        "df['month'] = df['started_at'].apply(lambda x: x.month)\n",
        "df['year'] = df['started_at'].apply(lambda x: x.year)\n",
        "df['hours'] = df['started_at'].apply(lambda x: x.hour)"
      ],
      "metadata": {
        "id": "Nxon538tcKmH"
      },
      "execution_count": 20,
      "outputs": []
    },
    {
      "cell_type": "code",
      "source": [
        "df['date'] = df['started_at'].apply(lambda x: x.date())\n",
        "df['date'] = pd.to_datetime(df['date'])"
      ],
      "metadata": {
        "id": "BzHotUODY2Q_"
      },
      "execution_count": 21,
      "outputs": []
    },
    {
      "cell_type": "code",
      "source": [
        "df.info()"
      ],
      "metadata": {
        "colab": {
          "base_uri": "https://localhost:8080/"
        },
        "id": "Mta4MiEBNOhz",
        "outputId": "b68e63db-124a-4ef7-d3ff-9366ec4dc702"
      },
      "execution_count": 22,
      "outputs": [
        {
          "output_type": "stream",
          "name": "stdout",
          "text": [
            "<class 'pandas.core.frame.DataFrame'>\n",
            "Int64Index: 3535506 entries, 0 to 3826977\n",
            "Data columns (total 17 columns):\n",
            " #   Column              Dtype         \n",
            "---  ------              -----         \n",
            " 0   ride_id             object        \n",
            " 1   rideable_type       object        \n",
            " 2   started_at          datetime64[ns]\n",
            " 3   ended_at            datetime64[ns]\n",
            " 4   start_station_name  object        \n",
            " 5   start_station_id    object        \n",
            " 6   end_station_name    object        \n",
            " 7   end_station_id      object        \n",
            " 8   member_casual       object        \n",
            " 9   ride_length         float64       \n",
            " 10  days                int64         \n",
            " 11  day_of_week         int64         \n",
            " 12  day                 int64         \n",
            " 13  month               int64         \n",
            " 14  year                int64         \n",
            " 15  hours               int64         \n",
            " 16  date                datetime64[ns]\n",
            "dtypes: datetime64[ns](3), float64(1), int64(6), object(7)\n",
            "memory usage: 485.5+ MB\n"
          ]
        }
      ]
    },
    {
      "cell_type": "code",
      "source": [
        "df"
      ],
      "metadata": {
        "colab": {
          "base_uri": "https://localhost:8080/",
          "height": 835
        },
        "id": "6NuTeSG4VKd7",
        "outputId": "ef71d24e-cc9a-49be-8fc6-d62b03fe1323"
      },
      "execution_count": 23,
      "outputs": [
        {
          "output_type": "execute_result",
          "data": {
            "text/plain": [
              "                  ride_id rideable_type          started_at  \\\n",
              "0        762198876D69004D   docked_bike 2020-07-09 15:22:02   \n",
              "1        BEC9C9FBA0D4CF1B   docked_bike 2020-07-24 23:56:30   \n",
              "2        D2FD8EA432C77EC1   docked_bike 2020-07-08 19:49:07   \n",
              "3        54AE594E20B35881   docked_bike 2020-07-17 19:06:42   \n",
              "4        54025FDC7440B56F   docked_bike 2020-07-04 10:39:57   \n",
              "...                   ...           ...                 ...   \n",
              "3826973  11C316914A7AF2F9   docked_bike 2020-05-30 12:48:07   \n",
              "3826974  DEA1AB8AB6A5E995   docked_bike 2020-05-30 20:21:32   \n",
              "3826975  D9EBC47F8C828B6E   docked_bike 2020-05-24 11:27:42   \n",
              "3826976  9744AA400432C99D   docked_bike 2020-05-06 17:18:46   \n",
              "3826977  FA58B8D38B2B3C83   docked_bike 2020-05-25 18:01:00   \n",
              "\n",
              "                   ended_at             start_station_name start_station_id  \\\n",
              "0       2020-07-09 15:25:52          Ritchie Ct & Banks St            180.0   \n",
              "1       2020-07-25 00:20:17         Halsted St & Roscoe St            299.0   \n",
              "2       2020-07-08 19:56:22  Lake Shore Dr & Diversey Pkwy            329.0   \n",
              "3       2020-07-17 19:27:38       LaSalle St & Illinois St            181.0   \n",
              "4       2020-07-04 10:45:05     Lake Shore Dr & North Blvd            268.0   \n",
              "...                     ...                            ...              ...   \n",
              "3826973 2020-05-30 13:28:59          Michigan Ave & 8th St              623   \n",
              "3826974 2020-05-30 20:57:21    Michigan Ave & Jackson Blvd              284   \n",
              "3826975 2020-05-24 11:35:20      Larrabee St & Webster Ave              144   \n",
              "3826976 2020-05-06 17:55:34          Clark St & Berwyn Ave              463   \n",
              "3826977 2020-05-25 18:40:25        Streeter Dr & Grand Ave               35   \n",
              "\n",
              "                    end_station_name end_station_id member_casual  \\\n",
              "0           Wells St & Evergreen Ave          291.0        member   \n",
              "1               Broadway & Ridge Ave          461.0        member   \n",
              "2          Clark St & Wellington Ave          156.0        casual   \n",
              "3            Clark St & Armitage Ave           94.0        casual   \n",
              "4             Clark St & Schiller St          301.0        member   \n",
              "...                              ...            ...           ...   \n",
              "3826973         Broadway & Barry Ave          300.0        casual   \n",
              "3826974        Calumet Ave & 35th St          335.0        member   \n",
              "3826975  Racine Ave & Wrightwood Ave          343.0        casual   \n",
              "3826976       Damen Ave & Foster Ave          464.0        member   \n",
              "3826977    Cannon Dr & Fullerton Ave           34.0        member   \n",
              "\n",
              "         ride_length  days  day_of_week  day  month  year  hours       date  \n",
              "0              3.833     0            3    9      7  2020     15 2020-07-09  \n",
              "1             23.783     0            4   24      7  2020     23 2020-07-24  \n",
              "2              7.250     0            2    8      7  2020     19 2020-07-08  \n",
              "3             20.933     0            4   17      7  2020     19 2020-07-17  \n",
              "4              5.133     0            5    4      7  2020     10 2020-07-04  \n",
              "...              ...   ...          ...  ...    ...   ...    ...        ...  \n",
              "3826973       40.867     0            5   30      5  2020     12 2020-05-30  \n",
              "3826974       35.817     0            5   30      5  2020     20 2020-05-30  \n",
              "3826975        7.633     0            6   24      5  2020     11 2020-05-24  \n",
              "3826976       36.800     0            2    6      5  2020     17 2020-05-06  \n",
              "3826977       39.417     0            0   25      5  2020     18 2020-05-25  \n",
              "\n",
              "[3535506 rows x 17 columns]"
            ],
            "text/html": [
              "\n",
              "  <div id=\"df-dcfa68b5-6510-424b-b1c1-6b66550a7d15\">\n",
              "    <div class=\"colab-df-container\">\n",
              "      <div>\n",
              "<style scoped>\n",
              "    .dataframe tbody tr th:only-of-type {\n",
              "        vertical-align: middle;\n",
              "    }\n",
              "\n",
              "    .dataframe tbody tr th {\n",
              "        vertical-align: top;\n",
              "    }\n",
              "\n",
              "    .dataframe thead th {\n",
              "        text-align: right;\n",
              "    }\n",
              "</style>\n",
              "<table border=\"1\" class=\"dataframe\">\n",
              "  <thead>\n",
              "    <tr style=\"text-align: right;\">\n",
              "      <th></th>\n",
              "      <th>ride_id</th>\n",
              "      <th>rideable_type</th>\n",
              "      <th>started_at</th>\n",
              "      <th>ended_at</th>\n",
              "      <th>start_station_name</th>\n",
              "      <th>start_station_id</th>\n",
              "      <th>end_station_name</th>\n",
              "      <th>end_station_id</th>\n",
              "      <th>member_casual</th>\n",
              "      <th>ride_length</th>\n",
              "      <th>days</th>\n",
              "      <th>day_of_week</th>\n",
              "      <th>day</th>\n",
              "      <th>month</th>\n",
              "      <th>year</th>\n",
              "      <th>hours</th>\n",
              "      <th>date</th>\n",
              "    </tr>\n",
              "  </thead>\n",
              "  <tbody>\n",
              "    <tr>\n",
              "      <th>0</th>\n",
              "      <td>762198876D69004D</td>\n",
              "      <td>docked_bike</td>\n",
              "      <td>2020-07-09 15:22:02</td>\n",
              "      <td>2020-07-09 15:25:52</td>\n",
              "      <td>Ritchie Ct &amp; Banks St</td>\n",
              "      <td>180.0</td>\n",
              "      <td>Wells St &amp; Evergreen Ave</td>\n",
              "      <td>291.0</td>\n",
              "      <td>member</td>\n",
              "      <td>3.833</td>\n",
              "      <td>0</td>\n",
              "      <td>3</td>\n",
              "      <td>9</td>\n",
              "      <td>7</td>\n",
              "      <td>2020</td>\n",
              "      <td>15</td>\n",
              "      <td>2020-07-09</td>\n",
              "    </tr>\n",
              "    <tr>\n",
              "      <th>1</th>\n",
              "      <td>BEC9C9FBA0D4CF1B</td>\n",
              "      <td>docked_bike</td>\n",
              "      <td>2020-07-24 23:56:30</td>\n",
              "      <td>2020-07-25 00:20:17</td>\n",
              "      <td>Halsted St &amp; Roscoe St</td>\n",
              "      <td>299.0</td>\n",
              "      <td>Broadway &amp; Ridge Ave</td>\n",
              "      <td>461.0</td>\n",
              "      <td>member</td>\n",
              "      <td>23.783</td>\n",
              "      <td>0</td>\n",
              "      <td>4</td>\n",
              "      <td>24</td>\n",
              "      <td>7</td>\n",
              "      <td>2020</td>\n",
              "      <td>23</td>\n",
              "      <td>2020-07-24</td>\n",
              "    </tr>\n",
              "    <tr>\n",
              "      <th>2</th>\n",
              "      <td>D2FD8EA432C77EC1</td>\n",
              "      <td>docked_bike</td>\n",
              "      <td>2020-07-08 19:49:07</td>\n",
              "      <td>2020-07-08 19:56:22</td>\n",
              "      <td>Lake Shore Dr &amp; Diversey Pkwy</td>\n",
              "      <td>329.0</td>\n",
              "      <td>Clark St &amp; Wellington Ave</td>\n",
              "      <td>156.0</td>\n",
              "      <td>casual</td>\n",
              "      <td>7.250</td>\n",
              "      <td>0</td>\n",
              "      <td>2</td>\n",
              "      <td>8</td>\n",
              "      <td>7</td>\n",
              "      <td>2020</td>\n",
              "      <td>19</td>\n",
              "      <td>2020-07-08</td>\n",
              "    </tr>\n",
              "    <tr>\n",
              "      <th>3</th>\n",
              "      <td>54AE594E20B35881</td>\n",
              "      <td>docked_bike</td>\n",
              "      <td>2020-07-17 19:06:42</td>\n",
              "      <td>2020-07-17 19:27:38</td>\n",
              "      <td>LaSalle St &amp; Illinois St</td>\n",
              "      <td>181.0</td>\n",
              "      <td>Clark St &amp; Armitage Ave</td>\n",
              "      <td>94.0</td>\n",
              "      <td>casual</td>\n",
              "      <td>20.933</td>\n",
              "      <td>0</td>\n",
              "      <td>4</td>\n",
              "      <td>17</td>\n",
              "      <td>7</td>\n",
              "      <td>2020</td>\n",
              "      <td>19</td>\n",
              "      <td>2020-07-17</td>\n",
              "    </tr>\n",
              "    <tr>\n",
              "      <th>4</th>\n",
              "      <td>54025FDC7440B56F</td>\n",
              "      <td>docked_bike</td>\n",
              "      <td>2020-07-04 10:39:57</td>\n",
              "      <td>2020-07-04 10:45:05</td>\n",
              "      <td>Lake Shore Dr &amp; North Blvd</td>\n",
              "      <td>268.0</td>\n",
              "      <td>Clark St &amp; Schiller St</td>\n",
              "      <td>301.0</td>\n",
              "      <td>member</td>\n",
              "      <td>5.133</td>\n",
              "      <td>0</td>\n",
              "      <td>5</td>\n",
              "      <td>4</td>\n",
              "      <td>7</td>\n",
              "      <td>2020</td>\n",
              "      <td>10</td>\n",
              "      <td>2020-07-04</td>\n",
              "    </tr>\n",
              "    <tr>\n",
              "      <th>...</th>\n",
              "      <td>...</td>\n",
              "      <td>...</td>\n",
              "      <td>...</td>\n",
              "      <td>...</td>\n",
              "      <td>...</td>\n",
              "      <td>...</td>\n",
              "      <td>...</td>\n",
              "      <td>...</td>\n",
              "      <td>...</td>\n",
              "      <td>...</td>\n",
              "      <td>...</td>\n",
              "      <td>...</td>\n",
              "      <td>...</td>\n",
              "      <td>...</td>\n",
              "      <td>...</td>\n",
              "      <td>...</td>\n",
              "      <td>...</td>\n",
              "    </tr>\n",
              "    <tr>\n",
              "      <th>3826973</th>\n",
              "      <td>11C316914A7AF2F9</td>\n",
              "      <td>docked_bike</td>\n",
              "      <td>2020-05-30 12:48:07</td>\n",
              "      <td>2020-05-30 13:28:59</td>\n",
              "      <td>Michigan Ave &amp; 8th St</td>\n",
              "      <td>623</td>\n",
              "      <td>Broadway &amp; Barry Ave</td>\n",
              "      <td>300.0</td>\n",
              "      <td>casual</td>\n",
              "      <td>40.867</td>\n",
              "      <td>0</td>\n",
              "      <td>5</td>\n",
              "      <td>30</td>\n",
              "      <td>5</td>\n",
              "      <td>2020</td>\n",
              "      <td>12</td>\n",
              "      <td>2020-05-30</td>\n",
              "    </tr>\n",
              "    <tr>\n",
              "      <th>3826974</th>\n",
              "      <td>DEA1AB8AB6A5E995</td>\n",
              "      <td>docked_bike</td>\n",
              "      <td>2020-05-30 20:21:32</td>\n",
              "      <td>2020-05-30 20:57:21</td>\n",
              "      <td>Michigan Ave &amp; Jackson Blvd</td>\n",
              "      <td>284</td>\n",
              "      <td>Calumet Ave &amp; 35th St</td>\n",
              "      <td>335.0</td>\n",
              "      <td>member</td>\n",
              "      <td>35.817</td>\n",
              "      <td>0</td>\n",
              "      <td>5</td>\n",
              "      <td>30</td>\n",
              "      <td>5</td>\n",
              "      <td>2020</td>\n",
              "      <td>20</td>\n",
              "      <td>2020-05-30</td>\n",
              "    </tr>\n",
              "    <tr>\n",
              "      <th>3826975</th>\n",
              "      <td>D9EBC47F8C828B6E</td>\n",
              "      <td>docked_bike</td>\n",
              "      <td>2020-05-24 11:27:42</td>\n",
              "      <td>2020-05-24 11:35:20</td>\n",
              "      <td>Larrabee St &amp; Webster Ave</td>\n",
              "      <td>144</td>\n",
              "      <td>Racine Ave &amp; Wrightwood Ave</td>\n",
              "      <td>343.0</td>\n",
              "      <td>casual</td>\n",
              "      <td>7.633</td>\n",
              "      <td>0</td>\n",
              "      <td>6</td>\n",
              "      <td>24</td>\n",
              "      <td>5</td>\n",
              "      <td>2020</td>\n",
              "      <td>11</td>\n",
              "      <td>2020-05-24</td>\n",
              "    </tr>\n",
              "    <tr>\n",
              "      <th>3826976</th>\n",
              "      <td>9744AA400432C99D</td>\n",
              "      <td>docked_bike</td>\n",
              "      <td>2020-05-06 17:18:46</td>\n",
              "      <td>2020-05-06 17:55:34</td>\n",
              "      <td>Clark St &amp; Berwyn Ave</td>\n",
              "      <td>463</td>\n",
              "      <td>Damen Ave &amp; Foster Ave</td>\n",
              "      <td>464.0</td>\n",
              "      <td>member</td>\n",
              "      <td>36.800</td>\n",
              "      <td>0</td>\n",
              "      <td>2</td>\n",
              "      <td>6</td>\n",
              "      <td>5</td>\n",
              "      <td>2020</td>\n",
              "      <td>17</td>\n",
              "      <td>2020-05-06</td>\n",
              "    </tr>\n",
              "    <tr>\n",
              "      <th>3826977</th>\n",
              "      <td>FA58B8D38B2B3C83</td>\n",
              "      <td>docked_bike</td>\n",
              "      <td>2020-05-25 18:01:00</td>\n",
              "      <td>2020-05-25 18:40:25</td>\n",
              "      <td>Streeter Dr &amp; Grand Ave</td>\n",
              "      <td>35</td>\n",
              "      <td>Cannon Dr &amp; Fullerton Ave</td>\n",
              "      <td>34.0</td>\n",
              "      <td>member</td>\n",
              "      <td>39.417</td>\n",
              "      <td>0</td>\n",
              "      <td>0</td>\n",
              "      <td>25</td>\n",
              "      <td>5</td>\n",
              "      <td>2020</td>\n",
              "      <td>18</td>\n",
              "      <td>2020-05-25</td>\n",
              "    </tr>\n",
              "  </tbody>\n",
              "</table>\n",
              "<p>3535506 rows × 17 columns</p>\n",
              "</div>\n",
              "      <button class=\"colab-df-convert\" onclick=\"convertToInteractive('df-dcfa68b5-6510-424b-b1c1-6b66550a7d15')\"\n",
              "              title=\"Convert this dataframe to an interactive table.\"\n",
              "              style=\"display:none;\">\n",
              "        \n",
              "  <svg xmlns=\"http://www.w3.org/2000/svg\" height=\"24px\"viewBox=\"0 0 24 24\"\n",
              "       width=\"24px\">\n",
              "    <path d=\"M0 0h24v24H0V0z\" fill=\"none\"/>\n",
              "    <path d=\"M18.56 5.44l.94 2.06.94-2.06 2.06-.94-2.06-.94-.94-2.06-.94 2.06-2.06.94zm-11 1L8.5 8.5l.94-2.06 2.06-.94-2.06-.94L8.5 2.5l-.94 2.06-2.06.94zm10 10l.94 2.06.94-2.06 2.06-.94-2.06-.94-.94-2.06-.94 2.06-2.06.94z\"/><path d=\"M17.41 7.96l-1.37-1.37c-.4-.4-.92-.59-1.43-.59-.52 0-1.04.2-1.43.59L10.3 9.45l-7.72 7.72c-.78.78-.78 2.05 0 2.83L4 21.41c.39.39.9.59 1.41.59.51 0 1.02-.2 1.41-.59l7.78-7.78 2.81-2.81c.8-.78.8-2.07 0-2.86zM5.41 20L4 18.59l7.72-7.72 1.47 1.35L5.41 20z\"/>\n",
              "  </svg>\n",
              "      </button>\n",
              "      \n",
              "  <style>\n",
              "    .colab-df-container {\n",
              "      display:flex;\n",
              "      flex-wrap:wrap;\n",
              "      gap: 12px;\n",
              "    }\n",
              "\n",
              "    .colab-df-convert {\n",
              "      background-color: #E8F0FE;\n",
              "      border: none;\n",
              "      border-radius: 50%;\n",
              "      cursor: pointer;\n",
              "      display: none;\n",
              "      fill: #1967D2;\n",
              "      height: 32px;\n",
              "      padding: 0 0 0 0;\n",
              "      width: 32px;\n",
              "    }\n",
              "\n",
              "    .colab-df-convert:hover {\n",
              "      background-color: #E2EBFA;\n",
              "      box-shadow: 0px 1px 2px rgba(60, 64, 67, 0.3), 0px 1px 3px 1px rgba(60, 64, 67, 0.15);\n",
              "      fill: #174EA6;\n",
              "    }\n",
              "\n",
              "    [theme=dark] .colab-df-convert {\n",
              "      background-color: #3B4455;\n",
              "      fill: #D2E3FC;\n",
              "    }\n",
              "\n",
              "    [theme=dark] .colab-df-convert:hover {\n",
              "      background-color: #434B5C;\n",
              "      box-shadow: 0px 1px 3px 1px rgba(0, 0, 0, 0.15);\n",
              "      filter: drop-shadow(0px 1px 2px rgba(0, 0, 0, 0.3));\n",
              "      fill: #FFFFFF;\n",
              "    }\n",
              "  </style>\n",
              "\n",
              "      <script>\n",
              "        const buttonEl =\n",
              "          document.querySelector('#df-dcfa68b5-6510-424b-b1c1-6b66550a7d15 button.colab-df-convert');\n",
              "        buttonEl.style.display =\n",
              "          google.colab.kernel.accessAllowed ? 'block' : 'none';\n",
              "\n",
              "        async function convertToInteractive(key) {\n",
              "          const element = document.querySelector('#df-dcfa68b5-6510-424b-b1c1-6b66550a7d15');\n",
              "          const dataTable =\n",
              "            await google.colab.kernel.invokeFunction('convertToInteractive',\n",
              "                                                     [key], {});\n",
              "          if (!dataTable) return;\n",
              "\n",
              "          const docLinkHtml = 'Like what you see? Visit the ' +\n",
              "            '<a target=\"_blank\" href=https://colab.research.google.com/notebooks/data_table.ipynb>data table notebook</a>'\n",
              "            + ' to learn more about interactive tables.';\n",
              "          element.innerHTML = '';\n",
              "          dataTable['output_type'] = 'display_data';\n",
              "          await google.colab.output.renderOutput(dataTable, element);\n",
              "          const docLink = document.createElement('div');\n",
              "          docLink.innerHTML = docLinkHtml;\n",
              "          element.appendChild(docLink);\n",
              "        }\n",
              "      </script>\n",
              "    </div>\n",
              "  </div>\n",
              "  "
            ]
          },
          "metadata": {},
          "execution_count": 23
        }
      ]
    },
    {
      "cell_type": "markdown",
      "source": [
        "# EDA\n"
      ],
      "metadata": {
        "id": "y9b25HF_TQv8"
      }
    },
    {
      "cell_type": "markdown",
      "source": [
        "**EDA casual_df and member_df parallel to show the differences between 2 types of customers**"
      ],
      "metadata": {
        "id": "VcfDLxv6WLc7"
      }
    },
    {
      "cell_type": "code",
      "source": [
        "casual_df = df[df['member_casual'] == \"casual\"]\n",
        "casual_df"
      ],
      "metadata": {
        "colab": {
          "base_uri": "https://localhost:8080/",
          "height": 835
        },
        "id": "Gjenp1DLkrbW",
        "outputId": "4d35e96f-7ade-42b3-92a1-f6f2735093dc"
      },
      "execution_count": 24,
      "outputs": [
        {
          "output_type": "execute_result",
          "data": {
            "text/plain": [
              "                  ride_id rideable_type          started_at  \\\n",
              "2        D2FD8EA432C77EC1   docked_bike 2020-07-08 19:49:07   \n",
              "3        54AE594E20B35881   docked_bike 2020-07-17 19:06:42   \n",
              "5        65636B619E24257F   docked_bike 2020-07-28 16:33:03   \n",
              "13       7FA38D309B160B59   docked_bike 2020-07-08 23:06:14   \n",
              "16       8CE8D05B0044D078   docked_bike 2020-07-28 17:19:52   \n",
              "...                   ...           ...                 ...   \n",
              "3826961  10E2D5D3AC3F444D   docked_bike 2020-05-14 17:08:24   \n",
              "3826965  188D14B0D5A6B682   docked_bike 2020-05-24 15:27:08   \n",
              "3826972  055125722DF67BE4   docked_bike 2020-05-29 19:06:51   \n",
              "3826973  11C316914A7AF2F9   docked_bike 2020-05-30 12:48:07   \n",
              "3826975  D9EBC47F8C828B6E   docked_bike 2020-05-24 11:27:42   \n",
              "\n",
              "                   ended_at               start_station_name start_station_id  \\\n",
              "2       2020-07-08 19:56:22    Lake Shore Dr & Diversey Pkwy            329.0   \n",
              "3       2020-07-17 19:27:38         LaSalle St & Illinois St            181.0   \n",
              "5       2020-07-28 16:49:10       Fairbanks St & Superior St            635.0   \n",
              "13      2020-07-08 23:12:24                Wells St & Elm St            182.0   \n",
              "16      2020-07-28 17:43:41      Lake Shore Dr & Belmont Ave            334.0   \n",
              "...                     ...                              ...              ...   \n",
              "3826961 2020-05-14 17:54:14  Pine Grove Ave & Irving Park Rd              254   \n",
              "3826965 2020-05-24 15:33:33            Broadway & Berwyn Ave              294   \n",
              "3826972 2020-05-29 19:41:47          Broadway & Waveland Ave              304   \n",
              "3826973 2020-05-30 13:28:59            Michigan Ave & 8th St              623   \n",
              "3826975 2020-05-24 11:35:20        Larrabee St & Webster Ave              144   \n",
              "\n",
              "                        end_station_name end_station_id member_casual  \\\n",
              "2              Clark St & Wellington Ave          156.0        casual   \n",
              "3                Clark St & Armitage Ave           94.0        casual   \n",
              "5                  Wells St & Concord Ln          289.0        casual   \n",
              "13                 State St & Pearson St          106.0        casual   \n",
              "16        Lake Shore Dr & Wellington Ave          157.0        casual   \n",
              "...                                  ...            ...           ...   \n",
              "3826961  Pine Grove Ave & Irving Park Rd          254.0        casual   \n",
              "3826965      Winthrop Ave & Lawrence Ave          253.0        casual   \n",
              "3826972        Lincoln Park Conservatory          673.0        casual   \n",
              "3826973             Broadway & Barry Ave          300.0        casual   \n",
              "3826975      Racine Ave & Wrightwood Ave          343.0        casual   \n",
              "\n",
              "         ride_length  days  day_of_week  day  month  year  hours       date  \n",
              "2              7.250     0            2    8      7  2020     19 2020-07-08  \n",
              "3             20.933     0            4   17      7  2020     19 2020-07-17  \n",
              "5             16.117     0            1   28      7  2020     16 2020-07-28  \n",
              "13             6.167     0            2    8      7  2020     23 2020-07-08  \n",
              "16            23.817     0            1   28      7  2020     17 2020-07-28  \n",
              "...              ...   ...          ...  ...    ...   ...    ...        ...  \n",
              "3826961       45.833     0            3   14      5  2020     17 2020-05-14  \n",
              "3826965        6.417     0            6   24      5  2020     15 2020-05-24  \n",
              "3826972       34.933     0            4   29      5  2020     19 2020-05-29  \n",
              "3826973       40.867     0            5   30      5  2020     12 2020-05-30  \n",
              "3826975        7.633     0            6   24      5  2020     11 2020-05-24  \n",
              "\n",
              "[1453366 rows x 17 columns]"
            ],
            "text/html": [
              "\n",
              "  <div id=\"df-620e8a56-875a-4531-a202-d28245fe8fbe\">\n",
              "    <div class=\"colab-df-container\">\n",
              "      <div>\n",
              "<style scoped>\n",
              "    .dataframe tbody tr th:only-of-type {\n",
              "        vertical-align: middle;\n",
              "    }\n",
              "\n",
              "    .dataframe tbody tr th {\n",
              "        vertical-align: top;\n",
              "    }\n",
              "\n",
              "    .dataframe thead th {\n",
              "        text-align: right;\n",
              "    }\n",
              "</style>\n",
              "<table border=\"1\" class=\"dataframe\">\n",
              "  <thead>\n",
              "    <tr style=\"text-align: right;\">\n",
              "      <th></th>\n",
              "      <th>ride_id</th>\n",
              "      <th>rideable_type</th>\n",
              "      <th>started_at</th>\n",
              "      <th>ended_at</th>\n",
              "      <th>start_station_name</th>\n",
              "      <th>start_station_id</th>\n",
              "      <th>end_station_name</th>\n",
              "      <th>end_station_id</th>\n",
              "      <th>member_casual</th>\n",
              "      <th>ride_length</th>\n",
              "      <th>days</th>\n",
              "      <th>day_of_week</th>\n",
              "      <th>day</th>\n",
              "      <th>month</th>\n",
              "      <th>year</th>\n",
              "      <th>hours</th>\n",
              "      <th>date</th>\n",
              "    </tr>\n",
              "  </thead>\n",
              "  <tbody>\n",
              "    <tr>\n",
              "      <th>2</th>\n",
              "      <td>D2FD8EA432C77EC1</td>\n",
              "      <td>docked_bike</td>\n",
              "      <td>2020-07-08 19:49:07</td>\n",
              "      <td>2020-07-08 19:56:22</td>\n",
              "      <td>Lake Shore Dr &amp; Diversey Pkwy</td>\n",
              "      <td>329.0</td>\n",
              "      <td>Clark St &amp; Wellington Ave</td>\n",
              "      <td>156.0</td>\n",
              "      <td>casual</td>\n",
              "      <td>7.250</td>\n",
              "      <td>0</td>\n",
              "      <td>2</td>\n",
              "      <td>8</td>\n",
              "      <td>7</td>\n",
              "      <td>2020</td>\n",
              "      <td>19</td>\n",
              "      <td>2020-07-08</td>\n",
              "    </tr>\n",
              "    <tr>\n",
              "      <th>3</th>\n",
              "      <td>54AE594E20B35881</td>\n",
              "      <td>docked_bike</td>\n",
              "      <td>2020-07-17 19:06:42</td>\n",
              "      <td>2020-07-17 19:27:38</td>\n",
              "      <td>LaSalle St &amp; Illinois St</td>\n",
              "      <td>181.0</td>\n",
              "      <td>Clark St &amp; Armitage Ave</td>\n",
              "      <td>94.0</td>\n",
              "      <td>casual</td>\n",
              "      <td>20.933</td>\n",
              "      <td>0</td>\n",
              "      <td>4</td>\n",
              "      <td>17</td>\n",
              "      <td>7</td>\n",
              "      <td>2020</td>\n",
              "      <td>19</td>\n",
              "      <td>2020-07-17</td>\n",
              "    </tr>\n",
              "    <tr>\n",
              "      <th>5</th>\n",
              "      <td>65636B619E24257F</td>\n",
              "      <td>docked_bike</td>\n",
              "      <td>2020-07-28 16:33:03</td>\n",
              "      <td>2020-07-28 16:49:10</td>\n",
              "      <td>Fairbanks St &amp; Superior St</td>\n",
              "      <td>635.0</td>\n",
              "      <td>Wells St &amp; Concord Ln</td>\n",
              "      <td>289.0</td>\n",
              "      <td>casual</td>\n",
              "      <td>16.117</td>\n",
              "      <td>0</td>\n",
              "      <td>1</td>\n",
              "      <td>28</td>\n",
              "      <td>7</td>\n",
              "      <td>2020</td>\n",
              "      <td>16</td>\n",
              "      <td>2020-07-28</td>\n",
              "    </tr>\n",
              "    <tr>\n",
              "      <th>13</th>\n",
              "      <td>7FA38D309B160B59</td>\n",
              "      <td>docked_bike</td>\n",
              "      <td>2020-07-08 23:06:14</td>\n",
              "      <td>2020-07-08 23:12:24</td>\n",
              "      <td>Wells St &amp; Elm St</td>\n",
              "      <td>182.0</td>\n",
              "      <td>State St &amp; Pearson St</td>\n",
              "      <td>106.0</td>\n",
              "      <td>casual</td>\n",
              "      <td>6.167</td>\n",
              "      <td>0</td>\n",
              "      <td>2</td>\n",
              "      <td>8</td>\n",
              "      <td>7</td>\n",
              "      <td>2020</td>\n",
              "      <td>23</td>\n",
              "      <td>2020-07-08</td>\n",
              "    </tr>\n",
              "    <tr>\n",
              "      <th>16</th>\n",
              "      <td>8CE8D05B0044D078</td>\n",
              "      <td>docked_bike</td>\n",
              "      <td>2020-07-28 17:19:52</td>\n",
              "      <td>2020-07-28 17:43:41</td>\n",
              "      <td>Lake Shore Dr &amp; Belmont Ave</td>\n",
              "      <td>334.0</td>\n",
              "      <td>Lake Shore Dr &amp; Wellington Ave</td>\n",
              "      <td>157.0</td>\n",
              "      <td>casual</td>\n",
              "      <td>23.817</td>\n",
              "      <td>0</td>\n",
              "      <td>1</td>\n",
              "      <td>28</td>\n",
              "      <td>7</td>\n",
              "      <td>2020</td>\n",
              "      <td>17</td>\n",
              "      <td>2020-07-28</td>\n",
              "    </tr>\n",
              "    <tr>\n",
              "      <th>...</th>\n",
              "      <td>...</td>\n",
              "      <td>...</td>\n",
              "      <td>...</td>\n",
              "      <td>...</td>\n",
              "      <td>...</td>\n",
              "      <td>...</td>\n",
              "      <td>...</td>\n",
              "      <td>...</td>\n",
              "      <td>...</td>\n",
              "      <td>...</td>\n",
              "      <td>...</td>\n",
              "      <td>...</td>\n",
              "      <td>...</td>\n",
              "      <td>...</td>\n",
              "      <td>...</td>\n",
              "      <td>...</td>\n",
              "      <td>...</td>\n",
              "    </tr>\n",
              "    <tr>\n",
              "      <th>3826961</th>\n",
              "      <td>10E2D5D3AC3F444D</td>\n",
              "      <td>docked_bike</td>\n",
              "      <td>2020-05-14 17:08:24</td>\n",
              "      <td>2020-05-14 17:54:14</td>\n",
              "      <td>Pine Grove Ave &amp; Irving Park Rd</td>\n",
              "      <td>254</td>\n",
              "      <td>Pine Grove Ave &amp; Irving Park Rd</td>\n",
              "      <td>254.0</td>\n",
              "      <td>casual</td>\n",
              "      <td>45.833</td>\n",
              "      <td>0</td>\n",
              "      <td>3</td>\n",
              "      <td>14</td>\n",
              "      <td>5</td>\n",
              "      <td>2020</td>\n",
              "      <td>17</td>\n",
              "      <td>2020-05-14</td>\n",
              "    </tr>\n",
              "    <tr>\n",
              "      <th>3826965</th>\n",
              "      <td>188D14B0D5A6B682</td>\n",
              "      <td>docked_bike</td>\n",
              "      <td>2020-05-24 15:27:08</td>\n",
              "      <td>2020-05-24 15:33:33</td>\n",
              "      <td>Broadway &amp; Berwyn Ave</td>\n",
              "      <td>294</td>\n",
              "      <td>Winthrop Ave &amp; Lawrence Ave</td>\n",
              "      <td>253.0</td>\n",
              "      <td>casual</td>\n",
              "      <td>6.417</td>\n",
              "      <td>0</td>\n",
              "      <td>6</td>\n",
              "      <td>24</td>\n",
              "      <td>5</td>\n",
              "      <td>2020</td>\n",
              "      <td>15</td>\n",
              "      <td>2020-05-24</td>\n",
              "    </tr>\n",
              "    <tr>\n",
              "      <th>3826972</th>\n",
              "      <td>055125722DF67BE4</td>\n",
              "      <td>docked_bike</td>\n",
              "      <td>2020-05-29 19:06:51</td>\n",
              "      <td>2020-05-29 19:41:47</td>\n",
              "      <td>Broadway &amp; Waveland Ave</td>\n",
              "      <td>304</td>\n",
              "      <td>Lincoln Park Conservatory</td>\n",
              "      <td>673.0</td>\n",
              "      <td>casual</td>\n",
              "      <td>34.933</td>\n",
              "      <td>0</td>\n",
              "      <td>4</td>\n",
              "      <td>29</td>\n",
              "      <td>5</td>\n",
              "      <td>2020</td>\n",
              "      <td>19</td>\n",
              "      <td>2020-05-29</td>\n",
              "    </tr>\n",
              "    <tr>\n",
              "      <th>3826973</th>\n",
              "      <td>11C316914A7AF2F9</td>\n",
              "      <td>docked_bike</td>\n",
              "      <td>2020-05-30 12:48:07</td>\n",
              "      <td>2020-05-30 13:28:59</td>\n",
              "      <td>Michigan Ave &amp; 8th St</td>\n",
              "      <td>623</td>\n",
              "      <td>Broadway &amp; Barry Ave</td>\n",
              "      <td>300.0</td>\n",
              "      <td>casual</td>\n",
              "      <td>40.867</td>\n",
              "      <td>0</td>\n",
              "      <td>5</td>\n",
              "      <td>30</td>\n",
              "      <td>5</td>\n",
              "      <td>2020</td>\n",
              "      <td>12</td>\n",
              "      <td>2020-05-30</td>\n",
              "    </tr>\n",
              "    <tr>\n",
              "      <th>3826975</th>\n",
              "      <td>D9EBC47F8C828B6E</td>\n",
              "      <td>docked_bike</td>\n",
              "      <td>2020-05-24 11:27:42</td>\n",
              "      <td>2020-05-24 11:35:20</td>\n",
              "      <td>Larrabee St &amp; Webster Ave</td>\n",
              "      <td>144</td>\n",
              "      <td>Racine Ave &amp; Wrightwood Ave</td>\n",
              "      <td>343.0</td>\n",
              "      <td>casual</td>\n",
              "      <td>7.633</td>\n",
              "      <td>0</td>\n",
              "      <td>6</td>\n",
              "      <td>24</td>\n",
              "      <td>5</td>\n",
              "      <td>2020</td>\n",
              "      <td>11</td>\n",
              "      <td>2020-05-24</td>\n",
              "    </tr>\n",
              "  </tbody>\n",
              "</table>\n",
              "<p>1453366 rows × 17 columns</p>\n",
              "</div>\n",
              "      <button class=\"colab-df-convert\" onclick=\"convertToInteractive('df-620e8a56-875a-4531-a202-d28245fe8fbe')\"\n",
              "              title=\"Convert this dataframe to an interactive table.\"\n",
              "              style=\"display:none;\">\n",
              "        \n",
              "  <svg xmlns=\"http://www.w3.org/2000/svg\" height=\"24px\"viewBox=\"0 0 24 24\"\n",
              "       width=\"24px\">\n",
              "    <path d=\"M0 0h24v24H0V0z\" fill=\"none\"/>\n",
              "    <path d=\"M18.56 5.44l.94 2.06.94-2.06 2.06-.94-2.06-.94-.94-2.06-.94 2.06-2.06.94zm-11 1L8.5 8.5l.94-2.06 2.06-.94-2.06-.94L8.5 2.5l-.94 2.06-2.06.94zm10 10l.94 2.06.94-2.06 2.06-.94-2.06-.94-.94-2.06-.94 2.06-2.06.94z\"/><path d=\"M17.41 7.96l-1.37-1.37c-.4-.4-.92-.59-1.43-.59-.52 0-1.04.2-1.43.59L10.3 9.45l-7.72 7.72c-.78.78-.78 2.05 0 2.83L4 21.41c.39.39.9.59 1.41.59.51 0 1.02-.2 1.41-.59l7.78-7.78 2.81-2.81c.8-.78.8-2.07 0-2.86zM5.41 20L4 18.59l7.72-7.72 1.47 1.35L5.41 20z\"/>\n",
              "  </svg>\n",
              "      </button>\n",
              "      \n",
              "  <style>\n",
              "    .colab-df-container {\n",
              "      display:flex;\n",
              "      flex-wrap:wrap;\n",
              "      gap: 12px;\n",
              "    }\n",
              "\n",
              "    .colab-df-convert {\n",
              "      background-color: #E8F0FE;\n",
              "      border: none;\n",
              "      border-radius: 50%;\n",
              "      cursor: pointer;\n",
              "      display: none;\n",
              "      fill: #1967D2;\n",
              "      height: 32px;\n",
              "      padding: 0 0 0 0;\n",
              "      width: 32px;\n",
              "    }\n",
              "\n",
              "    .colab-df-convert:hover {\n",
              "      background-color: #E2EBFA;\n",
              "      box-shadow: 0px 1px 2px rgba(60, 64, 67, 0.3), 0px 1px 3px 1px rgba(60, 64, 67, 0.15);\n",
              "      fill: #174EA6;\n",
              "    }\n",
              "\n",
              "    [theme=dark] .colab-df-convert {\n",
              "      background-color: #3B4455;\n",
              "      fill: #D2E3FC;\n",
              "    }\n",
              "\n",
              "    [theme=dark] .colab-df-convert:hover {\n",
              "      background-color: #434B5C;\n",
              "      box-shadow: 0px 1px 3px 1px rgba(0, 0, 0, 0.15);\n",
              "      filter: drop-shadow(0px 1px 2px rgba(0, 0, 0, 0.3));\n",
              "      fill: #FFFFFF;\n",
              "    }\n",
              "  </style>\n",
              "\n",
              "      <script>\n",
              "        const buttonEl =\n",
              "          document.querySelector('#df-620e8a56-875a-4531-a202-d28245fe8fbe button.colab-df-convert');\n",
              "        buttonEl.style.display =\n",
              "          google.colab.kernel.accessAllowed ? 'block' : 'none';\n",
              "\n",
              "        async function convertToInteractive(key) {\n",
              "          const element = document.querySelector('#df-620e8a56-875a-4531-a202-d28245fe8fbe');\n",
              "          const dataTable =\n",
              "            await google.colab.kernel.invokeFunction('convertToInteractive',\n",
              "                                                     [key], {});\n",
              "          if (!dataTable) return;\n",
              "\n",
              "          const docLinkHtml = 'Like what you see? Visit the ' +\n",
              "            '<a target=\"_blank\" href=https://colab.research.google.com/notebooks/data_table.ipynb>data table notebook</a>'\n",
              "            + ' to learn more about interactive tables.';\n",
              "          element.innerHTML = '';\n",
              "          dataTable['output_type'] = 'display_data';\n",
              "          await google.colab.output.renderOutput(dataTable, element);\n",
              "          const docLink = document.createElement('div');\n",
              "          docLink.innerHTML = docLinkHtml;\n",
              "          element.appendChild(docLink);\n",
              "        }\n",
              "      </script>\n",
              "    </div>\n",
              "  </div>\n",
              "  "
            ]
          },
          "metadata": {},
          "execution_count": 24
        }
      ]
    },
    {
      "cell_type": "code",
      "source": [
        "member_df = df[df['member_casual'] == \"member\"]\n",
        "member_df"
      ],
      "metadata": {
        "colab": {
          "base_uri": "https://localhost:8080/",
          "height": 835
        },
        "id": "PnRgLRQUk848",
        "outputId": "cfad859c-2063-49aa-98a6-357a87da691b"
      },
      "execution_count": 25,
      "outputs": [
        {
          "output_type": "execute_result",
          "data": {
            "text/plain": [
              "                  ride_id rideable_type          started_at  \\\n",
              "0        762198876D69004D   docked_bike 2020-07-09 15:22:02   \n",
              "1        BEC9C9FBA0D4CF1B   docked_bike 2020-07-24 23:56:30   \n",
              "4        54025FDC7440B56F   docked_bike 2020-07-04 10:39:57   \n",
              "6        22DB94283ECFDBD2   docked_bike 2020-07-30 11:58:12   \n",
              "7        C9D789BEF899F4B8   docked_bike 2020-07-13 16:48:03   \n",
              "...                   ...           ...                 ...   \n",
              "3826970  52FCD430515759C6   docked_bike 2020-05-06 17:59:15   \n",
              "3826971  216D8CF259686F18   docked_bike 2020-05-30 16:05:41   \n",
              "3826974  DEA1AB8AB6A5E995   docked_bike 2020-05-30 20:21:32   \n",
              "3826976  9744AA400432C99D   docked_bike 2020-05-06 17:18:46   \n",
              "3826977  FA58B8D38B2B3C83   docked_bike 2020-05-25 18:01:00   \n",
              "\n",
              "                   ended_at           start_station_name start_station_id  \\\n",
              "0       2020-07-09 15:25:52        Ritchie Ct & Banks St            180.0   \n",
              "1       2020-07-25 00:20:17       Halsted St & Roscoe St            299.0   \n",
              "4       2020-07-04 10:45:05   Lake Shore Dr & North Blvd            268.0   \n",
              "6       2020-07-30 12:16:12    Bissell St & Armitage Ave            113.0   \n",
              "7       2020-07-13 16:57:00       St. Clair St & Erie St            211.0   \n",
              "...                     ...                          ...              ...   \n",
              "3826970 2020-05-06 18:07:18       Damen Ave & Foster Ave              464   \n",
              "3826971 2020-05-30 16:44:08      Damen Ave & Chicago Ave              128   \n",
              "3826974 2020-05-30 20:57:21  Michigan Ave & Jackson Blvd              284   \n",
              "3826976 2020-05-06 17:55:34        Clark St & Berwyn Ave              463   \n",
              "3826977 2020-05-25 18:40:25      Streeter Dr & Grand Ave               35   \n",
              "\n",
              "                    end_station_name end_station_id member_casual  \\\n",
              "0           Wells St & Evergreen Ave          291.0        member   \n",
              "1               Broadway & Ridge Ave          461.0        member   \n",
              "4             Clark St & Schiller St          301.0        member   \n",
              "6        Dearborn Pkwy & Delaware Pl          140.0        member   \n",
              "7          Franklin St & Chicago Ave           31.0        member   \n",
              "...                              ...            ...           ...   \n",
              "3826970        Clark St & Berwyn Ave          463.0        member   \n",
              "3826971      Carpenter St & Huron St           92.0        member   \n",
              "3826974        Calumet Ave & 35th St          335.0        member   \n",
              "3826976       Damen Ave & Foster Ave          464.0        member   \n",
              "3826977    Cannon Dr & Fullerton Ave           34.0        member   \n",
              "\n",
              "         ride_length  days  day_of_week  day  month  year  hours       date  \n",
              "0              3.833     0            3    9      7  2020     15 2020-07-09  \n",
              "1             23.783     0            4   24      7  2020     23 2020-07-24  \n",
              "4              5.133     0            5    4      7  2020     10 2020-07-04  \n",
              "6             18.000     0            3   30      7  2020     11 2020-07-30  \n",
              "7              8.950     0            0   13      7  2020     16 2020-07-13  \n",
              "...              ...   ...          ...  ...    ...   ...    ...        ...  \n",
              "3826970        8.050     0            2    6      5  2020     17 2020-05-06  \n",
              "3826971       38.450     0            5   30      5  2020     16 2020-05-30  \n",
              "3826974       35.817     0            5   30      5  2020     20 2020-05-30  \n",
              "3826976       36.800     0            2    6      5  2020     17 2020-05-06  \n",
              "3826977       39.417     0            0   25      5  2020     18 2020-05-25  \n",
              "\n",
              "[2082140 rows x 17 columns]"
            ],
            "text/html": [
              "\n",
              "  <div id=\"df-c578e5f5-a11e-4e43-8800-378e7f0e14fa\">\n",
              "    <div class=\"colab-df-container\">\n",
              "      <div>\n",
              "<style scoped>\n",
              "    .dataframe tbody tr th:only-of-type {\n",
              "        vertical-align: middle;\n",
              "    }\n",
              "\n",
              "    .dataframe tbody tr th {\n",
              "        vertical-align: top;\n",
              "    }\n",
              "\n",
              "    .dataframe thead th {\n",
              "        text-align: right;\n",
              "    }\n",
              "</style>\n",
              "<table border=\"1\" class=\"dataframe\">\n",
              "  <thead>\n",
              "    <tr style=\"text-align: right;\">\n",
              "      <th></th>\n",
              "      <th>ride_id</th>\n",
              "      <th>rideable_type</th>\n",
              "      <th>started_at</th>\n",
              "      <th>ended_at</th>\n",
              "      <th>start_station_name</th>\n",
              "      <th>start_station_id</th>\n",
              "      <th>end_station_name</th>\n",
              "      <th>end_station_id</th>\n",
              "      <th>member_casual</th>\n",
              "      <th>ride_length</th>\n",
              "      <th>days</th>\n",
              "      <th>day_of_week</th>\n",
              "      <th>day</th>\n",
              "      <th>month</th>\n",
              "      <th>year</th>\n",
              "      <th>hours</th>\n",
              "      <th>date</th>\n",
              "    </tr>\n",
              "  </thead>\n",
              "  <tbody>\n",
              "    <tr>\n",
              "      <th>0</th>\n",
              "      <td>762198876D69004D</td>\n",
              "      <td>docked_bike</td>\n",
              "      <td>2020-07-09 15:22:02</td>\n",
              "      <td>2020-07-09 15:25:52</td>\n",
              "      <td>Ritchie Ct &amp; Banks St</td>\n",
              "      <td>180.0</td>\n",
              "      <td>Wells St &amp; Evergreen Ave</td>\n",
              "      <td>291.0</td>\n",
              "      <td>member</td>\n",
              "      <td>3.833</td>\n",
              "      <td>0</td>\n",
              "      <td>3</td>\n",
              "      <td>9</td>\n",
              "      <td>7</td>\n",
              "      <td>2020</td>\n",
              "      <td>15</td>\n",
              "      <td>2020-07-09</td>\n",
              "    </tr>\n",
              "    <tr>\n",
              "      <th>1</th>\n",
              "      <td>BEC9C9FBA0D4CF1B</td>\n",
              "      <td>docked_bike</td>\n",
              "      <td>2020-07-24 23:56:30</td>\n",
              "      <td>2020-07-25 00:20:17</td>\n",
              "      <td>Halsted St &amp; Roscoe St</td>\n",
              "      <td>299.0</td>\n",
              "      <td>Broadway &amp; Ridge Ave</td>\n",
              "      <td>461.0</td>\n",
              "      <td>member</td>\n",
              "      <td>23.783</td>\n",
              "      <td>0</td>\n",
              "      <td>4</td>\n",
              "      <td>24</td>\n",
              "      <td>7</td>\n",
              "      <td>2020</td>\n",
              "      <td>23</td>\n",
              "      <td>2020-07-24</td>\n",
              "    </tr>\n",
              "    <tr>\n",
              "      <th>4</th>\n",
              "      <td>54025FDC7440B56F</td>\n",
              "      <td>docked_bike</td>\n",
              "      <td>2020-07-04 10:39:57</td>\n",
              "      <td>2020-07-04 10:45:05</td>\n",
              "      <td>Lake Shore Dr &amp; North Blvd</td>\n",
              "      <td>268.0</td>\n",
              "      <td>Clark St &amp; Schiller St</td>\n",
              "      <td>301.0</td>\n",
              "      <td>member</td>\n",
              "      <td>5.133</td>\n",
              "      <td>0</td>\n",
              "      <td>5</td>\n",
              "      <td>4</td>\n",
              "      <td>7</td>\n",
              "      <td>2020</td>\n",
              "      <td>10</td>\n",
              "      <td>2020-07-04</td>\n",
              "    </tr>\n",
              "    <tr>\n",
              "      <th>6</th>\n",
              "      <td>22DB94283ECFDBD2</td>\n",
              "      <td>docked_bike</td>\n",
              "      <td>2020-07-30 11:58:12</td>\n",
              "      <td>2020-07-30 12:16:12</td>\n",
              "      <td>Bissell St &amp; Armitage Ave</td>\n",
              "      <td>113.0</td>\n",
              "      <td>Dearborn Pkwy &amp; Delaware Pl</td>\n",
              "      <td>140.0</td>\n",
              "      <td>member</td>\n",
              "      <td>18.000</td>\n",
              "      <td>0</td>\n",
              "      <td>3</td>\n",
              "      <td>30</td>\n",
              "      <td>7</td>\n",
              "      <td>2020</td>\n",
              "      <td>11</td>\n",
              "      <td>2020-07-30</td>\n",
              "    </tr>\n",
              "    <tr>\n",
              "      <th>7</th>\n",
              "      <td>C9D789BEF899F4B8</td>\n",
              "      <td>docked_bike</td>\n",
              "      <td>2020-07-13 16:48:03</td>\n",
              "      <td>2020-07-13 16:57:00</td>\n",
              "      <td>St. Clair St &amp; Erie St</td>\n",
              "      <td>211.0</td>\n",
              "      <td>Franklin St &amp; Chicago Ave</td>\n",
              "      <td>31.0</td>\n",
              "      <td>member</td>\n",
              "      <td>8.950</td>\n",
              "      <td>0</td>\n",
              "      <td>0</td>\n",
              "      <td>13</td>\n",
              "      <td>7</td>\n",
              "      <td>2020</td>\n",
              "      <td>16</td>\n",
              "      <td>2020-07-13</td>\n",
              "    </tr>\n",
              "    <tr>\n",
              "      <th>...</th>\n",
              "      <td>...</td>\n",
              "      <td>...</td>\n",
              "      <td>...</td>\n",
              "      <td>...</td>\n",
              "      <td>...</td>\n",
              "      <td>...</td>\n",
              "      <td>...</td>\n",
              "      <td>...</td>\n",
              "      <td>...</td>\n",
              "      <td>...</td>\n",
              "      <td>...</td>\n",
              "      <td>...</td>\n",
              "      <td>...</td>\n",
              "      <td>...</td>\n",
              "      <td>...</td>\n",
              "      <td>...</td>\n",
              "      <td>...</td>\n",
              "    </tr>\n",
              "    <tr>\n",
              "      <th>3826970</th>\n",
              "      <td>52FCD430515759C6</td>\n",
              "      <td>docked_bike</td>\n",
              "      <td>2020-05-06 17:59:15</td>\n",
              "      <td>2020-05-06 18:07:18</td>\n",
              "      <td>Damen Ave &amp; Foster Ave</td>\n",
              "      <td>464</td>\n",
              "      <td>Clark St &amp; Berwyn Ave</td>\n",
              "      <td>463.0</td>\n",
              "      <td>member</td>\n",
              "      <td>8.050</td>\n",
              "      <td>0</td>\n",
              "      <td>2</td>\n",
              "      <td>6</td>\n",
              "      <td>5</td>\n",
              "      <td>2020</td>\n",
              "      <td>17</td>\n",
              "      <td>2020-05-06</td>\n",
              "    </tr>\n",
              "    <tr>\n",
              "      <th>3826971</th>\n",
              "      <td>216D8CF259686F18</td>\n",
              "      <td>docked_bike</td>\n",
              "      <td>2020-05-30 16:05:41</td>\n",
              "      <td>2020-05-30 16:44:08</td>\n",
              "      <td>Damen Ave &amp; Chicago Ave</td>\n",
              "      <td>128</td>\n",
              "      <td>Carpenter St &amp; Huron St</td>\n",
              "      <td>92.0</td>\n",
              "      <td>member</td>\n",
              "      <td>38.450</td>\n",
              "      <td>0</td>\n",
              "      <td>5</td>\n",
              "      <td>30</td>\n",
              "      <td>5</td>\n",
              "      <td>2020</td>\n",
              "      <td>16</td>\n",
              "      <td>2020-05-30</td>\n",
              "    </tr>\n",
              "    <tr>\n",
              "      <th>3826974</th>\n",
              "      <td>DEA1AB8AB6A5E995</td>\n",
              "      <td>docked_bike</td>\n",
              "      <td>2020-05-30 20:21:32</td>\n",
              "      <td>2020-05-30 20:57:21</td>\n",
              "      <td>Michigan Ave &amp; Jackson Blvd</td>\n",
              "      <td>284</td>\n",
              "      <td>Calumet Ave &amp; 35th St</td>\n",
              "      <td>335.0</td>\n",
              "      <td>member</td>\n",
              "      <td>35.817</td>\n",
              "      <td>0</td>\n",
              "      <td>5</td>\n",
              "      <td>30</td>\n",
              "      <td>5</td>\n",
              "      <td>2020</td>\n",
              "      <td>20</td>\n",
              "      <td>2020-05-30</td>\n",
              "    </tr>\n",
              "    <tr>\n",
              "      <th>3826976</th>\n",
              "      <td>9744AA400432C99D</td>\n",
              "      <td>docked_bike</td>\n",
              "      <td>2020-05-06 17:18:46</td>\n",
              "      <td>2020-05-06 17:55:34</td>\n",
              "      <td>Clark St &amp; Berwyn Ave</td>\n",
              "      <td>463</td>\n",
              "      <td>Damen Ave &amp; Foster Ave</td>\n",
              "      <td>464.0</td>\n",
              "      <td>member</td>\n",
              "      <td>36.800</td>\n",
              "      <td>0</td>\n",
              "      <td>2</td>\n",
              "      <td>6</td>\n",
              "      <td>5</td>\n",
              "      <td>2020</td>\n",
              "      <td>17</td>\n",
              "      <td>2020-05-06</td>\n",
              "    </tr>\n",
              "    <tr>\n",
              "      <th>3826977</th>\n",
              "      <td>FA58B8D38B2B3C83</td>\n",
              "      <td>docked_bike</td>\n",
              "      <td>2020-05-25 18:01:00</td>\n",
              "      <td>2020-05-25 18:40:25</td>\n",
              "      <td>Streeter Dr &amp; Grand Ave</td>\n",
              "      <td>35</td>\n",
              "      <td>Cannon Dr &amp; Fullerton Ave</td>\n",
              "      <td>34.0</td>\n",
              "      <td>member</td>\n",
              "      <td>39.417</td>\n",
              "      <td>0</td>\n",
              "      <td>0</td>\n",
              "      <td>25</td>\n",
              "      <td>5</td>\n",
              "      <td>2020</td>\n",
              "      <td>18</td>\n",
              "      <td>2020-05-25</td>\n",
              "    </tr>\n",
              "  </tbody>\n",
              "</table>\n",
              "<p>2082140 rows × 17 columns</p>\n",
              "</div>\n",
              "      <button class=\"colab-df-convert\" onclick=\"convertToInteractive('df-c578e5f5-a11e-4e43-8800-378e7f0e14fa')\"\n",
              "              title=\"Convert this dataframe to an interactive table.\"\n",
              "              style=\"display:none;\">\n",
              "        \n",
              "  <svg xmlns=\"http://www.w3.org/2000/svg\" height=\"24px\"viewBox=\"0 0 24 24\"\n",
              "       width=\"24px\">\n",
              "    <path d=\"M0 0h24v24H0V0z\" fill=\"none\"/>\n",
              "    <path d=\"M18.56 5.44l.94 2.06.94-2.06 2.06-.94-2.06-.94-.94-2.06-.94 2.06-2.06.94zm-11 1L8.5 8.5l.94-2.06 2.06-.94-2.06-.94L8.5 2.5l-.94 2.06-2.06.94zm10 10l.94 2.06.94-2.06 2.06-.94-2.06-.94-.94-2.06-.94 2.06-2.06.94z\"/><path d=\"M17.41 7.96l-1.37-1.37c-.4-.4-.92-.59-1.43-.59-.52 0-1.04.2-1.43.59L10.3 9.45l-7.72 7.72c-.78.78-.78 2.05 0 2.83L4 21.41c.39.39.9.59 1.41.59.51 0 1.02-.2 1.41-.59l7.78-7.78 2.81-2.81c.8-.78.8-2.07 0-2.86zM5.41 20L4 18.59l7.72-7.72 1.47 1.35L5.41 20z\"/>\n",
              "  </svg>\n",
              "      </button>\n",
              "      \n",
              "  <style>\n",
              "    .colab-df-container {\n",
              "      display:flex;\n",
              "      flex-wrap:wrap;\n",
              "      gap: 12px;\n",
              "    }\n",
              "\n",
              "    .colab-df-convert {\n",
              "      background-color: #E8F0FE;\n",
              "      border: none;\n",
              "      border-radius: 50%;\n",
              "      cursor: pointer;\n",
              "      display: none;\n",
              "      fill: #1967D2;\n",
              "      height: 32px;\n",
              "      padding: 0 0 0 0;\n",
              "      width: 32px;\n",
              "    }\n",
              "\n",
              "    .colab-df-convert:hover {\n",
              "      background-color: #E2EBFA;\n",
              "      box-shadow: 0px 1px 2px rgba(60, 64, 67, 0.3), 0px 1px 3px 1px rgba(60, 64, 67, 0.15);\n",
              "      fill: #174EA6;\n",
              "    }\n",
              "\n",
              "    [theme=dark] .colab-df-convert {\n",
              "      background-color: #3B4455;\n",
              "      fill: #D2E3FC;\n",
              "    }\n",
              "\n",
              "    [theme=dark] .colab-df-convert:hover {\n",
              "      background-color: #434B5C;\n",
              "      box-shadow: 0px 1px 3px 1px rgba(0, 0, 0, 0.15);\n",
              "      filter: drop-shadow(0px 1px 2px rgba(0, 0, 0, 0.3));\n",
              "      fill: #FFFFFF;\n",
              "    }\n",
              "  </style>\n",
              "\n",
              "      <script>\n",
              "        const buttonEl =\n",
              "          document.querySelector('#df-c578e5f5-a11e-4e43-8800-378e7f0e14fa button.colab-df-convert');\n",
              "        buttonEl.style.display =\n",
              "          google.colab.kernel.accessAllowed ? 'block' : 'none';\n",
              "\n",
              "        async function convertToInteractive(key) {\n",
              "          const element = document.querySelector('#df-c578e5f5-a11e-4e43-8800-378e7f0e14fa');\n",
              "          const dataTable =\n",
              "            await google.colab.kernel.invokeFunction('convertToInteractive',\n",
              "                                                     [key], {});\n",
              "          if (!dataTable) return;\n",
              "\n",
              "          const docLinkHtml = 'Like what you see? Visit the ' +\n",
              "            '<a target=\"_blank\" href=https://colab.research.google.com/notebooks/data_table.ipynb>data table notebook</a>'\n",
              "            + ' to learn more about interactive tables.';\n",
              "          element.innerHTML = '';\n",
              "          dataTable['output_type'] = 'display_data';\n",
              "          await google.colab.output.renderOutput(dataTable, element);\n",
              "          const docLink = document.createElement('div');\n",
              "          docLink.innerHTML = docLinkHtml;\n",
              "          element.appendChild(docLink);\n",
              "        }\n",
              "      </script>\n",
              "    </div>\n",
              "  </div>\n",
              "  "
            ]
          },
          "metadata": {},
          "execution_count": 25
        }
      ]
    },
    {
      "cell_type": "code",
      "source": [
        "plt.hist(df['member_casual'])"
      ],
      "metadata": {
        "colab": {
          "base_uri": "https://localhost:8080/",
          "height": 345
        },
        "id": "ZRF0Wso3mFIt",
        "outputId": "0df2404e-5cb6-4a7c-f5cb-9a96c35ad9b9"
      },
      "execution_count": 26,
      "outputs": [
        {
          "output_type": "execute_result",
          "data": {
            "text/plain": [
              "(array([2082140.,       0.,       0.,       0.,       0.,       0.,\n",
              "              0.,       0.,       0., 1453366.]),\n",
              " array([0. , 0.1, 0.2, 0.3, 0.4, 0.5, 0.6, 0.7, 0.8, 0.9, 1. ]),\n",
              " <a list of 10 Patch objects>)"
            ]
          },
          "metadata": {},
          "execution_count": 26
        },
        {
          "output_type": "display_data",
          "data": {
            "text/plain": [
              "<Figure size 432x288 with 1 Axes>"
            ],
            "image/png": "[encoded data removed]"
          },
          "metadata": {
            "needs_background": "light"
          }
        }
      ]
    },
    {
      "cell_type": "markdown",
      "source": [
        "The histogram show that total member usage is higher than total casual usage"
      ],
      "metadata": {
        "id": "o_aMsK-szAOD"
      }
    },
    {
      "cell_type": "markdown",
      "source": [
        "## Usage in day of week"
      ],
      "metadata": {
        "id": "naS5Z-VVjbQY"
      }
    },
    {
      "cell_type": "code",
      "source": [
        "figure, (ax1,ax2) = plt.subplots(1,2, figsize=(10,5))\n",
        "\n",
        "ax1.hist(casual_df['day_of_week'],bins=7)\n",
        "ax2.hist(member_df['day_of_week'],bins=7)\n",
        "\n",
        "ax1.set_title(\"Distribution of day_of_week in casual_df\")\n",
        "ax2.set_title(\"Distribution of day_of_week in member_df\")\n",
        "\n",
        "plt.show()"
      ],
      "metadata": {
        "colab": {
          "base_uri": "https://localhost:8080/",
          "height": 0
        },
        "id": "OMhhlG56ZMqm",
        "outputId": "44ca167a-935c-429a-cbb7-a145d7af1e15"
      },
      "execution_count": 27,
      "outputs": [
        {
          "output_type": "display_data",
          "data": {
            "text/plain": [
              "<Figure size 720x360 with 2 Axes>"
            ],
            "image/png": "[encoded data removed]"
          },
          "metadata": {
            "needs_background": "light"
          }
        }
      ]
    },
    {
      "cell_type": "markdown",
      "source": [
        "* Casual usage is very high in weekend compared to their usage in weekday.\n",
        "\n",
        "* The usage of member in all week is fairly stable.\n",
        "\n",
        "* In weekday, average usage for casual is lower than member.\n",
        "\n",
        "* In weekend, the usage is almost the same."
      ],
      "metadata": {
        "id": "bjqyrm7vsiSp"
      }
    },
    {
      "cell_type": "markdown",
      "source": [
        "## Usage at different hours of a day\n",
        "\n",
        "\n"
      ],
      "metadata": {
        "id": "mn-7c3noHoCd"
      }
    },
    {
      "cell_type": "code",
      "source": [
        "hours_casual = casual_df['hours'].value_counts().sort_index()\n",
        "hours_member = member_df['hours'].value_counts().sort_index()"
      ],
      "metadata": {
        "id": "0z8RKbLgJxbX"
      },
      "execution_count": 28,
      "outputs": []
    },
    {
      "cell_type": "code",
      "source": [
        "# Draw Plot\n",
        "figure, (ax1,ax2) = plt.subplots(2,1, figsize=(15,7))\n",
        "plt.figure(figsize=(16,5), dpi=100)\n",
        "\n",
        "xlabel = \"Date\"\n",
        "ylabel = \"Counts\"\n",
        "\n",
        "ax1.plot(hours_casual.index, hours_casual[:])\n",
        "ax2.plot(hours_member.index, hours_member[:])\n",
        "\n",
        "plt.show()\n",
        "\n",
        "ax1.set_title(\"Usage at different hours of a day (casual)\")\n",
        "ax2.set_title(\"Usage at different hours of a day (member)\")\n",
        "\n",
        "ax1.xlabel = xlabel\n",
        "ax1.xlabel = xlabel\n",
        "\n",
        "ax1.ylabel = ylabel\n",
        "ax1.ylabel = ylabel"
      ],
      "metadata": {
        "colab": {
          "base_uri": "https://localhost:8080/",
          "height": 445
        },
        "id": "Dzv8lIH7Hx58",
        "outputId": "18224925-cea5-4709-aa69-9dc3f1c28bb2"
      },
      "execution_count": 29,
      "outputs": [
        {
          "output_type": "display_data",
          "data": {
            "text/plain": [
              "<Figure size 1080x504 with 2 Axes>"
            ],
            "image/png": "[encoded data removed]"
          },
          "metadata": {
            "needs_background": "light"
          }
        },
        {
          "output_type": "display_data",
          "data": {
            "text/plain": [
              "<Figure size 1600x500 with 0 Axes>"
            ]
          },
          "metadata": {}
        }
      ]
    },
    {
      "cell_type": "markdown",
      "source": [
        "* The usage increase in the late afternoon time for both members and casual users.  \n",
        "\n",
        "* The usage of annual members is higher in morning time compared to casual users. "
      ],
      "metadata": {
        "id": "JW1EYV9AKYLo"
      }
    },
    {
      "cell_type": "markdown",
      "source": [
        "### Rideable_type"
      ],
      "metadata": {
        "id": "fzvov3qYjX1G"
      }
    },
    {
      "cell_type": "code",
      "source": [
        "casual_df['rideable_type'].value_counts()"
      ],
      "metadata": {
        "colab": {
          "base_uri": "https://localhost:8080/"
        },
        "id": "VCII0tKUjDDP",
        "outputId": "f2912242-f28f-494e-c598-95b80068b800"
      },
      "execution_count": 30,
      "outputs": [
        {
          "output_type": "execute_result",
          "data": {
            "text/plain": [
              "docked_bike      1126741\n",
              "electric_bike     187016\n",
              "classic_bike      139609\n",
              "Name: rideable_type, dtype: int64"
            ]
          },
          "metadata": {},
          "execution_count": 30
        }
      ]
    },
    {
      "cell_type": "code",
      "source": [
        "member_df['rideable_type'].value_counts()"
      ],
      "metadata": {
        "colab": {
          "base_uri": "https://localhost:8080/"
        },
        "id": "yVFqIL6DjN56",
        "outputId": "4765f776-bb40-4ecd-a657-491c58872af4"
      },
      "execution_count": 31,
      "outputs": [
        {
          "output_type": "execute_result",
          "data": {
            "text/plain": [
              "docked_bike      1409657\n",
              "classic_bike      386580\n",
              "electric_bike     285903\n",
              "Name: rideable_type, dtype: int64"
            ]
          },
          "metadata": {},
          "execution_count": 31
        }
      ]
    },
    {
      "cell_type": "code",
      "source": [
        "figure, (ax1,ax2) = plt.subplots(1,2, figsize=(10,5))\n",
        "\n",
        "ax1.hist(casual_df['rideable_type'])\n",
        "ax2.hist(member_df['rideable_type'])\n",
        "\n",
        "ax1.set_title(\"Distribution of rideable_type in casual_df\", pad = 20.)\n",
        "ax2.set_title(\"Distribution of rideable_type in member_df\", pad = 20.)\n",
        "\n",
        "plt.show()"
      ],
      "metadata": {
        "colab": {
          "base_uri": "https://localhost:8080/",
          "height": 351
        },
        "id": "XEHXoObghljn",
        "outputId": "d318998b-de0a-4a3d-8313-d908a70663c3"
      },
      "execution_count": 32,
      "outputs": [
        {
          "output_type": "display_data",
          "data": {
            "text/plain": [
              "<Figure size 720x360 with 2 Axes>"
            ],
            "image/png": "[encoded data removed]"
          },
          "metadata": {
            "needs_background": "light"
          }
        }
      ]
    },
    {
      "cell_type": "markdown",
      "source": [
        "Docked bike account for a higher percentage of all usage compared to other types with both casual customer and annual member. "
      ],
      "metadata": {
        "id": "EVACAVhR2Wtc"
      }
    },
    {
      "cell_type": "markdown",
      "source": [
        "## Analysis on ride_length"
      ],
      "metadata": {
        "id": "Oiq11AvPj4dJ"
      }
    },
    {
      "cell_type": "code",
      "source": [
        "figure, (ax1,ax2) = plt.subplots(1,2, figsize=(10,5))\n",
        "\n",
        "sns.scatterplot(data=casual_df['ride_length'].value_counts(),ax=ax1).set(title = \"Distribution of ride_length in casual_df\")\n",
        "sns.scatterplot(data=member_df['ride_length'].value_counts(),ax=ax2).set(title = \"Distribution of ride_length in member_df\")"
      ],
      "metadata": {
        "colab": {
          "base_uri": "https://localhost:8080/",
          "height": 353
        },
        "id": "6hb-NTa3j7r7",
        "outputId": "4cce03a2-6dbd-42ec-af1b-12334d6c1c5f"
      },
      "execution_count": 33,
      "outputs": [
        {
          "output_type": "execute_result",
          "data": {
            "text/plain": [
              "[Text(0.5, 1.0, 'Distribution of ride_length in member_df')]"
            ]
          },
          "metadata": {},
          "execution_count": 33
        },
        {
          "output_type": "display_data",
          "data": {
            "text/plain": [
              "<Figure size 720x360 with 2 Axes>"
            ],
            "image/png": "[encoded data removed]"
          },
          "metadata": {
            "needs_background": "light"
          }
        }
      ]
    },
    {
      "cell_type": "markdown",
      "source": [
        "Almost trips for members tend to have short durations, while casual users tend to keep a bike longer at each rent "
      ],
      "metadata": {
        "id": "RJEkk8Bj6m0R"
      }
    },
    {
      "cell_type": "markdown",
      "source": [
        "## Top popular stations"
      ],
      "metadata": {
        "id": "WlWWxzthC5IZ"
      }
    },
    {
      "cell_type": "markdown",
      "source": [
        "### Top 10 popular start stations "
      ],
      "metadata": {
        "id": "Zvl07i-j7SzZ"
      }
    },
    {
      "cell_type": "code",
      "source": [
        "start_station_member = member_df['start_station_name']\\\n",
        "                              .value_counts().head(10).sort_values()"
      ],
      "metadata": {
        "id": "KwCCbE-h7BTd"
      },
      "execution_count": 34,
      "outputs": []
    },
    {
      "cell_type": "code",
      "source": [
        "start_station_casual = casual_df['start_station_name']\\\n",
        "                              .value_counts().head(10).sort_values()"
      ],
      "metadata": {
        "id": "X3_U2I-f8A51"
      },
      "execution_count": 35,
      "outputs": []
    },
    {
      "cell_type": "code",
      "source": [
        "plt.barh(start_station_casual.index, start_station_casual[:])\n",
        "plt.title('Top 10 popular start stations(casual)')\n",
        "plt.ylabel(\"Station's name\")\n",
        "plt.show()"
      ],
      "metadata": {
        "id": "eVZVK-B89FMS",
        "outputId": "ea76e23a-60f0-4d89-d745-bd31f82f1bb2",
        "colab": {
          "base_uri": "https://localhost:8080/",
          "height": 281
        }
      },
      "execution_count": 36,
      "outputs": [
        {
          "output_type": "display_data",
          "data": {
            "text/plain": [
              "<Figure size 432x288 with 1 Axes>"
            ],
            "image/png": "[encoded data removed]"
          },
          "metadata": {
            "needs_background": "light"
          }
        }
      ]
    },
    {
      "cell_type": "markdown",
      "source": [
        "Streeter Dr & Grand Ave, Lake Shore Dr & Monroe St and Millennium Park are top stations that casual users choose to start their trips."
      ],
      "metadata": {
        "id": "xEpba3Wc_l3S"
      }
    },
    {
      "cell_type": "code",
      "source": [
        "plt.barh(start_station_member.index, start_station_member[:])\n",
        "plt.title('Top 10 popular start stations(member)')\n",
        "plt.ylabel(\"Station's name\")\n",
        "plt.show()"
      ],
      "metadata": {
        "id": "V6vB_5o38cjS",
        "outputId": "060f5d6f-8c14-4070-b806-5d6e0e7b002a",
        "colab": {
          "base_uri": "https://localhost:8080/",
          "height": 281
        }
      },
      "execution_count": 37,
      "outputs": [
        {
          "output_type": "display_data",
          "data": {
            "text/plain": [
              "<Figure size 432x288 with 1 Axes>"
            ],
            "image/png": "[encoded data removed]"
          },
          "metadata": {
            "needs_background": "light"
          }
        }
      ]
    },
    {
      "cell_type": "markdown",
      "source": [
        "Clark St & Elm St, St. Clair St & Erie St and Broadway & Barry Ave are most often start stations by members."
      ],
      "metadata": {
        "id": "w1IDabBy_3R2"
      }
    },
    {
      "cell_type": "markdown",
      "source": [
        "### Top 10 popular end stations"
      ],
      "metadata": {
        "id": "okzIKZraBb3L"
      }
    },
    {
      "cell_type": "code",
      "source": [
        "end_station_member = member_df['end_station_name']\\\n",
        "                              .value_counts().head(10).sort_values()"
      ],
      "metadata": {
        "id": "PXCKKq_fBih1"
      },
      "execution_count": 38,
      "outputs": []
    },
    {
      "cell_type": "code",
      "source": [
        "end_station_casual = casual_df['end_station_name']\\\n",
        "                              .value_counts().head(10).sort_values()"
      ],
      "metadata": {
        "id": "wcvSNIzgBqqB"
      },
      "execution_count": 39,
      "outputs": []
    },
    {
      "cell_type": "code",
      "source": [
        "plt.barh(end_station_member.index, end_station_member[:])\n",
        "plt.title('Top 10 popular end stations(member)')\n",
        "plt.ylabel(\"Station's name\")\n",
        "plt.show()"
      ],
      "metadata": {
        "id": "Xuxr7Yh9Byj-",
        "outputId": "e7773df3-7888-40f2-b0cb-022331829ba2",
        "colab": {
          "base_uri": "https://localhost:8080/",
          "height": 281
        }
      },
      "execution_count": 40,
      "outputs": [
        {
          "output_type": "display_data",
          "data": {
            "text/plain": [
              "<Figure size 432x288 with 1 Axes>"
            ],
            "image/png": "[encoded data removed]"
          },
          "metadata": {
            "needs_background": "light"
          }
        }
      ]
    },
    {
      "cell_type": "markdown",
      "source": [
        "Clark St & Eim St, St. Clair St & Erie St and Dearborn St & Erie St are top stations that annual users choose to end their trips."
      ],
      "metadata": {
        "id": "zuBOf-tzCEXn"
      }
    },
    {
      "cell_type": "code",
      "source": [
        "plt.barh(end_station_casual.index, end_station_casual[:])\n",
        "plt.title('Top 10 popular end stations(casual)')\n",
        "plt.ylabel(\"Station's name\")\n",
        "plt.show()"
      ],
      "metadata": {
        "id": "RiG0Qq4nBzCQ",
        "outputId": "33f4b310-70f6-4043-8647-1baede7f73a4",
        "colab": {
          "base_uri": "https://localhost:8080/",
          "height": 281
        }
      },
      "execution_count": 41,
      "outputs": [
        {
          "output_type": "display_data",
          "data": {
            "text/plain": [
              "<Figure size 432x288 with 1 Axes>"
            ],
            "image/png": "[encoded data removed]"
          },
          "metadata": {
            "needs_background": "light"
          }
        }
      ]
    },
    {
      "cell_type": "markdown",
      "source": [
        "Streeter Dr & Grand Ave, Lake Shore Dr & Monroe St and Milennium Park are most often start stations by casual."
      ],
      "metadata": {
        "id": "-PodiGp8C38z"
      }
    },
    {
      "cell_type": "markdown",
      "source": [
        "## Time series of casual and member"
      ],
      "metadata": {
        "id": "G6sVGsm2rwJq"
      }
    },
    {
      "cell_type": "code",
      "source": [
        "timeseries_casual = casual_df['date'].value_counts().sort_index()"
      ],
      "metadata": {
        "id": "KRag6TTsZYFq"
      },
      "execution_count": 42,
      "outputs": []
    },
    {
      "cell_type": "code",
      "source": [
        "timeseries_member = member_df['date'].value_counts().sort_index()"
      ],
      "metadata": {
        "id": "2MskfecXdhxP"
      },
      "execution_count": 43,
      "outputs": []
    },
    {
      "cell_type": "code",
      "source": [
        "# Draw Plot\n",
        "figure, (ax1,ax2) = plt.subplots(2,1, figsize=(15,7))\n",
        "plt.figure(figsize=(16,5), dpi=100)\n",
        "\n",
        "xlabel = \"Date\"\n",
        "ylabel = \"Counts\"\n",
        "\n",
        "ax1.plot(timeseries_casual.index, timeseries_casual[:])\n",
        "ax2.plot(timeseries_member.index, timeseries_member[:])\n",
        "\n",
        "plt.show()\n",
        "\n",
        "ax1.set_title(\"Time series of casual customers\")\n",
        "ax2.set_title(\"Time series of member customers\")\n",
        "\n",
        "ax1.xlabel = xlabel\n",
        "ax1.xlabel = xlabel\n",
        "\n",
        "ax1.ylabel = ylabel\n",
        "ax1.ylabel = ylabel"
      ],
      "metadata": {
        "colab": {
          "base_uri": "https://localhost:8080/",
          "height": 445
        },
        "id": "Tjd9fkwuZmgQ",
        "outputId": "a9e3fff7-196e-42a7-c556-450655e3544b"
      },
      "execution_count": 44,
      "outputs": [
        {
          "output_type": "display_data",
          "data": {
            "text/plain": [
              "<Figure size 1080x504 with 2 Axes>"
            ],
            "image/png": "[encoded data removed]"
          },
          "metadata": {
            "needs_background": "light"
          }
        },
        {
          "output_type": "display_data",
          "data": {
            "text/plain": [
              "<Figure size 1600x500 with 0 Axes>"
            ]
          },
          "metadata": {}
        }
      ]
    },
    {
      "cell_type": "markdown",
      "source": [
        "* Both member and casual use appear to be seasonal, with higher usage during summer time and lower usage during winter. \n",
        "\n",
        "* Casual usage has more obvious seasonality than member use, which peak from July to October and drop to a very low usage in months from December to February. "
      ],
      "metadata": {
        "id": "37DJqAg85I-y"
      }
    },
    {
      "cell_type": "markdown",
      "source": [
        "## Act"
      ],
      "metadata": {
        "id": "FVpM0cbjZioZ"
      }
    },
    {
      "cell_type": "markdown",
      "source": [
        "* Both member and casual usages are obviously seasonal, with usage peak during summer time and slack during winter -> The timing of the advertising and promotions during a year \n",
        "\n",
        "* Casual users tend to use bikes more in weekends, as compared to weekdays. Promotions and adversting on weekends could have better results\n",
        "\n",
        "* During 13:00 to 19:00 of a day, promotions for usage during that period of time would be attractive and any difference in privilege over that period of time could be a good reason for users to choose membership\n",
        "\n",
        "* Based on top start/end stations of casual users, Advertising could be concentrated on those stations. \n",
        "\n",
        "* There must be special reasons why some stations are most often used by members.  Further surveys and research to find out the reason and exploit it may take great benefits"
      ],
      "metadata": {
        "id": "4eF3w6HVZkQn"
      }
    }
  ]
}